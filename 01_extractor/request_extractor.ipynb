{
 "cells": [
  {
   "cell_type": "code",
   "execution_count": null,
   "metadata": {},
   "outputs": [],
   "source": []
  },
  {
   "cell_type": "code",
   "execution_count": 1,
   "metadata": {},
   "outputs": [],
   "source": [
    "import sys\n",
    "sys.path.append('..')\n",
    "\n",
    "import os\n",
    "import re\n",
    "import glob\n",
    "import ujson as json\n",
    "import pandas as pd\n",
    "from os.path import basename\n",
    "from pandarallel import pandarallel\n",
    "\n",
    "from helpers.utils import (\n",
    "    get_response_referrer_policy, \n",
    "    is_failed_visit,\n",
    "    get_ps1_or_host,\n",
    "    match_entity,\n",
    "    is_same_entity\n",
    ")\n"
   ]
  },
  {
   "cell_type": "markdown",
   "metadata": {},
   "source": [
    "## Open Folder and extract JSON file"
   ]
  },
  {
   "cell_type": "code",
   "execution_count": 2,
   "metadata": {},
   "outputs": [
    {
     "name": "stdout",
     "output_type": "stream",
     "text": [
      "Date: 2024-01-24\n",
      "Type: SG\n"
     ]
    }
   ],
   "source": [
    "# folder path\n",
    "# folder_path = '/data/referrer-policy/Small_scale_crawl/2025-02-08_noAct/*.json'\n",
    "# folder_path = '/data/referrer-policy/SF/2024-01-24_inner_collector_SF/*.json'\n",
    "# folder_path = '/data/referrer-policy/AMS/2024-01-24_inner_collector_AMS/*.json'\n",
    "folder_path = '/data/referrer-policy/SG/2024-01-24_inner_collector_SG/*.json'\n",
    "\n",
    "pattern_type = r'(\\d{4}-\\d{2}-\\d{2})_([^/]+)'\n",
    "match_type = re.search(pattern_type, folder_path)\n",
    "\n",
    "if match_type:\n",
    "    extract_date, extract_type = match_type.groups()\n",
    "    if \"inner_collector\" in extract_type:\n",
    "        extract_type = extract_type.replace(\"inner_collector_\", \"\")\n",
    "    print(\"Date:\", extract_date)\n",
    "    print(\"Type:\", extract_type)\n",
    "else:\n",
    "    print(\"No match found.\")\n"
   ]
  },
  {
   "cell_type": "code",
   "execution_count": 3,
   "metadata": {},
   "outputs": [
    {
     "name": "stdout",
     "output_type": "stream",
     "text": [
      "ERROR: Cannot find the url sklepanwen.pl_1226.json 'status'\n",
      "ERROR: Cannot find the url transparentdata.pl_2e89.json 'status'\n",
      "ERROR: Cannot find the url www.bestinjurylawyerusa.com_74ce.json 'status'\n",
      "ERROR: Cannot find the url transparentdata.pl_f889.json 'status'\n",
      "ERROR: Cannot find the url transparentdata.pl_b63c.json 'status'\n",
      "ERROR: Cannot find the url nombradas.report.cl_114d.json 'status'\n"
     ]
    },
    {
     "data": {
      "application/vnd.microsoft.datawrangler.viewer.v0+json": {
       "columns": [
        {
         "name": "index",
         "rawType": "int64",
         "type": "integer"
        },
        {
         "name": "init_url",
         "rawType": "object",
         "type": "string"
        },
        {
         "name": "final_url",
         "rawType": "object",
         "type": "string"
        },
        {
         "name": "failed_visit",
         "rawType": "bool",
         "type": "boolean"
        },
        {
         "name": "req_url",
         "rawType": "object",
         "type": "string"
        },
        {
         "name": "req_type",
         "rawType": "object",
         "type": "string"
        },
        {
         "name": "req_method",
         "rawType": "object",
         "type": "string"
        },
        {
         "name": "size",
         "rawType": "float64",
         "type": "float"
        },
        {
         "name": "status",
         "rawType": "float64",
         "type": "float"
        },
        {
         "name": "ref_pol",
         "rawType": "object",
         "type": "string"
        },
        {
         "name": "referrer",
         "rawType": "object",
         "type": "unknown"
        },
        {
         "name": "post_data",
         "rawType": "object",
         "type": "string"
        },
        {
         "name": "response_ref_policy",
         "rawType": "object",
         "type": "unknown"
        },
        {
         "name": "initiators",
         "rawType": "object",
         "type": "unknown"
        }
       ],
       "conversionMethod": "pd.DataFrame",
       "ref": "7d8b945d-58ae-4871-8b99-b5496d73adab",
       "rows": [
        [
         "0",
         "https://hippocampus.org/#1_7",
         "https://hippocampus.org/#1_7",
         "False",
         "https://hippocampus.org/",
         "document",
         "GET",
         "21821.0",
         "200.0",
         "strict-origin-when-cross-origin",
         null,
         "",
         null,
         "[]"
        ],
        [
         "1",
         "https://hippocampus.org/#1_7",
         "https://hippocampus.org/#1_7",
         "False",
         "https://hippocampus.org/HippoCampus/style/hippoUniversal.css;jsessionid=8870B0480C2616669475CC7D2F66DC18",
         "stylesheet",
         "GET",
         "939.0",
         "200.0",
         "strict-origin-when-cross-origin",
         "https://hippocampus.org/",
         "",
         null,
         "['https://hippocampus.org/']"
        ],
        [
         "2",
         "https://hippocampus.org/#1_7",
         "https://hippocampus.org/#1_7",
         "False",
         "https://hippocampus.org/HippoCampus/style/twoPanelNavigator.css;jsessionid=8870B0480C2616669475CC7D2F66DC18",
         "stylesheet",
         "GET",
         "1126.0",
         "200.0",
         "strict-origin-when-cross-origin",
         "https://hippocampus.org/",
         "",
         null,
         "['https://hippocampus.org/']"
        ],
        [
         "3",
         "https://hippocampus.org/#1_7",
         "https://hippocampus.org/#1_7",
         "False",
         "https://hippocampus.org/HippoCampus/style/welcomeBox.css;jsessionid=8870B0480C2616669475CC7D2F66DC18",
         "stylesheet",
         "GET",
         "781.0",
         "200.0",
         "strict-origin-when-cross-origin",
         "https://hippocampus.org/",
         "",
         null,
         "['https://hippocampus.org/']"
        ],
        [
         "4",
         "https://hippocampus.org/#1_7",
         "https://hippocampus.org/#1_7",
         "False",
         "https://hippocampus.org/HippoCampus/style/collectionsMenu.css;jsessionid=8870B0480C2616669475CC7D2F66DC18",
         "stylesheet",
         "GET",
         "778.0",
         "200.0",
         "strict-origin-when-cross-origin",
         "https://hippocampus.org/",
         "",
         null,
         "['https://hippocampus.org/']"
        ]
       ],
       "shape": {
        "columns": 13,
        "rows": 5
       }
      },
      "text/html": [
       "<div>\n",
       "<style scoped>\n",
       "    .dataframe tbody tr th:only-of-type {\n",
       "        vertical-align: middle;\n",
       "    }\n",
       "\n",
       "    .dataframe tbody tr th {\n",
       "        vertical-align: top;\n",
       "    }\n",
       "\n",
       "    .dataframe thead th {\n",
       "        text-align: right;\n",
       "    }\n",
       "</style>\n",
       "<table border=\"1\" class=\"dataframe\">\n",
       "  <thead>\n",
       "    <tr style=\"text-align: right;\">\n",
       "      <th></th>\n",
       "      <th>init_url</th>\n",
       "      <th>final_url</th>\n",
       "      <th>failed_visit</th>\n",
       "      <th>req_url</th>\n",
       "      <th>req_type</th>\n",
       "      <th>req_method</th>\n",
       "      <th>size</th>\n",
       "      <th>status</th>\n",
       "      <th>ref_pol</th>\n",
       "      <th>referrer</th>\n",
       "      <th>post_data</th>\n",
       "      <th>response_ref_policy</th>\n",
       "      <th>initiators</th>\n",
       "    </tr>\n",
       "  </thead>\n",
       "  <tbody>\n",
       "    <tr>\n",
       "      <th>0</th>\n",
       "      <td>https://hippocampus.org/#1_7</td>\n",
       "      <td>https://hippocampus.org/#1_7</td>\n",
       "      <td>False</td>\n",
       "      <td>https://hippocampus.org/</td>\n",
       "      <td>document</td>\n",
       "      <td>GET</td>\n",
       "      <td>21821.0</td>\n",
       "      <td>200.0</td>\n",
       "      <td>strict-origin-when-cross-origin</td>\n",
       "      <td>None</td>\n",
       "      <td></td>\n",
       "      <td>None</td>\n",
       "      <td>[]</td>\n",
       "    </tr>\n",
       "    <tr>\n",
       "      <th>1</th>\n",
       "      <td>https://hippocampus.org/#1_7</td>\n",
       "      <td>https://hippocampus.org/#1_7</td>\n",
       "      <td>False</td>\n",
       "      <td>https://hippocampus.org/HippoCampus/style/hipp...</td>\n",
       "      <td>stylesheet</td>\n",
       "      <td>GET</td>\n",
       "      <td>939.0</td>\n",
       "      <td>200.0</td>\n",
       "      <td>strict-origin-when-cross-origin</td>\n",
       "      <td>https://hippocampus.org/</td>\n",
       "      <td></td>\n",
       "      <td>None</td>\n",
       "      <td>[https://hippocampus.org/]</td>\n",
       "    </tr>\n",
       "    <tr>\n",
       "      <th>2</th>\n",
       "      <td>https://hippocampus.org/#1_7</td>\n",
       "      <td>https://hippocampus.org/#1_7</td>\n",
       "      <td>False</td>\n",
       "      <td>https://hippocampus.org/HippoCampus/style/twoP...</td>\n",
       "      <td>stylesheet</td>\n",
       "      <td>GET</td>\n",
       "      <td>1126.0</td>\n",
       "      <td>200.0</td>\n",
       "      <td>strict-origin-when-cross-origin</td>\n",
       "      <td>https://hippocampus.org/</td>\n",
       "      <td></td>\n",
       "      <td>None</td>\n",
       "      <td>[https://hippocampus.org/]</td>\n",
       "    </tr>\n",
       "    <tr>\n",
       "      <th>3</th>\n",
       "      <td>https://hippocampus.org/#1_7</td>\n",
       "      <td>https://hippocampus.org/#1_7</td>\n",
       "      <td>False</td>\n",
       "      <td>https://hippocampus.org/HippoCampus/style/welc...</td>\n",
       "      <td>stylesheet</td>\n",
       "      <td>GET</td>\n",
       "      <td>781.0</td>\n",
       "      <td>200.0</td>\n",
       "      <td>strict-origin-when-cross-origin</td>\n",
       "      <td>https://hippocampus.org/</td>\n",
       "      <td></td>\n",
       "      <td>None</td>\n",
       "      <td>[https://hippocampus.org/]</td>\n",
       "    </tr>\n",
       "    <tr>\n",
       "      <th>4</th>\n",
       "      <td>https://hippocampus.org/#1_7</td>\n",
       "      <td>https://hippocampus.org/#1_7</td>\n",
       "      <td>False</td>\n",
       "      <td>https://hippocampus.org/HippoCampus/style/coll...</td>\n",
       "      <td>stylesheet</td>\n",
       "      <td>GET</td>\n",
       "      <td>778.0</td>\n",
       "      <td>200.0</td>\n",
       "      <td>strict-origin-when-cross-origin</td>\n",
       "      <td>https://hippocampus.org/</td>\n",
       "      <td></td>\n",
       "      <td>None</td>\n",
       "      <td>[https://hippocampus.org/]</td>\n",
       "    </tr>\n",
       "  </tbody>\n",
       "</table>\n",
       "</div>"
      ],
      "text/plain": [
       "                       init_url                     final_url  failed_visit  \\\n",
       "0  https://hippocampus.org/#1_7  https://hippocampus.org/#1_7         False   \n",
       "1  https://hippocampus.org/#1_7  https://hippocampus.org/#1_7         False   \n",
       "2  https://hippocampus.org/#1_7  https://hippocampus.org/#1_7         False   \n",
       "3  https://hippocampus.org/#1_7  https://hippocampus.org/#1_7         False   \n",
       "4  https://hippocampus.org/#1_7  https://hippocampus.org/#1_7         False   \n",
       "\n",
       "                                             req_url    req_type req_method  \\\n",
       "0                           https://hippocampus.org/    document        GET   \n",
       "1  https://hippocampus.org/HippoCampus/style/hipp...  stylesheet        GET   \n",
       "2  https://hippocampus.org/HippoCampus/style/twoP...  stylesheet        GET   \n",
       "3  https://hippocampus.org/HippoCampus/style/welc...  stylesheet        GET   \n",
       "4  https://hippocampus.org/HippoCampus/style/coll...  stylesheet        GET   \n",
       "\n",
       "      size  status                          ref_pol                  referrer  \\\n",
       "0  21821.0   200.0  strict-origin-when-cross-origin                      None   \n",
       "1    939.0   200.0  strict-origin-when-cross-origin  https://hippocampus.org/   \n",
       "2   1126.0   200.0  strict-origin-when-cross-origin  https://hippocampus.org/   \n",
       "3    781.0   200.0  strict-origin-when-cross-origin  https://hippocampus.org/   \n",
       "4    778.0   200.0  strict-origin-when-cross-origin  https://hippocampus.org/   \n",
       "\n",
       "  post_data response_ref_policy                  initiators  \n",
       "0                          None                          []  \n",
       "1                          None  [https://hippocampus.org/]  \n",
       "2                          None  [https://hippocampus.org/]  \n",
       "3                          None  [https://hippocampus.org/]  \n",
       "4                          None  [https://hippocampus.org/]  "
      ]
     },
     "execution_count": 3,
     "metadata": {},
     "output_type": "execute_result"
    }
   ],
   "source": [
    "extracted_list = []\n",
    "\n",
    "for json_path in glob.glob(folder_path):\n",
    "    json_name = basename(json_path)\n",
    "\n",
    "    try:\n",
    "        # use utf-8-sig to handle bit order marking in json\n",
    "        with open(json_path, encoding='utf-8-sig') as file:\n",
    "            results = json.load(file)\n",
    "    except Exception as e:\n",
    "        print(\"ERROR: Cannot load the json\", json_name, e)\n",
    "        continue\n",
    "    \n",
    "    try:\n",
    "        init_url = results[\"initialUrl\"]\n",
    "        final_url = results[\"finalUrl\"]\n",
    "        failed_visit = is_failed_visit(results)\n",
    "    except Exception as e:\n",
    "        print(\"ERROR: Cannot find the url\", json_name, e)\n",
    "        continue\n",
    "    \n",
    "    results_data = results[\"data\"]\n",
    "\n",
    "    for req in results_data [\"requests\"]:\n",
    "        req_url = req[\"url\"]\n",
    "        req_method = req.get(\"method\")\n",
    "        req_type = (req['type']).lower()\n",
    "        post_data = req.get(\"postData\")\n",
    "        ref_pol = req.get('reqReferrerPolicy')\n",
    "        referrer = req.get('requestHeaders', {}).get('referer')\n",
    "        status = req.get(\"status\")\n",
    "        size = req.get(\"size\")\n",
    "        response_ref_policy = get_response_referrer_policy(req)\n",
    "        initiators = req.get(\"initiators\")\n",
    "        \n",
    "        extracted_details = [\n",
    "            init_url, final_url, failed_visit,\n",
    "            req_url, req_type, req_method, size, status, \n",
    "            ref_pol , referrer, post_data, response_ref_policy, initiators]\n",
    "        extracted_list.append(extracted_details)\n",
    "\n",
    "extractedDF = pd.DataFrame(extracted_list, \n",
    "                           columns=[\n",
    "                               \"init_url\",\n",
    "                               \"final_url\", \n",
    "                               \"failed_visit\",\n",
    "                               \"req_url\", \n",
    "                               \"req_type\",\n",
    "                               \"req_method\",\n",
    "                               \"size\",\n",
    "                               \"status\",\n",
    "                               \"ref_pol\",\n",
    "                               \"referrer\", \n",
    "                               \"post_data\",\n",
    "                               \"response_ref_policy\",\n",
    "                               \"initiators\"])\n",
    "extractedDF.head()\n"
   ]
  },
  {
   "cell_type": "code",
   "execution_count": 4,
   "metadata": {},
   "outputs": [],
   "source": [
    "# Create the directory if it doesn't exist\n",
    "# os.makedirs(\"../output\", exist_ok=True)\n",
    "os.makedirs(\"../output/data_raw\", exist_ok=True)"
   ]
  },
  {
   "cell_type": "code",
   "execution_count": 5,
   "metadata": {},
   "outputs": [
    {
     "data": {
      "application/vnd.microsoft.datawrangler.viewer.v0+json": {
       "columns": [
        {
         "name": "index",
         "rawType": "int64",
         "type": "integer"
        },
        {
         "name": "init_url",
         "rawType": "object",
         "type": "string"
        },
        {
         "name": "final_url",
         "rawType": "object",
         "type": "string"
        },
        {
         "name": "failed_visit",
         "rawType": "bool",
         "type": "boolean"
        },
        {
         "name": "req_url",
         "rawType": "object",
         "type": "string"
        },
        {
         "name": "req_type",
         "rawType": "object",
         "type": "string"
        },
        {
         "name": "req_method",
         "rawType": "object",
         "type": "string"
        },
        {
         "name": "size",
         "rawType": "float64",
         "type": "float"
        },
        {
         "name": "status",
         "rawType": "float64",
         "type": "float"
        },
        {
         "name": "ref_pol",
         "rawType": "object",
         "type": "string"
        },
        {
         "name": "referrer",
         "rawType": "object",
         "type": "unknown"
        },
        {
         "name": "post_data",
         "rawType": "object",
         "type": "string"
        },
        {
         "name": "response_ref_policy",
         "rawType": "object",
         "type": "unknown"
        },
        {
         "name": "initiators",
         "rawType": "object",
         "type": "unknown"
        }
       ],
       "conversionMethod": "pd.DataFrame",
       "ref": "5232e915-8b33-4baa-a082-1df3b534f44c",
       "rows": [
        [
         "0",
         "https://hippocampus.org/#1_7",
         "https://hippocampus.org/#1_7",
         "False",
         "https://hippocampus.org/",
         "document",
         "GET",
         "21821.0",
         "200.0",
         "strict-origin-when-cross-origin",
         null,
         "",
         null,
         "[]"
        ],
        [
         "1",
         "https://hippocampus.org/#1_7",
         "https://hippocampus.org/#1_7",
         "False",
         "https://hippocampus.org/HippoCampus/style/hippoUniversal.css;jsessionid=8870B0480C2616669475CC7D2F66DC18",
         "stylesheet",
         "GET",
         "939.0",
         "200.0",
         "strict-origin-when-cross-origin",
         "https://hippocampus.org/",
         "",
         null,
         "['https://hippocampus.org/']"
        ],
        [
         "2",
         "https://hippocampus.org/#1_7",
         "https://hippocampus.org/#1_7",
         "False",
         "https://hippocampus.org/HippoCampus/style/twoPanelNavigator.css;jsessionid=8870B0480C2616669475CC7D2F66DC18",
         "stylesheet",
         "GET",
         "1126.0",
         "200.0",
         "strict-origin-when-cross-origin",
         "https://hippocampus.org/",
         "",
         null,
         "['https://hippocampus.org/']"
        ],
        [
         "3",
         "https://hippocampus.org/#1_7",
         "https://hippocampus.org/#1_7",
         "False",
         "https://hippocampus.org/HippoCampus/style/welcomeBox.css;jsessionid=8870B0480C2616669475CC7D2F66DC18",
         "stylesheet",
         "GET",
         "781.0",
         "200.0",
         "strict-origin-when-cross-origin",
         "https://hippocampus.org/",
         "",
         null,
         "['https://hippocampus.org/']"
        ],
        [
         "4",
         "https://hippocampus.org/#1_7",
         "https://hippocampus.org/#1_7",
         "False",
         "https://hippocampus.org/HippoCampus/style/collectionsMenu.css;jsessionid=8870B0480C2616669475CC7D2F66DC18",
         "stylesheet",
         "GET",
         "778.0",
         "200.0",
         "strict-origin-when-cross-origin",
         "https://hippocampus.org/",
         "",
         null,
         "['https://hippocampus.org/']"
        ]
       ],
       "shape": {
        "columns": 13,
        "rows": 5
       }
      },
      "text/html": [
       "<div>\n",
       "<style scoped>\n",
       "    .dataframe tbody tr th:only-of-type {\n",
       "        vertical-align: middle;\n",
       "    }\n",
       "\n",
       "    .dataframe tbody tr th {\n",
       "        vertical-align: top;\n",
       "    }\n",
       "\n",
       "    .dataframe thead th {\n",
       "        text-align: right;\n",
       "    }\n",
       "</style>\n",
       "<table border=\"1\" class=\"dataframe\">\n",
       "  <thead>\n",
       "    <tr style=\"text-align: right;\">\n",
       "      <th></th>\n",
       "      <th>init_url</th>\n",
       "      <th>final_url</th>\n",
       "      <th>failed_visit</th>\n",
       "      <th>req_url</th>\n",
       "      <th>req_type</th>\n",
       "      <th>req_method</th>\n",
       "      <th>size</th>\n",
       "      <th>status</th>\n",
       "      <th>ref_pol</th>\n",
       "      <th>referrer</th>\n",
       "      <th>post_data</th>\n",
       "      <th>response_ref_policy</th>\n",
       "      <th>initiators</th>\n",
       "    </tr>\n",
       "  </thead>\n",
       "  <tbody>\n",
       "    <tr>\n",
       "      <th>0</th>\n",
       "      <td>https://hippocampus.org/#1_7</td>\n",
       "      <td>https://hippocampus.org/#1_7</td>\n",
       "      <td>False</td>\n",
       "      <td>https://hippocampus.org/</td>\n",
       "      <td>document</td>\n",
       "      <td>GET</td>\n",
       "      <td>21821.0</td>\n",
       "      <td>200.0</td>\n",
       "      <td>strict-origin-when-cross-origin</td>\n",
       "      <td>None</td>\n",
       "      <td></td>\n",
       "      <td>None</td>\n",
       "      <td>[]</td>\n",
       "    </tr>\n",
       "    <tr>\n",
       "      <th>1</th>\n",
       "      <td>https://hippocampus.org/#1_7</td>\n",
       "      <td>https://hippocampus.org/#1_7</td>\n",
       "      <td>False</td>\n",
       "      <td>https://hippocampus.org/HippoCampus/style/hipp...</td>\n",
       "      <td>stylesheet</td>\n",
       "      <td>GET</td>\n",
       "      <td>939.0</td>\n",
       "      <td>200.0</td>\n",
       "      <td>strict-origin-when-cross-origin</td>\n",
       "      <td>https://hippocampus.org/</td>\n",
       "      <td></td>\n",
       "      <td>None</td>\n",
       "      <td>[https://hippocampus.org/]</td>\n",
       "    </tr>\n",
       "    <tr>\n",
       "      <th>2</th>\n",
       "      <td>https://hippocampus.org/#1_7</td>\n",
       "      <td>https://hippocampus.org/#1_7</td>\n",
       "      <td>False</td>\n",
       "      <td>https://hippocampus.org/HippoCampus/style/twoP...</td>\n",
       "      <td>stylesheet</td>\n",
       "      <td>GET</td>\n",
       "      <td>1126.0</td>\n",
       "      <td>200.0</td>\n",
       "      <td>strict-origin-when-cross-origin</td>\n",
       "      <td>https://hippocampus.org/</td>\n",
       "      <td></td>\n",
       "      <td>None</td>\n",
       "      <td>[https://hippocampus.org/]</td>\n",
       "    </tr>\n",
       "    <tr>\n",
       "      <th>3</th>\n",
       "      <td>https://hippocampus.org/#1_7</td>\n",
       "      <td>https://hippocampus.org/#1_7</td>\n",
       "      <td>False</td>\n",
       "      <td>https://hippocampus.org/HippoCampus/style/welc...</td>\n",
       "      <td>stylesheet</td>\n",
       "      <td>GET</td>\n",
       "      <td>781.0</td>\n",
       "      <td>200.0</td>\n",
       "      <td>strict-origin-when-cross-origin</td>\n",
       "      <td>https://hippocampus.org/</td>\n",
       "      <td></td>\n",
       "      <td>None</td>\n",
       "      <td>[https://hippocampus.org/]</td>\n",
       "    </tr>\n",
       "    <tr>\n",
       "      <th>4</th>\n",
       "      <td>https://hippocampus.org/#1_7</td>\n",
       "      <td>https://hippocampus.org/#1_7</td>\n",
       "      <td>False</td>\n",
       "      <td>https://hippocampus.org/HippoCampus/style/coll...</td>\n",
       "      <td>stylesheet</td>\n",
       "      <td>GET</td>\n",
       "      <td>778.0</td>\n",
       "      <td>200.0</td>\n",
       "      <td>strict-origin-when-cross-origin</td>\n",
       "      <td>https://hippocampus.org/</td>\n",
       "      <td></td>\n",
       "      <td>None</td>\n",
       "      <td>[https://hippocampus.org/]</td>\n",
       "    </tr>\n",
       "  </tbody>\n",
       "</table>\n",
       "</div>"
      ],
      "text/plain": [
       "                       init_url                     final_url  failed_visit  \\\n",
       "0  https://hippocampus.org/#1_7  https://hippocampus.org/#1_7         False   \n",
       "1  https://hippocampus.org/#1_7  https://hippocampus.org/#1_7         False   \n",
       "2  https://hippocampus.org/#1_7  https://hippocampus.org/#1_7         False   \n",
       "3  https://hippocampus.org/#1_7  https://hippocampus.org/#1_7         False   \n",
       "4  https://hippocampus.org/#1_7  https://hippocampus.org/#1_7         False   \n",
       "\n",
       "                                             req_url    req_type req_method  \\\n",
       "0                           https://hippocampus.org/    document        GET   \n",
       "1  https://hippocampus.org/HippoCampus/style/hipp...  stylesheet        GET   \n",
       "2  https://hippocampus.org/HippoCampus/style/twoP...  stylesheet        GET   \n",
       "3  https://hippocampus.org/HippoCampus/style/welc...  stylesheet        GET   \n",
       "4  https://hippocampus.org/HippoCampus/style/coll...  stylesheet        GET   \n",
       "\n",
       "      size  status                          ref_pol                  referrer  \\\n",
       "0  21821.0   200.0  strict-origin-when-cross-origin                      None   \n",
       "1    939.0   200.0  strict-origin-when-cross-origin  https://hippocampus.org/   \n",
       "2   1126.0   200.0  strict-origin-when-cross-origin  https://hippocampus.org/   \n",
       "3    781.0   200.0  strict-origin-when-cross-origin  https://hippocampus.org/   \n",
       "4    778.0   200.0  strict-origin-when-cross-origin  https://hippocampus.org/   \n",
       "\n",
       "  post_data response_ref_policy                  initiators  \n",
       "0                          None                          []  \n",
       "1                          None  [https://hippocampus.org/]  \n",
       "2                          None  [https://hippocampus.org/]  \n",
       "3                          None  [https://hippocampus.org/]  \n",
       "4                          None  [https://hippocampus.org/]  "
      ]
     },
     "execution_count": 5,
     "metadata": {},
     "output_type": "execute_result"
    }
   ],
   "source": [
    "extractedDF.head()"
   ]
  },
  {
   "cell_type": "code",
   "execution_count": 6,
   "metadata": {},
   "outputs": [
    {
     "name": "stdout",
     "output_type": "stream",
     "text": [
      "INFO: Pandarallel will run on 16 workers.\n",
      "INFO: Pandarallel will use Memory file system to transfer data between the main process and workers.\n"
     ]
    }
   ],
   "source": [
    "pandarallel.initialize()"
   ]
  },
  {
   "cell_type": "code",
   "execution_count": 7,
   "metadata": {},
   "outputs": [],
   "source": [
    "df_entity = pd.read_json('../helpers/domain_map.json')"
   ]
  },
  {
   "cell_type": "code",
   "execution_count": 8,
   "metadata": {},
   "outputs": [],
   "source": [
    "extractedDF['final_host'] = extractedDF.parallel_apply(lambda x: get_ps1_or_host(x['final_url']), axis=1)\n",
    "extractedDF['final_entity'] = extractedDF.parallel_apply(lambda x: match_entity(df_entity, x['final_host']), axis=1)\n",
    "extractedDF['req_host'] = extractedDF.parallel_apply(lambda x: get_ps1_or_host(x['req_url']), axis=1)\n",
    "extractedDF['req_entity'] = extractedDF.parallel_apply(lambda x: match_entity(df_entity, x['req_host']), axis=1)\n",
    "extractedDF['is_same_entity_finReq'] = extractedDF.parallel_apply(lambda x: is_same_entity(x['final_entity'], x['req_entity']), axis=1)"
   ]
  },
  {
   "cell_type": "code",
   "execution_count": 9,
   "metadata": {},
   "outputs": [],
   "source": [
    "# save to parquet\n",
    "extractedDF.to_parquet(\"../output/data_raw/\"+extract_date+\"_\"+extract_type+'_raw.parquet')"
   ]
  }
 ],
 "metadata": {
  "kernelspec": {
   "display_name": ".venv",
   "language": "python",
   "name": "python3"
  },
  "language_info": {
   "codemirror_mode": {
    "name": "ipython",
    "version": 3
   },
   "file_extension": ".py",
   "mimetype": "text/x-python",
   "name": "python",
   "nbconvert_exporter": "python",
   "pygments_lexer": "ipython3",
   "version": "3.12.3"
  }
 },
 "nbformat": 4,
 "nbformat_minor": 4
}
