{
 "cells": [
  {
   "cell_type": "code",
   "execution_count": null,
   "metadata": {},
   "outputs": [],
   "source": []
  },
  {
   "cell_type": "code",
   "execution_count": 1,
   "metadata": {},
   "outputs": [],
   "source": [
    "import sys\n",
    "sys.path.append('../..')\n",
    "\n",
    "import pandas as pd\n",
    "from pandarallel import pandarallel\n",
    "\n",
    "from helpers.utils import (\n",
    "    clean_dataset,\n",
    "    get_ps1_or_host\n",
    ")"
   ]
  },
  {
   "cell_type": "code",
   "execution_count": 2,
   "metadata": {},
   "outputs": [],
   "source": [
    "file_path = '../../output/data_raw/2024-01-24_SF_attr.pkl'\n",
    "\n",
    "df = pd.read_pickle(file_path)"
   ]
  },
  {
   "cell_type": "code",
   "execution_count": 3,
   "metadata": {},
   "outputs": [
    {
     "name": "stdout",
     "output_type": "stream",
     "text": [
      "INFO: Pandarallel will run on 16 workers.\n",
      "INFO: Pandarallel will use Memory file system to transfer data between the main process and workers.\n"
     ]
    }
   ],
   "source": [
    "pandarallel.initialize()"
   ]
  },
  {
   "cell_type": "code",
   "execution_count": 4,
   "metadata": {},
   "outputs": [],
   "source": [
    "# selected-only pages\n",
    "\n",
    "file_path = \"../../helpers/intersection\"  \n",
    "\n",
    "with open(file_path, \"r\") as file:\n",
    "    intersection = file.read().splitlines()\n"
   ]
  },
  {
   "cell_type": "code",
   "execution_count": 5,
   "metadata": {},
   "outputs": [],
   "source": [
    "# clean dataset\n",
    "df = clean_dataset(df, intersection)"
   ]
  },
  {
   "cell_type": "code",
   "execution_count": 6,
   "metadata": {},
   "outputs": [],
   "source": [
    "df['final_host'] = df['final_url'].parallel_apply(lambda x: get_ps1_or_host(x))"
   ]
  },
  {
   "cell_type": "code",
   "execution_count": 7,
   "metadata": {},
   "outputs": [
    {
     "data": {
      "text/plain": [
       "referrerpolicy\n",
       "no-referrer                        5361\n",
       "no-referrer-when-downgrade         4226\n",
       "unsafe-url                         3487\n",
       "origin                             3078\n",
       "strict-origin-when-cross-origin    1326\n",
       "same-origin                         733\n",
       "origin-when-cross-origin            174\n",
       "strict-origin                        23\n",
       "noreferrer                            3\n",
       "Name: count, dtype: int64"
      ]
     },
     "execution_count": 7,
     "metadata": {},
     "output_type": "execute_result"
    }
   ],
   "source": [
    "df.referrerpolicy.value_counts()"
   ]
  },
  {
   "cell_type": "code",
   "execution_count": 8,
   "metadata": {},
   "outputs": [],
   "source": [
    "all_el_attrs = df[(df.rel == 'noreferrer')\n",
    "                       | (df.referrerpolicy.notnull()) ]"
   ]
  },
  {
   "cell_type": "code",
   "execution_count": 9,
   "metadata": {},
   "outputs": [
    {
     "data": {
      "text/plain": [
       "3670"
      ]
     },
     "execution_count": 9,
     "metadata": {},
     "output_type": "execute_result"
    }
   ],
   "source": [
    "all_el_attrs.final_host.nunique()"
   ]
  },
  {
   "cell_type": "markdown",
   "metadata": {},
   "source": [
    "## referrerpolicy"
   ]
  },
  {
   "cell_type": "code",
   "execution_count": 10,
   "metadata": {},
   "outputs": [],
   "source": [
    "refpol_df = df.drop_duplicates(subset=['final_host', 'referrerpolicy', 'tagName'])"
   ]
  },
  {
   "cell_type": "code",
   "execution_count": 11,
   "metadata": {},
   "outputs": [
    {
     "data": {
      "text/plain": [
       "tagName\n",
       "script    28243\n",
       "link      27761\n",
       "a         27415\n",
       "img       27211\n",
       "iframe    18750\n",
       "area        222\n",
       "Name: count, dtype: int64"
      ]
     },
     "execution_count": 11,
     "metadata": {},
     "output_type": "execute_result"
    }
   ],
   "source": [
    "refpol_df.tagName.value_counts()"
   ]
  },
  {
   "cell_type": "code",
   "execution_count": 12,
   "metadata": {},
   "outputs": [
    {
     "data": {
      "text/plain": [
       "2475"
      ]
     },
     "execution_count": 12,
     "metadata": {},
     "output_type": "execute_result"
    }
   ],
   "source": [
    "# Websites with referrerpolicy\n",
    "refpol_df[refpol_df.referrerpolicy.notna()].final_host.nunique()"
   ]
  },
  {
   "cell_type": "code",
   "execution_count": 13,
   "metadata": {},
   "outputs": [
    {
     "name": "stdout",
     "output_type": "stream",
     "text": [
      "   tagName                   referrerpolicy  counts\n",
      "0        a                      no-referrer       4\n",
      "1        a       no-referrer-when-downgrade      21\n",
      "2        a                           origin      96\n",
      "3        a                      same-origin       1\n",
      "4        a  strict-origin-when-cross-origin       1\n",
      "5        a                       unsafe-url       2\n",
      "6   iframe                      no-referrer      55\n",
      "7   iframe       no-referrer-when-downgrade     318\n",
      "8   iframe                       noreferrer       1\n",
      "9   iframe                           origin     125\n",
      "10  iframe         origin-when-cross-origin       2\n",
      "11  iframe                      same-origin       4\n",
      "12  iframe                    strict-origin       5\n",
      "13  iframe  strict-origin-when-cross-origin      10\n",
      "14  iframe                       unsafe-url     537\n",
      "15     img                      no-referrer      35\n",
      "16     img       no-referrer-when-downgrade      48\n",
      "17     img                           origin     104\n",
      "18     img         origin-when-cross-origin       2\n",
      "19     img                      same-origin       5\n",
      "20     img                       unsafe-url       9\n",
      "21    link                      no-referrer     340\n",
      "22    link       no-referrer-when-downgrade       3\n",
      "23    link                           origin     167\n",
      "24    link         origin-when-cross-origin       1\n",
      "25    link                      same-origin       1\n",
      "26    link                    strict-origin       1\n",
      "27    link  strict-origin-when-cross-origin       7\n",
      "28  script                      no-referrer     334\n",
      "29  script       no-referrer-when-downgrade     278\n",
      "30  script                           origin     130\n",
      "31  script         origin-when-cross-origin       2\n",
      "32  script                    strict-origin       2\n",
      "33  script  strict-origin-when-cross-origin     149\n",
      "34  script                       unsafe-url     294\n"
     ]
    }
   ],
   "source": [
    "# For Table 8\n",
    "\n",
    "refpol_counts = refpol_df.groupby(['tagName', 'referrerpolicy']).size().reset_index(name='counts')\n",
    "print(refpol_counts)"
   ]
  },
  {
   "cell_type": "code",
   "execution_count": 14,
   "metadata": {},
   "outputs": [],
   "source": [
    "# Check for iframes\n",
    "refpol_iframe_df = refpol_df[refpol_df.tagName == 'iframe']"
   ]
  },
  {
   "cell_type": "code",
   "execution_count": 15,
   "metadata": {},
   "outputs": [
    {
     "data": {
      "text/html": [
       "<div>\n",
       "<style scoped>\n",
       "    .dataframe tbody tr th:only-of-type {\n",
       "        vertical-align: middle;\n",
       "    }\n",
       "\n",
       "    .dataframe tbody tr th {\n",
       "        vertical-align: top;\n",
       "    }\n",
       "\n",
       "    .dataframe thead th {\n",
       "        text-align: right;\n",
       "    }\n",
       "</style>\n",
       "<table border=\"1\" class=\"dataframe\">\n",
       "  <thead>\n",
       "    <tr style=\"text-align: right;\">\n",
       "      <th></th>\n",
       "      <th>init_url</th>\n",
       "      <th>final_url</th>\n",
       "      <th>failed_visit</th>\n",
       "      <th>href</th>\n",
       "      <th>src</th>\n",
       "      <th>rel</th>\n",
       "      <th>referrerpolicy</th>\n",
       "      <th>title</th>\n",
       "      <th>text</th>\n",
       "      <th>frameUrl</th>\n",
       "      <th>tagName</th>\n",
       "      <th>isFrame</th>\n",
       "      <th>type</th>\n",
       "      <th>crossorigin</th>\n",
       "      <th>as_attr</th>\n",
       "      <th>integrity</th>\n",
       "      <th>final_host</th>\n",
       "    </tr>\n",
       "  </thead>\n",
       "  <tbody>\n",
       "    <tr>\n",
       "      <th>133</th>\n",
       "      <td>https://hippocampus.org/#1_7</td>\n",
       "      <td>https://hippocampus.org/#1_7</td>\n",
       "      <td>False</td>\n",
       "      <td>None</td>\n",
       "      <td>https://www.google.com/recaptcha/api2/anchor?a...</td>\n",
       "      <td>None</td>\n",
       "      <td>None</td>\n",
       "      <td>reCAPTCHA</td>\n",
       "      <td></td>\n",
       "      <td>https://hippocampus.org/#1_7</td>\n",
       "      <td>iframe</td>\n",
       "      <td>False</td>\n",
       "      <td>None</td>\n",
       "      <td>None</td>\n",
       "      <td>None</td>\n",
       "      <td>None</td>\n",
       "      <td>hippocampus.org</td>\n",
       "    </tr>\n",
       "    <tr>\n",
       "      <th>473</th>\n",
       "      <td>https://acom.us/industries/agricultural</td>\n",
       "      <td>https://acom.us/industries/agricultural/</td>\n",
       "      <td>False</td>\n",
       "      <td>None</td>\n",
       "      <td>about:blank</td>\n",
       "      <td>None</td>\n",
       "      <td>None</td>\n",
       "      <td>This iframe contains the logic required to han...</td>\n",
       "      <td></td>\n",
       "      <td>https://acom.us/industries/agricultural/</td>\n",
       "      <td>iframe</td>\n",
       "      <td>False</td>\n",
       "      <td>None</td>\n",
       "      <td>None</td>\n",
       "      <td>None</td>\n",
       "      <td>None</td>\n",
       "      <td>acom.us</td>\n",
       "    </tr>\n",
       "    <tr>\n",
       "      <th>757</th>\n",
       "      <td>https://www.motoworld.vn/protections</td>\n",
       "      <td>https://www.motoworld.vn/protections</td>\n",
       "      <td>False</td>\n",
       "      <td>None</td>\n",
       "      <td>about:blank</td>\n",
       "      <td>None</td>\n",
       "      <td>None</td>\n",
       "      <td>chat widget</td>\n",
       "      <td></td>\n",
       "      <td>https://www.motoworld.vn/protections</td>\n",
       "      <td>iframe</td>\n",
       "      <td>False</td>\n",
       "      <td>None</td>\n",
       "      <td>None</td>\n",
       "      <td>None</td>\n",
       "      <td>None</td>\n",
       "      <td>motoworld.vn</td>\n",
       "    </tr>\n",
       "    <tr>\n",
       "      <th>1014</th>\n",
       "      <td>https://www.flashrouters.com/blog</td>\n",
       "      <td>https://blog.flashrouters.com/</td>\n",
       "      <td>False</td>\n",
       "      <td>None</td>\n",
       "      <td>about:blank</td>\n",
       "      <td>None</td>\n",
       "      <td>None</td>\n",
       "      <td>Lucky Orange</td>\n",
       "      <td></td>\n",
       "      <td>https://blog.flashrouters.com/</td>\n",
       "      <td>iframe</td>\n",
       "      <td>False</td>\n",
       "      <td>None</td>\n",
       "      <td>None</td>\n",
       "      <td>None</td>\n",
       "      <td>None</td>\n",
       "      <td>flashrouters.com</td>\n",
       "    </tr>\n",
       "    <tr>\n",
       "      <th>1176</th>\n",
       "      <td>https://www.elkon.net/products/bespoke-and-pre...</td>\n",
       "      <td>https://www.elkon.net/products/bespoke-and-pre...</td>\n",
       "      <td>False</td>\n",
       "      <td>None</td>\n",
       "      <td>https://www.google.com/recaptcha/api2/anchor?a...</td>\n",
       "      <td>None</td>\n",
       "      <td>None</td>\n",
       "      <td>reCAPTCHA</td>\n",
       "      <td></td>\n",
       "      <td>https://www.elkon.net/products/bespoke-and-pre...</td>\n",
       "      <td>iframe</td>\n",
       "      <td>False</td>\n",
       "      <td>None</td>\n",
       "      <td>None</td>\n",
       "      <td>None</td>\n",
       "      <td>None</td>\n",
       "      <td>elkon.net</td>\n",
       "    </tr>\n",
       "    <tr>\n",
       "      <th>...</th>\n",
       "      <td>...</td>\n",
       "      <td>...</td>\n",
       "      <td>...</td>\n",
       "      <td>...</td>\n",
       "      <td>...</td>\n",
       "      <td>...</td>\n",
       "      <td>...</td>\n",
       "      <td>...</td>\n",
       "      <td>...</td>\n",
       "      <td>...</td>\n",
       "      <td>...</td>\n",
       "      <td>...</td>\n",
       "      <td>...</td>\n",
       "      <td>...</td>\n",
       "      <td>...</td>\n",
       "      <td>...</td>\n",
       "      <td>...</td>\n",
       "    </tr>\n",
       "    <tr>\n",
       "      <th>39147871</th>\n",
       "      <td>https://www.npu.cz/cs/pamatkova-pece</td>\n",
       "      <td>https://www.npu.cz/cs/pamatkova-pece</td>\n",
       "      <td>False</td>\n",
       "      <td>None</td>\n",
       "      <td>https://w.soundcloud.com/player/?url=https%3A/...</td>\n",
       "      <td>None</td>\n",
       "      <td>None</td>\n",
       "      <td>None</td>\n",
       "      <td></td>\n",
       "      <td>https://www.npu.cz/cs/pamatkova-pece</td>\n",
       "      <td>iframe</td>\n",
       "      <td>False</td>\n",
       "      <td>None</td>\n",
       "      <td>None</td>\n",
       "      <td>None</td>\n",
       "      <td>None</td>\n",
       "      <td>npu.cz</td>\n",
       "    </tr>\n",
       "    <tr>\n",
       "      <th>39212671</th>\n",
       "      <td>http://sggs.ac.in/home/page/aicte-idea-lab-sgg...</td>\n",
       "      <td>http://sggs.ac.in/home/page/aicte-idea-lab-sgg...</td>\n",
       "      <td>False</td>\n",
       "      <td>None</td>\n",
       "      <td>https://www.youtube.com/embed/5jX2OVxExGI</td>\n",
       "      <td>None</td>\n",
       "      <td>None</td>\n",
       "      <td>YouTube video player</td>\n",
       "      <td></td>\n",
       "      <td>http://sggs.ac.in/home/page/aicte-idea-lab-sgg...</td>\n",
       "      <td>iframe</td>\n",
       "      <td>False</td>\n",
       "      <td>None</td>\n",
       "      <td>None</td>\n",
       "      <td>None</td>\n",
       "      <td>None</td>\n",
       "      <td>sggs.ac.in</td>\n",
       "    </tr>\n",
       "    <tr>\n",
       "      <th>39226924</th>\n",
       "      <td>https://www.juanmerodio.com/asesoria-web3-bloc...</td>\n",
       "      <td>https://www.juanmerodio.com/asesoria-web3-bloc...</td>\n",
       "      <td>False</td>\n",
       "      <td>None</td>\n",
       "      <td>about:blank</td>\n",
       "      <td>None</td>\n",
       "      <td>None</td>\n",
       "      <td>Emprendedor, Empresario… La Web3 es una realidad</td>\n",
       "      <td></td>\n",
       "      <td>https://www.juanmerodio.com/asesoria-web3-bloc...</td>\n",
       "      <td>iframe</td>\n",
       "      <td>False</td>\n",
       "      <td>None</td>\n",
       "      <td>None</td>\n",
       "      <td>None</td>\n",
       "      <td>None</td>\n",
       "      <td>juanmerodio.com</td>\n",
       "    </tr>\n",
       "    <tr>\n",
       "      <th>39237797</th>\n",
       "      <td>http://komatsuzawa.co.jp/access/access.html</td>\n",
       "      <td>http://komatsuzawa.co.jp/access/access.html</td>\n",
       "      <td>False</td>\n",
       "      <td>None</td>\n",
       "      <td>http://maps.google.co.jp/maps?f=q&amp;source=s_q&amp;h...</td>\n",
       "      <td>None</td>\n",
       "      <td>None</td>\n",
       "      <td>None</td>\n",
       "      <td></td>\n",
       "      <td>http://komatsuzawa.co.jp/access/access.html</td>\n",
       "      <td>iframe</td>\n",
       "      <td>False</td>\n",
       "      <td>None</td>\n",
       "      <td>None</td>\n",
       "      <td>None</td>\n",
       "      <td>None</td>\n",
       "      <td>komatsuzawa.co.jp</td>\n",
       "    </tr>\n",
       "    <tr>\n",
       "      <th>39244693</th>\n",
       "      <td>https://edmelbourne.com/contact</td>\n",
       "      <td>https://edmelbourne.com/contact</td>\n",
       "      <td>False</td>\n",
       "      <td>None</td>\n",
       "      <td>https://www.google.com/maps/embed?pb=!1m18!1m1...</td>\n",
       "      <td>None</td>\n",
       "      <td>None</td>\n",
       "      <td>None</td>\n",
       "      <td></td>\n",
       "      <td>https://edmelbourne.com/contact</td>\n",
       "      <td>iframe</td>\n",
       "      <td>False</td>\n",
       "      <td>None</td>\n",
       "      <td>None</td>\n",
       "      <td>None</td>\n",
       "      <td>None</td>\n",
       "      <td>edmelbourne.com</td>\n",
       "    </tr>\n",
       "  </tbody>\n",
       "</table>\n",
       "<p>18750 rows × 17 columns</p>\n",
       "</div>"
      ],
      "text/plain": [
       "                                                   init_url  \\\n",
       "133                            https://hippocampus.org/#1_7   \n",
       "473                 https://acom.us/industries/agricultural   \n",
       "757                    https://www.motoworld.vn/protections   \n",
       "1014                      https://www.flashrouters.com/blog   \n",
       "1176      https://www.elkon.net/products/bespoke-and-pre...   \n",
       "...                                                     ...   \n",
       "39147871               https://www.npu.cz/cs/pamatkova-pece   \n",
       "39212671  http://sggs.ac.in/home/page/aicte-idea-lab-sgg...   \n",
       "39226924  https://www.juanmerodio.com/asesoria-web3-bloc...   \n",
       "39237797        http://komatsuzawa.co.jp/access/access.html   \n",
       "39244693                    https://edmelbourne.com/contact   \n",
       "\n",
       "                                                  final_url  failed_visit  \\\n",
       "133                            https://hippocampus.org/#1_7         False   \n",
       "473                https://acom.us/industries/agricultural/         False   \n",
       "757                    https://www.motoworld.vn/protections         False   \n",
       "1014                         https://blog.flashrouters.com/         False   \n",
       "1176      https://www.elkon.net/products/bespoke-and-pre...         False   \n",
       "...                                                     ...           ...   \n",
       "39147871               https://www.npu.cz/cs/pamatkova-pece         False   \n",
       "39212671  http://sggs.ac.in/home/page/aicte-idea-lab-sgg...         False   \n",
       "39226924  https://www.juanmerodio.com/asesoria-web3-bloc...         False   \n",
       "39237797        http://komatsuzawa.co.jp/access/access.html         False   \n",
       "39244693                    https://edmelbourne.com/contact         False   \n",
       "\n",
       "          href                                                src   rel  \\\n",
       "133       None  https://www.google.com/recaptcha/api2/anchor?a...  None   \n",
       "473       None                                        about:blank  None   \n",
       "757       None                                        about:blank  None   \n",
       "1014      None                                        about:blank  None   \n",
       "1176      None  https://www.google.com/recaptcha/api2/anchor?a...  None   \n",
       "...        ...                                                ...   ...   \n",
       "39147871  None  https://w.soundcloud.com/player/?url=https%3A/...  None   \n",
       "39212671  None          https://www.youtube.com/embed/5jX2OVxExGI  None   \n",
       "39226924  None                                        about:blank  None   \n",
       "39237797  None  http://maps.google.co.jp/maps?f=q&source=s_q&h...  None   \n",
       "39244693  None  https://www.google.com/maps/embed?pb=!1m18!1m1...  None   \n",
       "\n",
       "         referrerpolicy                                              title  \\\n",
       "133                None                                          reCAPTCHA   \n",
       "473                None  This iframe contains the logic required to han...   \n",
       "757                None                                        chat widget   \n",
       "1014               None                                       Lucky Orange   \n",
       "1176               None                                          reCAPTCHA   \n",
       "...                 ...                                                ...   \n",
       "39147871           None                                               None   \n",
       "39212671           None                               YouTube video player   \n",
       "39226924           None   Emprendedor, Empresario… La Web3 es una realidad   \n",
       "39237797           None                                               None   \n",
       "39244693           None                                               None   \n",
       "\n",
       "         text                                           frameUrl tagName  \\\n",
       "133                                 https://hippocampus.org/#1_7  iframe   \n",
       "473                     https://acom.us/industries/agricultural/  iframe   \n",
       "757                         https://www.motoworld.vn/protections  iframe   \n",
       "1014                              https://blog.flashrouters.com/  iframe   \n",
       "1176           https://www.elkon.net/products/bespoke-and-pre...  iframe   \n",
       "...       ...                                                ...     ...   \n",
       "39147871                    https://www.npu.cz/cs/pamatkova-pece  iframe   \n",
       "39212671       http://sggs.ac.in/home/page/aicte-idea-lab-sgg...  iframe   \n",
       "39226924       https://www.juanmerodio.com/asesoria-web3-bloc...  iframe   \n",
       "39237797             http://komatsuzawa.co.jp/access/access.html  iframe   \n",
       "39244693                         https://edmelbourne.com/contact  iframe   \n",
       "\n",
       "          isFrame  type crossorigin as_attr integrity         final_host  \n",
       "133         False  None        None    None      None    hippocampus.org  \n",
       "473         False  None        None    None      None            acom.us  \n",
       "757         False  None        None    None      None       motoworld.vn  \n",
       "1014        False  None        None    None      None   flashrouters.com  \n",
       "1176        False  None        None    None      None          elkon.net  \n",
       "...           ...   ...         ...     ...       ...                ...  \n",
       "39147871    False  None        None    None      None             npu.cz  \n",
       "39212671    False  None        None    None      None         sggs.ac.in  \n",
       "39226924    False  None        None    None      None    juanmerodio.com  \n",
       "39237797    False  None        None    None      None  komatsuzawa.co.jp  \n",
       "39244693    False  None        None    None      None    edmelbourne.com  \n",
       "\n",
       "[18750 rows x 17 columns]"
      ]
     },
     "execution_count": 15,
     "metadata": {},
     "output_type": "execute_result"
    }
   ],
   "source": [
    "refpol_iframe_df"
   ]
  },
  {
   "cell_type": "code",
   "execution_count": 16,
   "metadata": {},
   "outputs": [],
   "source": [
    "# refpol_iframe_df = refpol_iframe_df[refpol_iframe_df.src.str.startswith('http')]"
   ]
  },
  {
   "cell_type": "code",
   "execution_count": 17,
   "metadata": {},
   "outputs": [
    {
     "name": "stderr",
     "output_type": "stream",
     "text": [
      "/tmp/ipykernel_283523/586780793.py:2: SettingWithCopyWarning: \n",
      "A value is trying to be set on a copy of a slice from a DataFrame.\n",
      "Try using .loc[row_indexer,col_indexer] = value instead\n",
      "\n",
      "See the caveats in the documentation: https://pandas.pydata.org/pandas-docs/stable/user_guide/indexing.html#returning-a-view-versus-a-copy\n",
      "  refpol_iframe_unsafe['src_host'] = refpol_iframe_unsafe['src'].parallel_apply(lambda x: get_ps1_or_host(x))\n"
     ]
    },
    {
     "data": {
      "text/plain": [
       "537"
      ]
     },
     "execution_count": 17,
     "metadata": {},
     "output_type": "execute_result"
    }
   ],
   "source": [
    "refpol_iframe_unsafe = refpol_iframe_df[refpol_iframe_df.referrerpolicy == 'unsafe-url']\n",
    "refpol_iframe_unsafe['src_host'] = refpol_iframe_unsafe['src'].parallel_apply(lambda x: get_ps1_or_host(x))\n",
    "refpol_iframe_unsafe.final_host.nunique()"
   ]
  },
  {
   "cell_type": "code",
   "execution_count": 18,
   "metadata": {},
   "outputs": [
    {
     "data": {
      "text/html": [
       "<div>\n",
       "<style scoped>\n",
       "    .dataframe tbody tr th:only-of-type {\n",
       "        vertical-align: middle;\n",
       "    }\n",
       "\n",
       "    .dataframe tbody tr th {\n",
       "        vertical-align: top;\n",
       "    }\n",
       "\n",
       "    .dataframe thead th {\n",
       "        text-align: right;\n",
       "    }\n",
       "</style>\n",
       "<table border=\"1\" class=\"dataframe\">\n",
       "  <thead>\n",
       "    <tr style=\"text-align: right;\">\n",
       "      <th></th>\n",
       "      <th>src_host</th>\n",
       "      <th>final_host</th>\n",
       "    </tr>\n",
       "  </thead>\n",
       "  <tbody>\n",
       "    <tr>\n",
       "      <th>0</th>\n",
       "      <td></td>\n",
       "      <td>8</td>\n",
       "    </tr>\n",
       "    <tr>\n",
       "      <th>1</th>\n",
       "      <td>33across.com</td>\n",
       "      <td>113</td>\n",
       "    </tr>\n",
       "    <tr>\n",
       "      <th>2</th>\n",
       "      <td>coupang.com</td>\n",
       "      <td>2</td>\n",
       "    </tr>\n",
       "    <tr>\n",
       "      <th>3</th>\n",
       "      <td>kollus.com</td>\n",
       "      <td>1</td>\n",
       "    </tr>\n",
       "    <tr>\n",
       "      <th>4</th>\n",
       "      <td>nperf.com</td>\n",
       "      <td>1</td>\n",
       "    </tr>\n",
       "    <tr>\n",
       "      <th>5</th>\n",
       "      <td>pubmine.com</td>\n",
       "      <td>6</td>\n",
       "    </tr>\n",
       "    <tr>\n",
       "      <th>6</th>\n",
       "      <td>rubiconproject.com</td>\n",
       "      <td>405</td>\n",
       "    </tr>\n",
       "    <tr>\n",
       "      <th>7</th>\n",
       "      <td>videoscdn.online</td>\n",
       "      <td>1</td>\n",
       "    </tr>\n",
       "  </tbody>\n",
       "</table>\n",
       "</div>"
      ],
      "text/plain": [
       "             src_host  final_host\n",
       "0                               8\n",
       "1        33across.com         113\n",
       "2         coupang.com           2\n",
       "3          kollus.com           1\n",
       "4           nperf.com           1\n",
       "5         pubmine.com           6\n",
       "6  rubiconproject.com         405\n",
       "7    videoscdn.online           1"
      ]
     },
     "execution_count": 18,
     "metadata": {},
     "output_type": "execute_result"
    }
   ],
   "source": [
    "iframe_unique_unsafe = refpol_iframe_unsafe.groupby('src_host')['final_host'].nunique().reset_index()\n",
    "iframe_unique_unsafe"
   ]
  },
  {
   "cell_type": "code",
   "execution_count": 19,
   "metadata": {},
   "outputs": [
    {
     "name": "stderr",
     "output_type": "stream",
     "text": [
      "/tmp/ipykernel_283523/4068827118.py:2: SettingWithCopyWarning: \n",
      "A value is trying to be set on a copy of a slice from a DataFrame.\n",
      "Try using .loc[row_indexer,col_indexer] = value instead\n",
      "\n",
      "See the caveats in the documentation: https://pandas.pydata.org/pandas-docs/stable/user_guide/indexing.html#returning-a-view-versus-a-copy\n",
      "  refpol_iframe_nrwd['src_host'] = refpol_iframe_nrwd['src'].parallel_apply(lambda x: get_ps1_or_host(x))\n"
     ]
    },
    {
     "data": {
      "text/plain": [
       "318"
      ]
     },
     "execution_count": 19,
     "metadata": {},
     "output_type": "execute_result"
    }
   ],
   "source": [
    "refpol_iframe_nrwd = refpol_iframe_df[refpol_iframe_df.referrerpolicy == 'no-referrer-when-downgrade']\n",
    "refpol_iframe_nrwd['src_host'] = refpol_iframe_nrwd['src'].parallel_apply(lambda x: get_ps1_or_host(x))\n",
    "refpol_iframe_nrwd.final_host.nunique()"
   ]
  },
  {
   "cell_type": "code",
   "execution_count": 20,
   "metadata": {},
   "outputs": [
    {
     "data": {
      "text/html": [
       "<div>\n",
       "<style scoped>\n",
       "    .dataframe tbody tr th:only-of-type {\n",
       "        vertical-align: middle;\n",
       "    }\n",
       "\n",
       "    .dataframe tbody tr th {\n",
       "        vertical-align: top;\n",
       "    }\n",
       "\n",
       "    .dataframe thead th {\n",
       "        text-align: right;\n",
       "    }\n",
       "</style>\n",
       "<table border=\"1\" class=\"dataframe\">\n",
       "  <thead>\n",
       "    <tr style=\"text-align: right;\">\n",
       "      <th></th>\n",
       "      <th>src_host</th>\n",
       "      <th>final_host</th>\n",
       "    </tr>\n",
       "  </thead>\n",
       "  <tbody>\n",
       "    <tr>\n",
       "      <th>0</th>\n",
       "      <td></td>\n",
       "      <td>10</td>\n",
       "    </tr>\n",
       "    <tr>\n",
       "      <th>1</th>\n",
       "      <td>adriver.ru</td>\n",
       "      <td>1</td>\n",
       "    </tr>\n",
       "    <tr>\n",
       "      <th>2</th>\n",
       "      <td>autodriven.com</td>\n",
       "      <td>2</td>\n",
       "    </tr>\n",
       "    <tr>\n",
       "      <th>3</th>\n",
       "      <td>creativecdn.com</td>\n",
       "      <td>13</td>\n",
       "    </tr>\n",
       "    <tr>\n",
       "      <th>4</th>\n",
       "      <td>dailymotion.com</td>\n",
       "      <td>9</td>\n",
       "    </tr>\n",
       "    <tr>\n",
       "      <th>5</th>\n",
       "      <td>data</td>\n",
       "      <td>4</td>\n",
       "    </tr>\n",
       "    <tr>\n",
       "      <th>6</th>\n",
       "      <td>directly.com</td>\n",
       "      <td>1</td>\n",
       "    </tr>\n",
       "    <tr>\n",
       "      <th>7</th>\n",
       "      <td>enquirytracker.net</td>\n",
       "      <td>1</td>\n",
       "    </tr>\n",
       "    <tr>\n",
       "      <th>8</th>\n",
       "      <td>getinform.net</td>\n",
       "      <td>1</td>\n",
       "    </tr>\n",
       "    <tr>\n",
       "      <th>9</th>\n",
       "      <td>glassix.com</td>\n",
       "      <td>3</td>\n",
       "    </tr>\n",
       "    <tr>\n",
       "      <th>10</th>\n",
       "      <td>google.com</td>\n",
       "      <td>159</td>\n",
       "    </tr>\n",
       "    <tr>\n",
       "      <th>11</th>\n",
       "      <td>ibm.com</td>\n",
       "      <td>1</td>\n",
       "    </tr>\n",
       "    <tr>\n",
       "      <th>12</th>\n",
       "      <td>keaz.ru</td>\n",
       "      <td>1</td>\n",
       "    </tr>\n",
       "    <tr>\n",
       "      <th>13</th>\n",
       "      <td>mts.ru</td>\n",
       "      <td>2</td>\n",
       "    </tr>\n",
       "    <tr>\n",
       "      <th>14</th>\n",
       "      <td>opinionstage.com</td>\n",
       "      <td>1</td>\n",
       "    </tr>\n",
       "    <tr>\n",
       "      <th>15</th>\n",
       "      <td>retargetly.com</td>\n",
       "      <td>92</td>\n",
       "    </tr>\n",
       "    <tr>\n",
       "      <th>16</th>\n",
       "      <td>sproutvideo.com</td>\n",
       "      <td>2</td>\n",
       "    </tr>\n",
       "    <tr>\n",
       "      <th>17</th>\n",
       "      <td>stockdio.com</td>\n",
       "      <td>1</td>\n",
       "    </tr>\n",
       "    <tr>\n",
       "      <th>18</th>\n",
       "      <td>ultimedia.com</td>\n",
       "      <td>1</td>\n",
       "    </tr>\n",
       "    <tr>\n",
       "      <th>19</th>\n",
       "      <td>vidyard.com</td>\n",
       "      <td>13</td>\n",
       "    </tr>\n",
       "  </tbody>\n",
       "</table>\n",
       "</div>"
      ],
      "text/plain": [
       "              src_host  final_host\n",
       "0                               10\n",
       "1           adriver.ru           1\n",
       "2       autodriven.com           2\n",
       "3      creativecdn.com          13\n",
       "4      dailymotion.com           9\n",
       "5                 data           4\n",
       "6         directly.com           1\n",
       "7   enquirytracker.net           1\n",
       "8        getinform.net           1\n",
       "9          glassix.com           3\n",
       "10          google.com         159\n",
       "11             ibm.com           1\n",
       "12             keaz.ru           1\n",
       "13              mts.ru           2\n",
       "14    opinionstage.com           1\n",
       "15      retargetly.com          92\n",
       "16     sproutvideo.com           2\n",
       "17        stockdio.com           1\n",
       "18       ultimedia.com           1\n",
       "19         vidyard.com          13"
      ]
     },
     "execution_count": 20,
     "metadata": {},
     "output_type": "execute_result"
    }
   ],
   "source": [
    "iframe_unique_nrwd = refpol_iframe_nrwd.groupby('src_host')['final_host'].nunique().reset_index()\n",
    "iframe_unique_nrwd"
   ]
  },
  {
   "cell_type": "markdown",
   "metadata": {},
   "source": [
    "## rel"
   ]
  },
  {
   "cell_type": "code",
   "execution_count": 21,
   "metadata": {},
   "outputs": [
    {
     "data": {
      "text/plain": [
       "1345"
      ]
     },
     "execution_count": 21,
     "metadata": {},
     "output_type": "execute_result"
    }
   ],
   "source": [
    "rel_df = df[df.rel == 'noreferrer']\n",
    "rel_df.final_host.nunique()"
   ]
  },
  {
   "cell_type": "code",
   "execution_count": 22,
   "metadata": {},
   "outputs": [
    {
     "data": {
      "text/plain": [
       "(1352, 17)"
      ]
     },
     "execution_count": 22,
     "metadata": {},
     "output_type": "execute_result"
    }
   ],
   "source": [
    "# Get rel link attribute\n",
    "rel_df = rel_df.drop_duplicates(subset=['final_host', 'tagName'])\n",
    "rel_df.shape"
   ]
  },
  {
   "cell_type": "code",
   "execution_count": 23,
   "metadata": {},
   "outputs": [
    {
     "data": {
      "text/plain": [
       "tagName\n",
       "a         1342\n",
       "img          7\n",
       "area         2\n",
       "script       1\n",
       "Name: count, dtype: int64"
      ]
     },
     "execution_count": 23,
     "metadata": {},
     "output_type": "execute_result"
    }
   ],
   "source": [
    "# For Table 7\n",
    "rel_df[(rel_df.rel == \"noreferrer\" )].tagName.value_counts()"
   ]
  }
 ],
 "metadata": {
  "kernelspec": {
   "display_name": ".venv",
   "language": "python",
   "name": "python3"
  },
  "language_info": {
   "codemirror_mode": {
    "name": "ipython",
    "version": 3
   },
   "file_extension": ".py",
   "mimetype": "text/x-python",
   "name": "python",
   "nbconvert_exporter": "python",
   "pygments_lexer": "ipython3",
   "version": "3.12.3"
  }
 },
 "nbformat": 4,
 "nbformat_minor": 4
}
