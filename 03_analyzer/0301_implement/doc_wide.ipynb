{
 "cells": [
  {
   "cell_type": "code",
   "execution_count": null,
   "metadata": {},
   "outputs": [],
   "source": []
  },
  {
   "cell_type": "code",
   "execution_count": 1,
   "metadata": {},
   "outputs": [],
   "source": [
    "import os\n",
    "import sys\n",
    "sys.path.append('../..')\n",
    "\n",
    "import pandas as pd\n",
    "import seaborn as sns\n",
    "import matplotlib.pyplot as plt\n",
    "\n",
    "from pandarallel import pandarallel\n",
    "from helpers.utils import (\n",
    "    RP_VALUES,\n",
    "    get_ps1_or_host,\n",
    "    clean_dataset,\n",
    "    tranform_legacy,\n",
    "    create_rp_stats_inframe_df,\n",
    "    transform_response,\n",
    "    create_resp_rp_stats_third_party_df,\n",
    "    doc_wide\n",
    ")"
   ]
  },
  {
   "cell_type": "code",
   "execution_count": 2,
   "metadata": {},
   "outputs": [],
   "source": [
    "intersection_file = '../../helpers/intersection'\n",
    "\n",
    "with open(intersection_file, \"r\") as file:\n",
    "    intersection = file.read().splitlines()"
   ]
  },
  {
   "cell_type": "code",
   "execution_count": 3,
   "metadata": {},
   "outputs": [
    {
     "name": "stdout",
     "output_type": "stream",
     "text": [
      "INFO: Pandarallel will run on 16 workers.\n",
      "INFO: Pandarallel will use Memory file system to transfer data between the main process and workers.\n"
     ]
    }
   ],
   "source": [
    "pandarallel.initialize()"
   ]
  },
  {
   "cell_type": "markdown",
   "metadata": {},
   "source": [
    "# Meta-tag"
   ]
  },
  {
   "cell_type": "code",
   "execution_count": 4,
   "metadata": {},
   "outputs": [],
   "source": [
    "# meta_path = '../../output/data_raw/2025-02-08_noAct_meta.parquet'\n",
    "meta_path = '../../output/data_raw/2024-01-24_SF_meta.parquet'\n",
    "\n",
    "meta = pd.read_parquet(meta_path)"
   ]
  },
  {
   "cell_type": "code",
   "execution_count": 5,
   "metadata": {},
   "outputs": [
    {
     "name": "stdout",
     "output_type": "stream",
     "text": [
      "Date: 2024-01-24\n",
      "Type: SF\n"
     ]
    }
   ],
   "source": [
    "import re\n",
    "match = re.search(r'(\\d{4}-\\d{2}-\\d{2})_([^_]+)', meta_path)\n",
    "if match:\n",
    "    extract_date, extract_type = match.groups()\n",
    "    print(\"Date:\", extract_date)\n",
    "    print(\"Type:\", extract_type)"
   ]
  },
  {
   "cell_type": "code",
   "execution_count": 6,
   "metadata": {},
   "outputs": [],
   "source": [
    "meta = clean_dataset(meta, intersection)"
   ]
  },
  {
   "cell_type": "code",
   "execution_count": 7,
   "metadata": {},
   "outputs": [],
   "source": [
    "meta['final_host'] = meta.final_url.parallel_apply(get_ps1_or_host)\n",
    "meta['frame_host'] = meta.frameUrl.parallel_apply(get_ps1_or_host)"
   ]
  },
  {
   "cell_type": "code",
   "execution_count": 8,
   "metadata": {},
   "outputs": [
    {
     "data": {
      "text/plain": [
       "referrer_policy\n",
       "always                              108\n",
       "default                               1\n",
       "never                                15\n",
       "no-referrer                         718\n",
       "no-referrer-when-downgrade          312\n",
       "none                                  1\n",
       "origin                              682\n",
       "origin-when-cross-origin             39\n",
       "origin-when-crossorigin            1069\n",
       "same-origin                          12\n",
       "strict-origin                         4\n",
       "strict-origin-when-cross-origin     113\n",
       "unsafe-URL                            2\n",
       "unsafe-url                          158\n",
       "Name: final_host, dtype: int64"
      ]
     },
     "execution_count": 8,
     "metadata": {},
     "output_type": "execute_result"
    }
   ],
   "source": [
    "meta.groupby('referrer_policy').final_host.nunique()"
   ]
  },
  {
   "cell_type": "code",
   "execution_count": 9,
   "metadata": {},
   "outputs": [],
   "source": [
    "meta['ref_pol_fix'] = meta.parallel_apply(tranform_legacy, axis=1)"
   ]
  },
  {
   "cell_type": "code",
   "execution_count": 10,
   "metadata": {},
   "outputs": [
    {
     "data": {
      "text/plain": [
       "ref_pol_fix\n",
       "ignored                               1\n",
       "no-referrer                         733\n",
       "no-referrer-when-downgrade          312\n",
       "origin                              682\n",
       "origin-when-cross-origin           1108\n",
       "same-origin                          12\n",
       "strict-origin                         4\n",
       "strict-origin-when-cross-origin     114\n",
       "unsafe-url                          266\n",
       "Name: final_host, dtype: int64"
      ]
     },
     "execution_count": 10,
     "metadata": {},
     "output_type": "execute_result"
    }
   ],
   "source": [
    "#Table 6\n",
    "meta.groupby('ref_pol_fix').final_host.nunique()"
   ]
  },
  {
   "cell_type": "code",
   "execution_count": 11,
   "metadata": {},
   "outputs": [
    {
     "data": {
      "application/vnd.microsoft.datawrangler.viewer.v0+json": {
       "columns": [
        {
         "name": "index",
         "rawType": "int64",
         "type": "integer"
        },
        {
         "name": "init_url",
         "rawType": "object",
         "type": "string"
        },
        {
         "name": "final_url",
         "rawType": "object",
         "type": "string"
        },
        {
         "name": "failed_visit",
         "rawType": "bool",
         "type": "boolean"
        },
        {
         "name": "referrer_policy",
         "rawType": "object",
         "type": "string"
        },
        {
         "name": "frameUrl",
         "rawType": "object",
         "type": "string"
        },
        {
         "name": "inFrame",
         "rawType": "bool",
         "type": "boolean"
        },
        {
         "name": "pageURL",
         "rawType": "object",
         "type": "string"
        },
        {
         "name": "final_host",
         "rawType": "object",
         "type": "string"
        },
        {
         "name": "frame_host",
         "rawType": "object",
         "type": "string"
        },
        {
         "name": "ref_pol_fix",
         "rawType": "object",
         "type": "string"
        }
       ],
       "conversionMethod": "pd.DataFrame",
       "ref": "62fe3165-2c11-48db-8140-948cf9d2e262",
       "rows": [
        [
         "0",
         "https://souffle.life/manga/ohayou-oyasumi-mata-ashita/20240122-2",
         "https://souffle.life/manga/ohayou-oyasumi-mata-ashita/20240122-2/",
         "False",
         "origin-when-crossorigin",
         "https://www.facebook.com/v3.2/plugins/share_button.php?app_id=758063294544179&channel=https%3A%2F%2Fstaticxx.facebook.com%2Fx%2Fconnect%2Fxd_arbiter%2F%3Fversion%3D46%23cb%3Df9a4bb0b35a224d1e%26domain%3Dsouffle.life%26is_canvas%3Dfalse%26origin%3Dhttps%253A%252F%252Fsouffle.life%252Ff5005eebd9e2751fe%26relation%3Dparent.parent&container_width=670&href=https%3A%2F%2Fsouffle.life%2Fmanga%2Fohayou-oyasumi-mata-ashita%2F20240122-2%2F&layout=button&locale=ja_JP&mobile_iframe=true&sdk=joey&size=small",
         "True",
         "https://souffle.life/manga/ohayou-oyasumi-mata-ashita/20240122-2/",
         "souffle.life",
         "facebook.com",
         "origin-when-cross-origin"
        ],
        [
         "1",
         "https://souffle.life/manga/ohayou-oyasumi-mata-ashita/20240122-2",
         "https://souffle.life/manga/ohayou-oyasumi-mata-ashita/20240122-2/",
         "False",
         "origin-when-crossorigin",
         "https://www.facebook.com/v3.2/plugins/share_button.php?app_id=758063294544179&channel=https%3A%2F%2Fstaticxx.facebook.com%2Fx%2Fconnect%2Fxd_arbiter%2F%3Fversion%3D46%23cb%3Dfefaedecc5bb69b9a%26domain%3Dsouffle.life%26is_canvas%3Dfalse%26origin%3Dhttps%253A%252F%252Fsouffle.life%252Ff5005eebd9e2751fe%26relation%3Dparent.parent&container_width=670&href=https%3A%2F%2Fsouffle.life%2Fmanga%2Fohayou-oyasumi-mata-ashita%2F20240122-2%2F&layout=button_count&locale=ja_JP&mobile_iframe=true&sdk=joey&size=small",
         "True",
         "https://souffle.life/manga/ohayou-oyasumi-mata-ashita/20240122-2/",
         "souffle.life",
         "facebook.com",
         "origin-when-cross-origin"
        ],
        [
         "6",
         "https://ternanacalcio.com/domattina-rifinitura-e-convocati-per-ternana-cittadella",
         "https://ternanacalcio.com/domattina-rifinitura-e-convocati-per-ternana-cittadella/",
         "False",
         "origin-when-crossorigin",
         "https://www.facebook.com/plugins/like.php?href=https://ternanacalcio.com/domattina-rifinitura-e-convocati-per-ternana-cittadella/&layout=button_count&show_faces=false&width=105&action=like&colorscheme=light&height=21",
         "True",
         "https://ternanacalcio.com/domattina-rifinitura-e-convocati-per-ternana-cittadella/",
         "ternanacalcio.com",
         "facebook.com",
         "origin-when-cross-origin"
        ],
        [
         "10",
         "https://www.slevici.cz/detail-slevy/netradicni-menu-s-vuni-dalneho-vychodu-ktery-chutna-to-jsou-aktualni-slevici-do-restaurace-makalu-9872",
         "https://www.slevici.cz/detail-slevy/netradicni-menu-s-vuni-dalneho-vychodu-ktery-chutna-to-jsou-aktualni-slevici-do-restaurace-makalu-9872",
         "False",
         "origin-when-crossorigin",
         "https://www.facebook.com/plugins/like.php?href=https%3A%2F%2Fwww.slevici.cz%2Fdetail-slevy%2Fp-netradicni-menu-s-vuni-dalneho-vychodu-ktery-chutna-to-jsou-aktualni-slevici-do-restaurace-makalu-p-9872&send=false&layout=standard&width=375&show_faces=true&action=like&colorscheme=light&font&height=24",
         "True",
         "https://www.slevici.cz/detail-slevy/netradicni-menu-s-vuni-dalneho-vychodu-ktery-chutna-to-jsou-aktualni-slevici-do-restaurace-makalu-9872",
         "slevici.cz",
         "facebook.com",
         "origin-when-cross-origin"
        ],
        [
         "11",
         "https://www.slevici.cz/detail-slevy/netradicni-menu-s-vuni-dalneho-vychodu-ktery-chutna-to-jsou-aktualni-slevici-do-restaurace-makalu-9872",
         "https://www.slevici.cz/detail-slevy/netradicni-menu-s-vuni-dalneho-vychodu-ktery-chutna-to-jsou-aktualni-slevici-do-restaurace-makalu-9872",
         "False",
         "origin-when-crossorigin",
         "https://www.facebook.com/plugins/like.php?href=https%3A%2F%2Fwww.slevici.cz%2Fdetail-slevy%2Fp-netradicni-menu-s-vuni-dalneho-vychodu-ktery-chutna-to-jsou-aktualni-slevici-do-restaurace-makalu-p-9872&send=false&layout=standard&width=275&show_faces=true&action=like&colorscheme=light&font&height=30",
         "True",
         "https://www.slevici.cz/detail-slevy/netradicni-menu-s-vuni-dalneho-vychodu-ktery-chutna-to-jsou-aktualni-slevici-do-restaurace-makalu-9872",
         "slevici.cz",
         "facebook.com",
         "origin-when-cross-origin"
        ],
        [
         "12",
         "https://www.slevici.cz/detail-slevy/netradicni-menu-s-vuni-dalneho-vychodu-ktery-chutna-to-jsou-aktualni-slevici-do-restaurace-makalu-9872",
         "https://www.slevici.cz/detail-slevy/netradicni-menu-s-vuni-dalneho-vychodu-ktery-chutna-to-jsou-aktualni-slevici-do-restaurace-makalu-9872",
         "False",
         "origin-when-crossorigin",
         "https://www.facebook.com/plugins/like.php?href=https%3A%2F%2Fwww.slevici.cz%2Fdetail-slevy%2Fp-netradicni-menu-s-vuni-dalneho-vychodu-ktery-chutna-to-jsou-aktualni-slevici-do-restaurace-makalu-p-9872&send=false&layout=standard&width=275&show_faces=true&action=like&colorscheme=light&font&height=30",
         "True",
         "https://www.slevici.cz/detail-slevy/netradicni-menu-s-vuni-dalneho-vychodu-ktery-chutna-to-jsou-aktualni-slevici-do-restaurace-makalu-9872",
         "slevici.cz",
         "facebook.com",
         "origin-when-cross-origin"
        ],
        [
         "13",
         "https://www.slevici.cz/detail-slevy/netradicni-menu-s-vuni-dalneho-vychodu-ktery-chutna-to-jsou-aktualni-slevici-do-restaurace-makalu-9872",
         "https://www.slevici.cz/detail-slevy/netradicni-menu-s-vuni-dalneho-vychodu-ktery-chutna-to-jsou-aktualni-slevici-do-restaurace-makalu-9872",
         "False",
         "origin-when-crossorigin",
         "https://www.facebook.com/plugins/likebox.php?href=http%3A%2F%2Fwww.facebook.com%2Fslevici.cz&width=240&height=258&colorscheme=light&show_faces=true&border_color=%23fff&stream=false&header=false",
         "True",
         "https://www.slevici.cz/detail-slevy/netradicni-menu-s-vuni-dalneho-vychodu-ktery-chutna-to-jsou-aktualni-slevici-do-restaurace-makalu-9872",
         "slevici.cz",
         "facebook.com",
         "origin-when-cross-origin"
        ],
        [
         "16",
         "https://www.japan-partner.com/auction/audi/cars-for-sale.html",
         "https://www.japan-partner.com/auction/Audi/cars-for-sale.html",
         "False",
         "origin-when-crossorigin",
         "https://www.facebook.com/plugins/like.php?href=https%3A%2F%2Fwww.facebook.com%2FJapanPartnerInc%2F&width=81&layout=button_count&action=like&size=small&show_faces=false&share=false&height=21&appId",
         "True",
         "https://www.japan-partner.com/auction/audi/cars-for-sale.html",
         "japan-partner.com",
         "facebook.com",
         "origin-when-cross-origin"
        ],
        [
         "17",
         "https://www.japan-partner.com/auction/audi/cars-for-sale.html",
         "https://www.japan-partner.com/auction/Audi/cars-for-sale.html",
         "False",
         "origin-when-crossorigin",
         "https://www.facebook.com/plugins/like.php?href=https%3A%2F%2Fwww.facebook.com%2FJapanPartnerInc%2F&width=81&layout=button_count&action=like&size=small&show_faces=false&share=false&height=21&appId",
         "True",
         "https://www.japan-partner.com/auction/audi/cars-for-sale.html",
         "japan-partner.com",
         "facebook.com",
         "origin-when-cross-origin"
        ],
        [
         "20",
         "https://siir.sitesi.web.tr/",
         "https://siir.sitesi.web.tr/",
         "False",
         "origin-when-crossorigin",
         "https://www.facebook.com/v2.2/plugins/like.php?action=like&app_id=372989742882151&channel=https%3A%2F%2Fstaticxx.facebook.com%2Fx%2Fconnect%2Fxd_arbiter%2F%3Fversion%3D46%23cb%3Df01272f3302770db0%26domain%3Dsiir.sitesi.web.tr%26is_canvas%3Dfalse%26origin%3Dhttps%253A%252F%252Fsiir.sitesi.web.tr%252Ff7e58107c4d0e4d5e%26relation%3Dparent.parent&container_width=217&href=https%3A%2F%2Fwww.facebook.com%2Fasksevgisitesi&layout=box_count&locale=tr_TR&sdk=joey&share=false&show_faces=false",
         "True",
         "https://siir.sitesi.web.tr/",
         "sitesi.web.tr",
         "facebook.com",
         "origin-when-cross-origin"
        ],
        [
         "26",
         "https://rte.com.br/imprensa/noticias/2023/12/01/rodonaves-tem-200-vagas-de-emprego-em-todo-o-brasil.html",
         "https://rte.com.br/imprensa/noticias/2023/12/01/rodonaves-tem-200-vagas-de-emprego-em-todo-o-brasil.html",
         "False",
         "origin-when-crossorigin",
         "https://www.facebook.com/v2.0/plugins/share_button.php?app_id=&channel=https%3A%2F%2Fstaticxx.facebook.com%2Fx%2Fconnect%2Fxd_arbiter%2F%3Fversion%3D46%23cb%3Df5c339f41350917c5%26domain%3Drte.com.br%26is_canvas%3Dfalse%26origin%3Dhttps%253A%252F%252Frte.com.br%252Ff4e2b6dc7dd80f32c%26relation%3Dparent.parent&container_width=40&href=https%3A%2F%2Frte.com.br%2Fimprensa%2Fnoticias%2F2023%2F12%2F01%2Frodonaves-tem-200-vagas-de-emprego-em-todo-o-brasil.html&locale=pt_BR&sdk=joey&width=50",
         "True",
         "https://rte.com.br/imprensa/noticias/2023/12/01/rodonaves-tem-200-vagas-de-emprego-em-todo-o-brasil.html",
         "rte.com.br",
         "facebook.com",
         "origin-when-cross-origin"
        ],
        [
         "29",
         "https://www.powerade.com/partnerships",
         "https://www.powerade.com/partnerships",
         "False",
         "always",
         "https://www.powerade.com/partnerships",
         "False",
         "https://www.powerade.com/partnerships",
         "powerade.com",
         "powerade.com",
         "unsafe-url"
        ],
        [
         "35",
         "https://winylownia.pl/pl/products/opakowanie-prezentowe-pudelko-winylownia-104648.html",
         "https://winylownia.pl/pl/products/gift-box-opakowanie-prezentowe-pudelko-winylownia-104648.html",
         "False",
         "origin-when-crossorigin",
         "https://www.facebook.com/plugins/video.php?height=314&href=https%3A%2F%2Fwww.facebook.com%2Fsklep.winylownia%2Fvideos%2F423373178841712%2F&show_text=false&width=560",
         "True",
         "https://winylownia.pl/pl/products/gift-box-opakowanie-prezentowe-pudelko-winylownia-104648.html",
         "winylownia.pl",
         "facebook.com",
         "origin-when-cross-origin"
        ],
        [
         "37",
         "https://winylownia.pl/pl/products/opakowanie-prezentowe-pudelko-winylownia-104648.html",
         "https://winylownia.pl/pl/products/gift-box-opakowanie-prezentowe-pudelko-winylownia-104648.html",
         "False",
         "origin-when-crossorigin",
         "https://www.facebook.com/v13.0/plugins/customerchat.php?app_id=&attribution=biz_inbox&channel=https%3A%2F%2Fstaticxx.facebook.com%2Fx%2Fconnect%2Fxd_arbiter%2F%3Fversion%3D46%23cb%3Df9a56178b556cb6a1%26domain%3Dwinylownia.pl%26is_canvas%3Dfalse%26origin%3Dhttps%253A%252F%252Fwinylownia.pl%252Ffadae65a615b31e36%26relation%3Dparent.parent&container_width=1440&current_url=https%3A%2F%2Fwinylownia.pl%2Fpl%2Fproducts%2Fgift-box-opakowanie-prezentowe-pudelko-winylownia-104648.html&is_loaded_by_facade=true&locale=pl_PL&log_id=5f806795-b2e7-430d-b65d-e5b0ee5279f1&page_id=489994841055020&request_time=1706234026203&sdk=joey",
         "True",
         "https://winylownia.pl/pl/products/gift-box-opakowanie-prezentowe-pudelko-winylownia-104648.html",
         "winylownia.pl",
         "facebook.com",
         "origin-when-cross-origin"
        ],
        [
         "38",
         "https://hcmcc.edu.vn/thong-bao/thong-bao-dh-xay-dung-ha-noi-tuyen-sinh-lien-thong-hinh-thuc-dao-tao-vua-lam-vua-hoc-doi-voi-thi-sinh-co-bang-tot-nghiep-cd-hoc-tai-truong-cd-xay-dung-tphcm.htm",
         "https://hcmcc.edu.vn/thong-bao/thong-bao-dh-xay-dung-ha-noi-tuyen-sinh-lien-thong-hinh-thuc-dao-tao-vua-lam-vua-hoc-doi-voi-thi-sinh-co-bang-tot-nghiep-cd-hoc-tai-truong-cd-xay-dung-tphcm.htm",
         "False",
         "origin-when-crossorigin",
         "https://www.facebook.com/v13.0/plugins/page.php?adapt_container_width=true&app_id=&channel=https%3A%2F%2Fstaticxx.facebook.com%2Fx%2Fconnect%2Fxd_arbiter%2F%3Fversion%3D46%23cb%3Df8cf2a8d0fe665b1b%26domain%3Dhcmcc.edu.vn%26is_canvas%3Dfalse%26origin%3Dhttps%253A%252F%252Fhcmcc.edu.vn%252Ffc99a299ba20aea64%26relation%3Dparent.parent&container_width=0&height=200&hide_cover=false&href=https%3A%2F%2Fwww.facebook.com%2FTuyensinh.hcmcc.edu.vn%2F&locale=vi_VN&sdk=joey&show_facepile=true&show_posts=true&small_header=false&width=350",
         "True",
         "https://hcmcc.edu.vn/thong-bao/thong-bao-dh-xay-dung-ha-noi-tuyen-sinh-lien-thong-hinh-thuc-dao-tao-vua-lam-vua-hoc-doi-voi-thi-sinh-co-bang-tot-nghiep-cd-hoc-tai-truong-cd-xay-dung-tphcm.htm",
         "hcmcc.edu.vn",
         "facebook.com",
         "origin-when-cross-origin"
        ],
        [
         "42",
         "https://gothunderbirds.ca/news/2024/1/20/mens-basketball-radocaj-leads-birds-to-bounce-back-win-in-prince-george.aspx",
         "https://gothunderbirds.ca/news/2024/1/20/mens-basketball-radocaj-leads-birds-to-bounce-back-win-in-prince-george.aspx",
         "False",
         "origin-when-crossorigin",
         "https://www.instagram.com/p/C2WaJqSML4y/embed/captioned/?cr=1&v=14&wp=540&rd=https%3A%2F%2Fgothunderbirds.ca&rp=%2Fnews%2F2024%2F1%2F20%2Fmens-basketball-radocaj-leads-birds-to-bounce-back-win-in-prince-george.aspx#%7B%22ci%22%3A0%2C%22os%22%3A9745.200000047684%2C%22ls%22%3A3401.2000000476837%2C%22le%22%3A4756.300000190735%7D",
         "True",
         "https://gothunderbirds.ca/news/2024/1/20/mens-basketball-radocaj-leads-birds-to-bounce-back-win-in-prince-george.aspx",
         "gothunderbirds.ca",
         "instagram.com",
         "origin-when-cross-origin"
        ],
        [
         "43",
         "https://www.unedic.org/actualites/soft-skills-vraiment-utiles-dans-un-parcours-professionnel",
         "https://www.unedic.org/actualites/soft-skills-vraiment-utiles-dans-un-parcours-professionnel",
         "False",
         "origin-when-crossorigin",
         "https://www.instagram.com/reel/C0wqg2DiZy_/embed/captioned/?cr=1&v=14&wp=540&rd=https%3A%2F%2Fwww.unedic.org&rp=%2Factualites%2Fsoft-skills-vraiment-utiles-dans-un-parcours-professionnel#%7B%22ci%22%3A0%2C%22os%22%3A1448.3999998569489%2C%22ls%22%3A530.6999998092651%2C%22le%22%3A1362.6999998092651%7D",
         "True",
         "https://www.unedic.org/actualites/soft-skills-vraiment-utiles-dans-un-parcours-professionnel",
         "unedic.org",
         "instagram.com",
         "origin-when-cross-origin"
        ],
        [
         "47",
         "https://www.customs.gov.lk/train-the-trainers-workshop-for-customs-officers-on-control-mechanism-of-importation-the-ozone-depleting-substances-ods-and-non-ods",
         "https://www.customs.gov.lk/train-the-trainers-workshop-for-customs-officers-on-control-mechanism-of-importation-the-ozone-depleting-substances-ods-and-non-ods/",
         "False",
         "origin-when-crossorigin",
         "https://www.facebook.com/plugins/page.php?href=https%3A%2F%2Fwww.facebook.com%2FSriLankaCustoms&tabs&width=340&height=180&small_header=false&adapt_container_width=true&hide_cover=false&show_facepile=true&appId",
         "True",
         "https://www.customs.gov.lk/train-the-trainers-workshop-for-customs-officers-on-control-mechanism-of-importation-the-ozone-depleting-substances-ods-and-non-ods/",
         "customs.gov.lk",
         "facebook.com",
         "origin-when-cross-origin"
        ],
        [
         "57",
         "https://www.customs.gov.lk/business",
         "https://www.customs.gov.lk/business/",
         "False",
         "origin-when-crossorigin",
         "https://www.facebook.com/plugins/page.php?href=https%3A%2F%2Fwww.facebook.com%2FSriLankaCustoms&tabs&width=340&height=180&small_header=false&adapt_container_width=true&hide_cover=false&show_facepile=true&appId",
         "True",
         "https://www.customs.gov.lk/business/",
         "customs.gov.lk",
         "facebook.com",
         "origin-when-cross-origin"
        ],
        [
         "58",
         "https://www.milkjapan.net/pc/news/category/event",
         "https://www.milkjapan.net/pc/news/category/event",
         "False",
         "origin-when-crossorigin",
         "https://www.facebook.com/plugins/like.php?app_id=&channel=https%3A%2F%2Fstaticxx.facebook.com%2Fx%2Fconnect%2Fxd_arbiter%2F%3Fversion%3D46%23cb%3Df784a11a4988b0671%26domain%3Dwww.milkjapan.net%26is_canvas%3Dfalse%26origin%3Dhttps%253A%252F%252Fwww.milkjapan.net%252Ff8e6df1c548b43f69%26relation%3Dparent.parent&container_width=0&href=https%3A%2F%2Fwww.milkjapan.net%2Fpc%2Fnews%2F2023%2F10%2F18%2F3431&layout=button_count&locale=ja_JP&sdk=joey&send=false&show_faces=false&width=80",
         "True",
         "https://www.milkjapan.net/pc/news/category/event",
         "milkjapan.net",
         "facebook.com",
         "origin-when-cross-origin"
        ],
        [
         "59",
         "https://www.milkjapan.net/pc/news/category/event",
         "https://www.milkjapan.net/pc/news/category/event",
         "False",
         "origin-when-crossorigin",
         "https://www.facebook.com/plugins/like.php?app_id=&channel=https%3A%2F%2Fstaticxx.facebook.com%2Fx%2Fconnect%2Fxd_arbiter%2F%3Fversion%3D46%23cb%3Dfe9c404b6bdbe4f1e%26domain%3Dwww.milkjapan.net%26is_canvas%3Dfalse%26origin%3Dhttps%253A%252F%252Fwww.milkjapan.net%252Ff8e6df1c548b43f69%26relation%3Dparent.parent&container_width=0&href=https%3A%2F%2Fwww.milkjapan.net%2Fpc%2Fnews%2F2023%2F10%2F18%2F3427&layout=button_count&locale=ja_JP&sdk=joey&send=false&show_faces=false&width=80",
         "True",
         "https://www.milkjapan.net/pc/news/category/event",
         "milkjapan.net",
         "facebook.com",
         "origin-when-cross-origin"
        ],
        [
         "60",
         "https://www.milkjapan.net/pc/news/category/event",
         "https://www.milkjapan.net/pc/news/category/event",
         "False",
         "origin-when-crossorigin",
         "https://www.facebook.com/plugins/like.php?app_id=&channel=https%3A%2F%2Fstaticxx.facebook.com%2Fx%2Fconnect%2Fxd_arbiter%2F%3Fversion%3D46%23cb%3Dfbe6e7447d47b6fc5%26domain%3Dwww.milkjapan.net%26is_canvas%3Dfalse%26origin%3Dhttps%253A%252F%252Fwww.milkjapan.net%252Ff8e6df1c548b43f69%26relation%3Dparent.parent&container_width=0&href=https%3A%2F%2Fwww.milkjapan.net%2Fpc%2Fnews%2F2023%2F10%2F10%2F3409&layout=button_count&locale=ja_JP&sdk=joey&send=false&show_faces=false&width=80",
         "True",
         "https://www.milkjapan.net/pc/news/category/event",
         "milkjapan.net",
         "facebook.com",
         "origin-when-cross-origin"
        ],
        [
         "61",
         "https://www.milkjapan.net/pc/news/category/event",
         "https://www.milkjapan.net/pc/news/category/event",
         "False",
         "origin-when-crossorigin",
         "https://www.facebook.com/plugins/like.php?app_id=&channel=https%3A%2F%2Fstaticxx.facebook.com%2Fx%2Fconnect%2Fxd_arbiter%2F%3Fversion%3D46%23cb%3Dfcd79868471f5978e%26domain%3Dwww.milkjapan.net%26is_canvas%3Dfalse%26origin%3Dhttps%253A%252F%252Fwww.milkjapan.net%252Ff8e6df1c548b43f69%26relation%3Dparent.parent&container_width=0&href=https%3A%2F%2Fwww.milkjapan.net%2Fpc%2Fnews%2F2023%2F08%2F03%2F3405&layout=button_count&locale=ja_JP&sdk=joey&send=false&show_faces=false&width=80",
         "True",
         "https://www.milkjapan.net/pc/news/category/event",
         "milkjapan.net",
         "facebook.com",
         "origin-when-cross-origin"
        ],
        [
         "62",
         "https://www.milkjapan.net/pc/news/category/event",
         "https://www.milkjapan.net/pc/news/category/event",
         "False",
         "origin-when-crossorigin",
         "https://www.facebook.com/plugins/like.php?app_id=&channel=https%3A%2F%2Fstaticxx.facebook.com%2Fx%2Fconnect%2Fxd_arbiter%2F%3Fversion%3D46%23cb%3Df437de41473c6e9b6%26domain%3Dwww.milkjapan.net%26is_canvas%3Dfalse%26origin%3Dhttps%253A%252F%252Fwww.milkjapan.net%252Ff8e6df1c548b43f69%26relation%3Dparent.parent&container_width=0&href=https%3A%2F%2Fwww.milkjapan.net%2Fpc%2Fnews%2F2023%2F06%2F05%2F3395&layout=button_count&locale=ja_JP&sdk=joey&send=false&show_faces=false&width=80",
         "True",
         "https://www.milkjapan.net/pc/news/category/event",
         "milkjapan.net",
         "facebook.com",
         "origin-when-cross-origin"
        ],
        [
         "63",
         "https://www.milkjapan.net/pc/news/category/event",
         "https://www.milkjapan.net/pc/news/category/event",
         "False",
         "origin-when-crossorigin",
         "https://www.facebook.com/plugins/like.php?app_id=&channel=https%3A%2F%2Fstaticxx.facebook.com%2Fx%2Fconnect%2Fxd_arbiter%2F%3Fversion%3D46%23cb%3Df0ce309d0c93bd7fc%26domain%3Dwww.milkjapan.net%26is_canvas%3Dfalse%26origin%3Dhttps%253A%252F%252Fwww.milkjapan.net%252Ff8e6df1c548b43f69%26relation%3Dparent.parent&container_width=0&href=https%3A%2F%2Fwww.milkjapan.net%2Fpc%2Fnews%2F2023%2F06%2F05%2F3393&layout=button_count&locale=ja_JP&sdk=joey&send=false&show_faces=false&width=80",
         "True",
         "https://www.milkjapan.net/pc/news/category/event",
         "milkjapan.net",
         "facebook.com",
         "origin-when-cross-origin"
        ],
        [
         "64",
         "https://www.milkjapan.net/pc/news/category/event",
         "https://www.milkjapan.net/pc/news/category/event",
         "False",
         "origin-when-crossorigin",
         "https://www.facebook.com/plugins/like.php?app_id=&channel=https%3A%2F%2Fstaticxx.facebook.com%2Fx%2Fconnect%2Fxd_arbiter%2F%3Fversion%3D46%23cb%3Dfcf539f6ff1baf059%26domain%3Dwww.milkjapan.net%26is_canvas%3Dfalse%26origin%3Dhttps%253A%252F%252Fwww.milkjapan.net%252Ff8e6df1c548b43f69%26relation%3Dparent.parent&container_width=0&href=https%3A%2F%2Fwww.milkjapan.net%2Fpc%2Fnews%2F2023%2F06%2F05%2F3391&layout=button_count&locale=ja_JP&sdk=joey&send=false&show_faces=false&width=80",
         "True",
         "https://www.milkjapan.net/pc/news/category/event",
         "milkjapan.net",
         "facebook.com",
         "origin-when-cross-origin"
        ],
        [
         "65",
         "https://www.milkjapan.net/pc/news/category/event",
         "https://www.milkjapan.net/pc/news/category/event",
         "False",
         "origin-when-crossorigin",
         "https://www.facebook.com/plugins/like.php?app_id=&channel=https%3A%2F%2Fstaticxx.facebook.com%2Fx%2Fconnect%2Fxd_arbiter%2F%3Fversion%3D46%23cb%3Dfaeec9b6b37d72baa%26domain%3Dwww.milkjapan.net%26is_canvas%3Dfalse%26origin%3Dhttps%253A%252F%252Fwww.milkjapan.net%252Ff8e6df1c548b43f69%26relation%3Dparent.parent&container_width=0&href=https%3A%2F%2Fwww.milkjapan.net%2Fpc%2Fnews%2F2023%2F06%2F05%2F3387&layout=button_count&locale=ja_JP&sdk=joey&send=false&show_faces=false&width=80",
         "True",
         "https://www.milkjapan.net/pc/news/category/event",
         "milkjapan.net",
         "facebook.com",
         "origin-when-cross-origin"
        ],
        [
         "66",
         "https://www.milkjapan.net/pc/news/category/event",
         "https://www.milkjapan.net/pc/news/category/event",
         "False",
         "origin-when-crossorigin",
         "https://www.facebook.com/plugins/like.php?app_id=&channel=https%3A%2F%2Fstaticxx.facebook.com%2Fx%2Fconnect%2Fxd_arbiter%2F%3Fversion%3D46%23cb%3Df42a71191f3b7263f%26domain%3Dwww.milkjapan.net%26is_canvas%3Dfalse%26origin%3Dhttps%253A%252F%252Fwww.milkjapan.net%252Ff8e6df1c548b43f69%26relation%3Dparent.parent&container_width=0&href=https%3A%2F%2Fwww.milkjapan.net%2Fpc%2Fnews%2F2023%2F06%2F05%2F3384&layout=button_count&locale=ja_JP&sdk=joey&send=false&show_faces=false&width=80",
         "True",
         "https://www.milkjapan.net/pc/news/category/event",
         "milkjapan.net",
         "facebook.com",
         "origin-when-cross-origin"
        ],
        [
         "67",
         "https://www.milkjapan.net/pc/news/category/event",
         "https://www.milkjapan.net/pc/news/category/event",
         "False",
         "origin-when-crossorigin",
         "https://www.facebook.com/plugins/like.php?app_id=&channel=https%3A%2F%2Fstaticxx.facebook.com%2Fx%2Fconnect%2Fxd_arbiter%2F%3Fversion%3D46%23cb%3Dfd93d78f7ab1d49f1%26domain%3Dwww.milkjapan.net%26is_canvas%3Dfalse%26origin%3Dhttps%253A%252F%252Fwww.milkjapan.net%252Ff8e6df1c548b43f69%26relation%3Dparent.parent&container_width=0&href=https%3A%2F%2Fwww.milkjapan.net%2Fpc%2Fnews%2F2023%2F06%2F05%2F3378&layout=button_count&locale=ja_JP&sdk=joey&send=false&show_faces=false&width=80",
         "True",
         "https://www.milkjapan.net/pc/news/category/event",
         "milkjapan.net",
         "facebook.com",
         "origin-when-cross-origin"
        ],
        [
         "70",
         "http://www.relmaxtop.com/statistic/summary?id=1",
         "http://www.relmaxtop.com/statistic/summary?id=1",
         "False",
         "origin-when-crossorigin",
         "https://www.facebook.com/plugins/like.php?app_id=249290788533683&channel=https%3A%2F%2Fstaticxx.facebook.com%2Fx%2Fconnect%2Fxd_arbiter%2F%3Fversion%3D46%23cb%3Df9bc998e4cc618a4a%26domain%3Dwww.relmaxtop.com%26is_canvas%3Dfalse%26origin%3Dhttp%253A%252F%252Fwww.relmaxtop.com%252Ff9aa11b133f986b9b%26relation%3Dparent.parent&container_width=12&href=https%3A%2F%2Fwww.facebook.com%2FRelmaxTop&layout=button_count&locale=en_US&sdk=joey&send=false&show_faces=false&width=80",
         "True",
         "http://www.relmaxtop.com/statistic/summary?id=1",
         "relmaxtop.com",
         "facebook.com",
         "origin-when-cross-origin"
        ],
        [
         "77",
         "https://www.chlorineinstitute.org/meetings-overview",
         "https://www.chlorineinstitute.org/meetings-overview",
         "False",
         "origin-when-crossorigin",
         "https://www.facebook.com/plugins/video.php?height=314&href=https%3A%2F%2Fwww.facebook.com%2Fthechlorineinstitute%2Fvideos%2F350926579009563%2F&show_text=false&width=560&t=0",
         "True",
         "https://www.chlorineinstitute.org/meetings-overview",
         "chlorineinstitute.org",
         "facebook.com",
         "origin-when-cross-origin"
        ],
        [
         "81",
         "https://catholicreadings.org/verse-of-the-day",
         "https://catholicreadings.org/verse-of-the-day/",
         "False",
         "origin-when-crossorigin",
         "https://www.facebook.com/v17.0/plugins/like.php?app_id=0&channel=https%3A%2F%2Fstaticxx.facebook.com%2Fx%2Fconnect%2Fxd_arbiter%2F%3Fversion%3D46%23cb%3Df6b920cdd41434170%26domain%3Dcatholicreadings.org%26is_canvas%3Dfalse%26origin%3Dhttps%253A%252F%252Fcatholicreadings.org%252Ff8214288723699a78%26relation%3Dparent.parent&container_width=0&href=https%3A%2F%2Fcatholicreadings.org%2Fthere-is-something-greater-than-jonah-here%2F&layout=button_count&locale=en_US&ref=addtoany&sdk=joey&width=90",
         "True",
         "https://catholicreadings.org/verse-of-the-day/",
         "catholicreadings.org",
         "facebook.com",
         "origin-when-cross-origin"
        ],
        [
         "82",
         "https://sanhdecor.vn/account/login",
         "https://sanhdecor.vn/account/login",
         "False",
         "origin-when-crossorigin",
         "https://www.facebook.com/v16.0/plugins/page.php?adapt_container_width=true&app_id=&channel=https%3A%2F%2Fstaticxx.facebook.com%2Fx%2Fconnect%2Fxd_arbiter%2F%3Fversion%3D46%23cb%3Df32602bff9d1b2fd8%26domain%3Dsanhdecor.vn%26is_canvas%3Dfalse%26origin%3Dhttps%253A%252F%252Fsanhdecor.vn%252Ff4673c8293820845a%26relation%3Dparent.parent&container_width=0&height=262&hide_cover=false&href=https%3A%2F%2Fwww.facebook.com%2FSanhdecor.vn%2F&locale=vi_VN&sdk=joey&show_facepile=true&show_posts=false&small_header=false",
         "True",
         "https://sanhdecor.vn/account/login",
         "sanhdecor.vn",
         "facebook.com",
         "origin-when-cross-origin"
        ],
        [
         "83",
         "https://sanhdecor.vn/account/login",
         "https://sanhdecor.vn/account/login",
         "False",
         "origin-when-crossorigin",
         "https://www.facebook.com/welcome",
         "True",
         "https://sanhdecor.vn/account/login",
         "sanhdecor.vn",
         "facebook.com",
         "origin-when-cross-origin"
        ],
        [
         "84",
         "https://sanhdecor.vn/account/login",
         "https://sanhdecor.vn/account/login",
         "False",
         "origin-when-crossorigin",
         "https://www.facebook.com/welcome",
         "True",
         "https://sanhdecor.vn/account/login",
         "sanhdecor.vn",
         "facebook.com",
         "origin-when-cross-origin"
        ],
        [
         "85",
         "https://sanhdecor.vn/account/login",
         "https://sanhdecor.vn/account/login",
         "False",
         "origin-when-crossorigin",
         "https://www.facebook.com/v16.0/plugins/customer_chat/bubble",
         "True",
         "https://sanhdecor.vn/account/login",
         "sanhdecor.vn",
         "facebook.com",
         "origin-when-cross-origin"
        ],
        [
         "86",
         "https://sanhdecor.vn/account/login",
         "https://sanhdecor.vn/account/login",
         "False",
         "origin-when-crossorigin",
         "https://www.facebook.com/v16.0/plugins/customer_chat/bubble",
         "True",
         "https://sanhdecor.vn/account/login",
         "sanhdecor.vn",
         "facebook.com",
         "origin-when-cross-origin"
        ],
        [
         "87",
         "https://sanhdecor.vn/account/login",
         "https://sanhdecor.vn/account/login",
         "False",
         "origin-when-crossorigin",
         "https://www.facebook.com/v16.0/plugins/customer_chat/bubble",
         "True",
         "https://sanhdecor.vn/account/login",
         "sanhdecor.vn",
         "facebook.com",
         "origin-when-cross-origin"
        ],
        [
         "88",
         "https://sanhdecor.vn/account/login",
         "https://sanhdecor.vn/account/login",
         "False",
         "origin-when-crossorigin",
         "https://www.facebook.com/v16.0/plugins/customer_chat/bubble",
         "True",
         "https://sanhdecor.vn/account/login",
         "sanhdecor.vn",
         "facebook.com",
         "origin-when-cross-origin"
        ],
        [
         "89",
         "https://sanhdecor.vn/account/login",
         "https://sanhdecor.vn/account/login",
         "False",
         "origin-when-crossorigin",
         "https://www.facebook.com/v16.0/plugins/customer_chat/bubble",
         "True",
         "https://sanhdecor.vn/account/login",
         "sanhdecor.vn",
         "facebook.com",
         "origin-when-cross-origin"
        ],
        [
         "90",
         "https://sanhdecor.vn/account/login",
         "https://sanhdecor.vn/account/login",
         "False",
         "origin-when-crossorigin",
         "https://www.facebook.com/v16.0/plugins/customer_chat/bubble",
         "True",
         "https://sanhdecor.vn/account/login",
         "sanhdecor.vn",
         "facebook.com",
         "origin-when-cross-origin"
        ],
        [
         "91",
         "https://sanhdecor.vn/account/login",
         "https://sanhdecor.vn/account/login",
         "False",
         "origin-when-crossorigin",
         "https://www.facebook.com/v16.0/plugins/customer_chat/bubble",
         "True",
         "https://sanhdecor.vn/account/login",
         "sanhdecor.vn",
         "facebook.com",
         "origin-when-cross-origin"
        ],
        [
         "92",
         "https://sanhdecor.vn/account/login",
         "https://sanhdecor.vn/account/login",
         "False",
         "origin-when-crossorigin",
         "https://www.facebook.com/v16.0/plugins/customer_chat/bubble",
         "True",
         "https://sanhdecor.vn/account/login",
         "sanhdecor.vn",
         "facebook.com",
         "origin-when-cross-origin"
        ],
        [
         "100",
         "http://sportinform.com.ua/profile/view/3129",
         "http://sportinform.com.ua/profile/view/3129",
         "False",
         "origin-when-crossorigin",
         "https://www.facebook.com/plugins/likebox.php?href=http%3A%2F%2Fwww.facebook.com%2Fpages%2Fsportinformcomua%2F310518885667445&width=350&height=200&colorscheme=light&show_faces=true&border_color&stream=false&header=true",
         "True",
         "http://sportinform.com.ua/profile/view/3129",
         "sportinform.com.ua",
         "facebook.com",
         "origin-when-cross-origin"
        ],
        [
         "123",
         "https://www.liner.jp/news/series/monopirica",
         "https://www.liner.jp/news/series/monopirica/",
         "False",
         "origin-when-crossorigin",
         "https://www.facebook.com/v2.6/plugins/like.php?action=like&app_id=329025013803392&channel=https%3A%2F%2Fstaticxx.facebook.com%2Fx%2Fconnect%2Fxd_arbiter%2F%3Fversion%3D46%23cb%3Df5498098f65384116%26domain%3Dwww.liner.jp%26is_canvas%3Dfalse%26origin%3Dhttps%253A%252F%252Fwww.liner.jp%252Ff25bfbf3f6d3cc3f3%26relation%3Dparent.parent&container_width=80&href=https%3A%2F%2Fwww.liner.jp%2Fnews%2Fseries%2Fmonopirica%2F&layout=button_count&locale=ja_JP&sdk=joey&share=false&show_faces=false&size=small",
         "True",
         "https://www.liner.jp/news/series/monopirica/",
         "liner.jp",
         "facebook.com",
         "origin-when-cross-origin"
        ],
        [
         "125",
         "https://antennatv.tv/interactive-schedule/pacific-schedule",
         "https://antennatv.tv/interactive-schedule/pacific-schedule/",
         "False",
         "origin-when-crossorigin",
         "https://www.instagram.com/antennatv/embed/?cr=1&v=14&wp=391&rd=https%3A%2F%2Fantennatv.tv&rp=%2Finteractive-schedule%2Fpacific-schedule%2F#%7B%22ci%22%3A0%2C%22os%22%3A3510.5%2C%22ls%22%3A608.7000000476837%2C%22le%22%3A1635.3000001907349%7D",
         "True",
         "https://antennatv.tv/interactive-schedule/pacific-schedule/",
         "antennatv.tv",
         "instagram.com",
         "origin-when-cross-origin"
        ],
        [
         "126",
         "https://antennatv.tv/interactive-schedule/pacific-schedule",
         "https://antennatv.tv/interactive-schedule/pacific-schedule/",
         "False",
         "origin-when-crossorigin",
         "https://www.instagram.com/antennatv/embed/?cr=1&v=14&rd=https%3A%2F%2Fantennatv.tv&rp=%2Finteractive-schedule%2Fpacific-schedule%2F#%7B%22ci%22%3A1%2C%22os%22%3A3533%2C%22ls%22%3A608.7000000476837%2C%22le%22%3A1635.3000001907349%7D",
         "True",
         "https://antennatv.tv/interactive-schedule/pacific-schedule/",
         "antennatv.tv",
         "instagram.com",
         "origin-when-cross-origin"
        ],
        [
         "127",
         "https://antennatv.tv/interactive-schedule/pacific-schedule",
         "https://antennatv.tv/interactive-schedule/pacific-schedule/",
         "False",
         "origin-when-crossorigin",
         "https://www.facebook.com/plugins/like_box.php?app_id=&channel=https%3A%2F%2Fstaticxx.facebook.com%2Fx%2Fconnect%2Fxd_arbiter%2F%3Fversion%3D46%23cb%3Df9b771cd1caf1afcd%26domain%3Dantennatv.tv%26is_canvas%3Dfalse%26origin%3Dhttps%253A%252F%252Fantennatv.tv%252Ff4fdb2e91a2643058%26relation%3Dparent.parent&container_width=393&header=false&height=620&href=http%3A%2F%2Fwww.facebook.com%2Fantennatv&locale=en_US&sdk=joey&show_border=false&show_faces=false&stream=true&width=280",
         "True",
         "https://antennatv.tv/interactive-schedule/pacific-schedule/",
         "antennatv.tv",
         "facebook.com",
         "origin-when-cross-origin"
        ],
        [
         "128",
         "https://antennatv.tv/interactive-schedule/pacific-schedule",
         "https://antennatv.tv/interactive-schedule/pacific-schedule/",
         "False",
         "origin-when-crossorigin",
         "https://www.facebook.com/plugins/like_box.php?app_id=&channel=https%3A%2F%2Fstaticxx.facebook.com%2Fx%2Fconnect%2Fxd_arbiter%2F%3Fversion%3D46%23cb%3Df84384f1eedd53d4b%26domain%3Dantennatv.tv%26is_canvas%3Dfalse%26origin%3Dhttps%253A%252F%252Fantennatv.tv%252Ff4fdb2e91a2643058%26relation%3Dparent.parent&container_width=0&header=false&height=620&href=http%3A%2F%2Fwww.facebook.com%2Fantennatv&locale=en_US&sdk=joey&show_border=false&show_faces=false&stream=true&width=280",
         "True",
         "https://antennatv.tv/interactive-schedule/pacific-schedule/",
         "antennatv.tv",
         "facebook.com",
         "origin-when-cross-origin"
        ],
        [
         "131",
         "https://www.visit-dorset.com/ideas-inspiration/special-offers",
         "https://www.visit-dorset.com/ideas-inspiration/special-offers/",
         "False",
         "always",
         "https://www.visit-dorset.com/ideas-inspiration/special-offers/",
         "False",
         "https://www.visit-dorset.com/ideas-inspiration/special-offers/",
         "visit-dorset.com",
         "visit-dorset.com",
         "unsafe-url"
        ]
       ],
       "shape": {
        "columns": 10,
        "rows": 5438
       }
      },
      "text/html": [
       "<div>\n",
       "<style scoped>\n",
       "    .dataframe tbody tr th:only-of-type {\n",
       "        vertical-align: middle;\n",
       "    }\n",
       "\n",
       "    .dataframe tbody tr th {\n",
       "        vertical-align: top;\n",
       "    }\n",
       "\n",
       "    .dataframe thead th {\n",
       "        text-align: right;\n",
       "    }\n",
       "</style>\n",
       "<table border=\"1\" class=\"dataframe\">\n",
       "  <thead>\n",
       "    <tr style=\"text-align: right;\">\n",
       "      <th></th>\n",
       "      <th>init_url</th>\n",
       "      <th>final_url</th>\n",
       "      <th>failed_visit</th>\n",
       "      <th>referrer_policy</th>\n",
       "      <th>frameUrl</th>\n",
       "      <th>inFrame</th>\n",
       "      <th>pageURL</th>\n",
       "      <th>final_host</th>\n",
       "      <th>frame_host</th>\n",
       "      <th>ref_pol_fix</th>\n",
       "    </tr>\n",
       "  </thead>\n",
       "  <tbody>\n",
       "    <tr>\n",
       "      <th>0</th>\n",
       "      <td>https://souffle.life/manga/ohayou-oyasumi-mata...</td>\n",
       "      <td>https://souffle.life/manga/ohayou-oyasumi-mata...</td>\n",
       "      <td>False</td>\n",
       "      <td>origin-when-crossorigin</td>\n",
       "      <td>https://www.facebook.com/v3.2/plugins/share_bu...</td>\n",
       "      <td>True</td>\n",
       "      <td>https://souffle.life/manga/ohayou-oyasumi-mata...</td>\n",
       "      <td>souffle.life</td>\n",
       "      <td>facebook.com</td>\n",
       "      <td>origin-when-cross-origin</td>\n",
       "    </tr>\n",
       "    <tr>\n",
       "      <th>1</th>\n",
       "      <td>https://souffle.life/manga/ohayou-oyasumi-mata...</td>\n",
       "      <td>https://souffle.life/manga/ohayou-oyasumi-mata...</td>\n",
       "      <td>False</td>\n",
       "      <td>origin-when-crossorigin</td>\n",
       "      <td>https://www.facebook.com/v3.2/plugins/share_bu...</td>\n",
       "      <td>True</td>\n",
       "      <td>https://souffle.life/manga/ohayou-oyasumi-mata...</td>\n",
       "      <td>souffle.life</td>\n",
       "      <td>facebook.com</td>\n",
       "      <td>origin-when-cross-origin</td>\n",
       "    </tr>\n",
       "    <tr>\n",
       "      <th>6</th>\n",
       "      <td>https://ternanacalcio.com/domattina-rifinitura...</td>\n",
       "      <td>https://ternanacalcio.com/domattina-rifinitura...</td>\n",
       "      <td>False</td>\n",
       "      <td>origin-when-crossorigin</td>\n",
       "      <td>https://www.facebook.com/plugins/like.php?href...</td>\n",
       "      <td>True</td>\n",
       "      <td>https://ternanacalcio.com/domattina-rifinitura...</td>\n",
       "      <td>ternanacalcio.com</td>\n",
       "      <td>facebook.com</td>\n",
       "      <td>origin-when-cross-origin</td>\n",
       "    </tr>\n",
       "    <tr>\n",
       "      <th>10</th>\n",
       "      <td>https://www.slevici.cz/detail-slevy/netradicni...</td>\n",
       "      <td>https://www.slevici.cz/detail-slevy/netradicni...</td>\n",
       "      <td>False</td>\n",
       "      <td>origin-when-crossorigin</td>\n",
       "      <td>https://www.facebook.com/plugins/like.php?href...</td>\n",
       "      <td>True</td>\n",
       "      <td>https://www.slevici.cz/detail-slevy/netradicni...</td>\n",
       "      <td>slevici.cz</td>\n",
       "      <td>facebook.com</td>\n",
       "      <td>origin-when-cross-origin</td>\n",
       "    </tr>\n",
       "    <tr>\n",
       "      <th>11</th>\n",
       "      <td>https://www.slevici.cz/detail-slevy/netradicni...</td>\n",
       "      <td>https://www.slevici.cz/detail-slevy/netradicni...</td>\n",
       "      <td>False</td>\n",
       "      <td>origin-when-crossorigin</td>\n",
       "      <td>https://www.facebook.com/plugins/like.php?href...</td>\n",
       "      <td>True</td>\n",
       "      <td>https://www.slevici.cz/detail-slevy/netradicni...</td>\n",
       "      <td>slevici.cz</td>\n",
       "      <td>facebook.com</td>\n",
       "      <td>origin-when-cross-origin</td>\n",
       "    </tr>\n",
       "    <tr>\n",
       "      <th>...</th>\n",
       "      <td>...</td>\n",
       "      <td>...</td>\n",
       "      <td>...</td>\n",
       "      <td>...</td>\n",
       "      <td>...</td>\n",
       "      <td>...</td>\n",
       "      <td>...</td>\n",
       "      <td>...</td>\n",
       "      <td>...</td>\n",
       "      <td>...</td>\n",
       "    </tr>\n",
       "    <tr>\n",
       "      <th>16206</th>\n",
       "      <td>https://aoten.jp/register</td>\n",
       "      <td>https://aoten.jp/register/</td>\n",
       "      <td>False</td>\n",
       "      <td>origin-when-crossorigin</td>\n",
       "      <td>https://www.facebook.com/v2.5/plugins/like.php...</td>\n",
       "      <td>True</td>\n",
       "      <td>https://aoten.jp/register/</td>\n",
       "      <td>aoten.jp</td>\n",
       "      <td>facebook.com</td>\n",
       "      <td>origin-when-cross-origin</td>\n",
       "    </tr>\n",
       "    <tr>\n",
       "      <th>16208</th>\n",
       "      <td>https://kumomanga.net/manga</td>\n",
       "      <td>https://kumomanga.net/manga/</td>\n",
       "      <td>False</td>\n",
       "      <td>origin-when-crossorigin</td>\n",
       "      <td>https://www.facebook.com/v12.0/plugins/page.ph...</td>\n",
       "      <td>True</td>\n",
       "      <td>https://kumomanga.net/manga/</td>\n",
       "      <td>kumomanga.net</td>\n",
       "      <td>facebook.com</td>\n",
       "      <td>origin-when-cross-origin</td>\n",
       "    </tr>\n",
       "    <tr>\n",
       "      <th>16215</th>\n",
       "      <td>https://www.surveyclub.com/privacy-policy</td>\n",
       "      <td>https://www.surveyclub.com/privacy-policy</td>\n",
       "      <td>False</td>\n",
       "      <td>origin-when-crossorigin</td>\n",
       "      <td>https://www.facebook.com/v2.0/plugins/like.php...</td>\n",
       "      <td>True</td>\n",
       "      <td>https://www.surveyclub.com/privacy-policy</td>\n",
       "      <td>surveyclub.com</td>\n",
       "      <td>facebook.com</td>\n",
       "      <td>origin-when-cross-origin</td>\n",
       "    </tr>\n",
       "    <tr>\n",
       "      <th>16216</th>\n",
       "      <td>http://www.romannumerals.co/date-converter</td>\n",
       "      <td>http://www.romannumerals.co/date-converter</td>\n",
       "      <td>False</td>\n",
       "      <td>origin-when-crossorigin</td>\n",
       "      <td>https://www.facebook.com/v2.3/plugins/like.php...</td>\n",
       "      <td>True</td>\n",
       "      <td>http://www.romannumerals.co/date-converter</td>\n",
       "      <td>romannumerals.co</td>\n",
       "      <td>facebook.com</td>\n",
       "      <td>origin-when-cross-origin</td>\n",
       "    </tr>\n",
       "    <tr>\n",
       "      <th>16222</th>\n",
       "      <td>https://www.ruralheritage.com/new_rh_website/c...</td>\n",
       "      <td>https://www.ruralheritage.com/new_rh_website/c...</td>\n",
       "      <td>False</td>\n",
       "      <td>origin-when-crossorigin</td>\n",
       "      <td>https://www.facebook.com/plugins/like.php?href...</td>\n",
       "      <td>True</td>\n",
       "      <td>https://www.ruralheritage.com/new_rh_website/c...</td>\n",
       "      <td>ruralheritage.com</td>\n",
       "      <td>facebook.com</td>\n",
       "      <td>origin-when-cross-origin</td>\n",
       "    </tr>\n",
       "  </tbody>\n",
       "</table>\n",
       "<p>5438 rows × 10 columns</p>\n",
       "</div>"
      ],
      "text/plain": [
       "                                                init_url  \\\n",
       "0      https://souffle.life/manga/ohayou-oyasumi-mata...   \n",
       "1      https://souffle.life/manga/ohayou-oyasumi-mata...   \n",
       "6      https://ternanacalcio.com/domattina-rifinitura...   \n",
       "10     https://www.slevici.cz/detail-slevy/netradicni...   \n",
       "11     https://www.slevici.cz/detail-slevy/netradicni...   \n",
       "...                                                  ...   \n",
       "16206                          https://aoten.jp/register   \n",
       "16208                        https://kumomanga.net/manga   \n",
       "16215          https://www.surveyclub.com/privacy-policy   \n",
       "16216         http://www.romannumerals.co/date-converter   \n",
       "16222  https://www.ruralheritage.com/new_rh_website/c...   \n",
       "\n",
       "                                               final_url  failed_visit  \\\n",
       "0      https://souffle.life/manga/ohayou-oyasumi-mata...         False   \n",
       "1      https://souffle.life/manga/ohayou-oyasumi-mata...         False   \n",
       "6      https://ternanacalcio.com/domattina-rifinitura...         False   \n",
       "10     https://www.slevici.cz/detail-slevy/netradicni...         False   \n",
       "11     https://www.slevici.cz/detail-slevy/netradicni...         False   \n",
       "...                                                  ...           ...   \n",
       "16206                         https://aoten.jp/register/         False   \n",
       "16208                       https://kumomanga.net/manga/         False   \n",
       "16215          https://www.surveyclub.com/privacy-policy         False   \n",
       "16216         http://www.romannumerals.co/date-converter         False   \n",
       "16222  https://www.ruralheritage.com/new_rh_website/c...         False   \n",
       "\n",
       "               referrer_policy  \\\n",
       "0      origin-when-crossorigin   \n",
       "1      origin-when-crossorigin   \n",
       "6      origin-when-crossorigin   \n",
       "10     origin-when-crossorigin   \n",
       "11     origin-when-crossorigin   \n",
       "...                        ...   \n",
       "16206  origin-when-crossorigin   \n",
       "16208  origin-when-crossorigin   \n",
       "16215  origin-when-crossorigin   \n",
       "16216  origin-when-crossorigin   \n",
       "16222  origin-when-crossorigin   \n",
       "\n",
       "                                                frameUrl  inFrame  \\\n",
       "0      https://www.facebook.com/v3.2/plugins/share_bu...     True   \n",
       "1      https://www.facebook.com/v3.2/plugins/share_bu...     True   \n",
       "6      https://www.facebook.com/plugins/like.php?href...     True   \n",
       "10     https://www.facebook.com/plugins/like.php?href...     True   \n",
       "11     https://www.facebook.com/plugins/like.php?href...     True   \n",
       "...                                                  ...      ...   \n",
       "16206  https://www.facebook.com/v2.5/plugins/like.php...     True   \n",
       "16208  https://www.facebook.com/v12.0/plugins/page.ph...     True   \n",
       "16215  https://www.facebook.com/v2.0/plugins/like.php...     True   \n",
       "16216  https://www.facebook.com/v2.3/plugins/like.php...     True   \n",
       "16222  https://www.facebook.com/plugins/like.php?href...     True   \n",
       "\n",
       "                                                 pageURL         final_host  \\\n",
       "0      https://souffle.life/manga/ohayou-oyasumi-mata...       souffle.life   \n",
       "1      https://souffle.life/manga/ohayou-oyasumi-mata...       souffle.life   \n",
       "6      https://ternanacalcio.com/domattina-rifinitura...  ternanacalcio.com   \n",
       "10     https://www.slevici.cz/detail-slevy/netradicni...         slevici.cz   \n",
       "11     https://www.slevici.cz/detail-slevy/netradicni...         slevici.cz   \n",
       "...                                                  ...                ...   \n",
       "16206                         https://aoten.jp/register/           aoten.jp   \n",
       "16208                       https://kumomanga.net/manga/      kumomanga.net   \n",
       "16215          https://www.surveyclub.com/privacy-policy     surveyclub.com   \n",
       "16216         http://www.romannumerals.co/date-converter   romannumerals.co   \n",
       "16222  https://www.ruralheritage.com/new_rh_website/c...  ruralheritage.com   \n",
       "\n",
       "         frame_host               ref_pol_fix  \n",
       "0      facebook.com  origin-when-cross-origin  \n",
       "1      facebook.com  origin-when-cross-origin  \n",
       "6      facebook.com  origin-when-cross-origin  \n",
       "10     facebook.com  origin-when-cross-origin  \n",
       "11     facebook.com  origin-when-cross-origin  \n",
       "...             ...                       ...  \n",
       "16206  facebook.com  origin-when-cross-origin  \n",
       "16208  facebook.com  origin-when-cross-origin  \n",
       "16215  facebook.com  origin-when-cross-origin  \n",
       "16216  facebook.com  origin-when-cross-origin  \n",
       "16222  facebook.com  origin-when-cross-origin  \n",
       "\n",
       "[5438 rows x 10 columns]"
      ]
     },
     "execution_count": 11,
     "metadata": {},
     "output_type": "execute_result"
    }
   ],
   "source": [
    "# Table 20\n",
    "meta[~meta.referrer_policy.isin(RP_VALUES)]"
   ]
  },
  {
   "cell_type": "code",
   "execution_count": 12,
   "metadata": {},
   "outputs": [
    {
     "data": {
      "text/plain": [
       "3040"
      ]
     },
     "execution_count": 12,
     "metadata": {},
     "output_type": "execute_result"
    }
   ],
   "source": [
    "# Websites with meta-tag referrer policy\n",
    "meta[meta.ref_pol_fix.isin(RP_VALUES)].final_host.nunique()"
   ]
  },
  {
   "cell_type": "code",
   "execution_count": 13,
   "metadata": {},
   "outputs": [],
   "source": [
    "drop_meta = meta.drop_duplicates(subset=['final_host', 'inFrame', 'ref_pol_fix'])"
   ]
  },
  {
   "cell_type": "code",
   "execution_count": 14,
   "metadata": {},
   "outputs": [
    {
     "name": "stderr",
     "output_type": "stream",
     "text": [
      "/data/referrer-policy/artifact/RP-Analyzer/03_analyzer/0301_implement/../../helpers/utils.py:705: FutureWarning: Series.__getitem__ treating keys as positions is deprecated. In a future version, integer keys will always be treated as labels (consistent with DataFrame behavior). To access a value by position, use `ser.iloc[pos]`\n",
      "  'percentage': normalized_counts[i]\n"
     ]
    }
   ],
   "source": [
    "inframe_meta_h = create_rp_stats_inframe_df(drop_meta, RP_VALUES)"
   ]
  },
  {
   "cell_type": "code",
   "execution_count": 15,
   "metadata": {},
   "outputs": [],
   "source": [
    "os.makedirs(\"../../output/chart\", exist_ok=True)"
   ]
  },
  {
   "cell_type": "code",
   "execution_count": 16,
   "metadata": {},
   "outputs": [
    {
     "data": {
      "image/png": "[encoded data removed]",
      "text/plain": [
       "<Figure size 1312x600 with 1 Axes>"
      ]
     },
     "metadata": {},
     "output_type": "display_data"
    }
   ],
   "source": [
    "# For Figure 5\n",
    "sns.set_style(\"whitegrid\")\n",
    "sns.set_context(\"paper\", font_scale=1.5)  # Increase font scale for better readability\n",
    "\n",
    "# Create the plot\n",
    "inFrame_graph = sns.catplot(\n",
    "    data=inframe_meta_h,\n",
    "    kind=\"bar\",\n",
    "    x=\"rp_value\",\n",
    "    y=\"value_counts\",\n",
    "    hue=\"inFrame\",\n",
    "    height=6,\n",
    "    aspect=2\n",
    ")\n",
    "\n",
    "# Rotate x-axis tick labels and adjust tick label size\n",
    "inFrame_graph.set_xticklabels(rotation=30)\n",
    "plt.tick_params(axis=\"x\", which=\"major\", labelsize=14)\n",
    "\n",
    "# Update legend labels (assuming the order is consistent)\n",
    "new_labels = [\"Parent Frame\", \"Child Frame\"]\n",
    "for text_obj, new_label in zip(inFrame_graph._legend.texts, new_labels):\n",
    "    text_obj.set_text(new_label)\n",
    "\n",
    "# Customize the legend\n",
    "inFrame_graph._legend.set_title(\"Meta-tag Location\")\n",
    "inFrame_graph._legend.get_title().set_fontsize(\"x-large\")\n",
    "inFrame_graph._legend.set_bbox_to_anchor((0.15, 1))\n",
    "inFrame_graph._legend.set_loc(\"upper left\")\n",
    "inFrame_graph._legend.set_frame_on(True)\n",
    "inFrame_graph._legend.get_frame().set_edgecolor(\"black\")\n",
    "inFrame_graph._legend.get_frame().set_linewidth(1.5)\n",
    "for text in inFrame_graph._legend.get_texts():\n",
    "    text.set_fontsize(\"large\")\n",
    "\n",
    "# Remove axis labels if desired\n",
    "inFrame_graph.set_axis_labels(\"\", \"\")\n",
    "\n",
    "# Adjust the layout to prevent overlaps\n",
    "plt.tight_layout()\n",
    "plt.tick_params(axis=\"both\", which=\"major\", labelsize=18)\n",
    "\n",
    "# Save the figure with high resolution (300 dpi is usually good for print)\n",
    "plt.savefig(\"../../output/chart/\"+extract_type+\"_inFrameMeta.png\", dpi=300, bbox_inches=\"tight\")\n",
    "\n",
    "# Display the plot\n",
    "plt.show()"
   ]
  },
  {
   "cell_type": "markdown",
   "metadata": {},
   "source": [
    "# Response RP\n"
   ]
  },
  {
   "cell_type": "code",
   "execution_count": 17,
   "metadata": {},
   "outputs": [],
   "source": [
    "# resp_file = '../../output/data_raw/2025-02-08_noAct_raw.parquet'\n",
    "resp_file = '../../output/data_raw/2024-01-24_SF_raw.parquet'\n",
    "\n",
    "resp = pd.read_parquet(resp_file)"
   ]
  },
  {
   "cell_type": "code",
   "execution_count": 18,
   "metadata": {},
   "outputs": [],
   "source": [
    "resp = clean_dataset(resp, intersection)"
   ]
  },
  {
   "cell_type": "code",
   "execution_count": 19,
   "metadata": {},
   "outputs": [
    {
     "data": {
      "text/plain": [
       "response_ref_policy\n",
       "                                                                                                       84\n",
       "*                                                                                                       1\n",
       "---NO REFERRER POLICY HEADERS---                                                                     9196\n",
       "Origin-when-cross-origin                                                                                2\n",
       "SAME-ORIGIN                                                                                             1\n",
       "                                                                                                     ... \n",
       "strict-origin-when-cross-origin, strict-origin-when-cross-origin, strict-origin-when-cross-origin       1\n",
       "strict-orign-when-cross-origin                                                                          1\n",
       "unsafe-url                                                                                            987\n",
       "unsafe-url\\nunsafe-url                                                                                  1\n",
       "use strict-origin-when-cross-origin                                                                     1\n",
       "Name: final_host, Length: 82, dtype: int64"
      ]
     },
     "execution_count": 19,
     "metadata": {},
     "output_type": "execute_result"
    }
   ],
   "source": [
    "resp.groupby('response_ref_policy').final_host.nunique()"
   ]
  },
  {
   "cell_type": "code",
   "execution_count": 20,
   "metadata": {},
   "outputs": [],
   "source": [
    "resp['response_rp_fix'] = resp[resp.response_ref_policy.notna()].parallel_apply(transform_response, axis=1)"
   ]
  },
  {
   "cell_type": "code",
   "execution_count": 21,
   "metadata": {},
   "outputs": [
    {
     "data": {
      "text/plain": [
       "response_rp_fix\n",
       "ignored                            9331\n",
       "no-referrer                        1413\n",
       "no-referrer-when-downgrade         2485\n",
       "origin                             1336\n",
       "origin-when-cross-origin           1168\n",
       "same-origin                        1851\n",
       "strict-origin                       361\n",
       "strict-origin-when-cross-origin    7397\n",
       "unsafe-url                          988\n",
       "Name: final_host, dtype: int64"
      ]
     },
     "execution_count": 21,
     "metadata": {},
     "output_type": "execute_result"
    }
   ],
   "source": [
    "resp.groupby('response_rp_fix').final_host.nunique()"
   ]
  },
  {
   "cell_type": "code",
   "execution_count": 22,
   "metadata": {},
   "outputs": [],
   "source": [
    "response_rp_3rd_party = create_resp_rp_stats_third_party_df(resp, RP_VALUES)\n"
   ]
  },
  {
   "cell_type": "code",
   "execution_count": 23,
   "metadata": {},
   "outputs": [
    {
     "data": {
      "application/vnd.microsoft.datawrangler.viewer.v0+json": {
       "columns": [
        {
         "name": "index",
         "rawType": "int64",
         "type": "integer"
        },
        {
         "name": "rp_value",
         "rawType": "object",
         "type": "string"
        },
        {
         "name": "third_party_resp",
         "rawType": "bool",
         "type": "boolean"
        },
        {
         "name": "value_counts",
         "rawType": "int64",
         "type": "integer"
        }
       ],
       "conversionMethod": "pd.DataFrame",
       "ref": "6805c27f-db43-4b0f-abef-75b872cd3451",
       "rows": [
        [
         "0",
         "no-referrer",
         "False",
         "1079"
        ],
        [
         "1",
         "no-referrer",
         "True",
         "358"
        ],
        [
         "2",
         "same-origin",
         "False",
         "1157"
        ],
        [
         "3",
         "same-origin",
         "True",
         "761"
        ],
        [
         "4",
         "origin",
         "False",
         "1138"
        ],
        [
         "5",
         "origin",
         "True",
         "244"
        ],
        [
         "6",
         "strict-origin",
         "False",
         "207"
        ],
        [
         "7",
         "strict-origin",
         "True",
         "167"
        ],
        [
         "8",
         "strict-origin-when-cross-origin",
         "False",
         "5192"
        ],
        [
         "9",
         "strict-origin-when-cross-origin",
         "True",
         "2999"
        ],
        [
         "10",
         "origin-when-cross-origin",
         "False",
         "1011"
        ],
        [
         "11",
         "origin-when-cross-origin",
         "True",
         "188"
        ],
        [
         "12",
         "no-referrer-when-downgrade",
         "True",
         "1508"
        ],
        [
         "13",
         "no-referrer-when-downgrade",
         "False",
         "1210"
        ],
        [
         "14",
         "unsafe-url",
         "False",
         "891"
        ],
        [
         "15",
         "unsafe-url",
         "True",
         "112"
        ]
       ],
       "shape": {
        "columns": 3,
        "rows": 16
       }
      },
      "text/html": [
       "<div>\n",
       "<style scoped>\n",
       "    .dataframe tbody tr th:only-of-type {\n",
       "        vertical-align: middle;\n",
       "    }\n",
       "\n",
       "    .dataframe tbody tr th {\n",
       "        vertical-align: top;\n",
       "    }\n",
       "\n",
       "    .dataframe thead th {\n",
       "        text-align: right;\n",
       "    }\n",
       "</style>\n",
       "<table border=\"1\" class=\"dataframe\">\n",
       "  <thead>\n",
       "    <tr style=\"text-align: right;\">\n",
       "      <th></th>\n",
       "      <th>rp_value</th>\n",
       "      <th>third_party_resp</th>\n",
       "      <th>value_counts</th>\n",
       "    </tr>\n",
       "  </thead>\n",
       "  <tbody>\n",
       "    <tr>\n",
       "      <th>0</th>\n",
       "      <td>no-referrer</td>\n",
       "      <td>False</td>\n",
       "      <td>1079</td>\n",
       "    </tr>\n",
       "    <tr>\n",
       "      <th>1</th>\n",
       "      <td>no-referrer</td>\n",
       "      <td>True</td>\n",
       "      <td>358</td>\n",
       "    </tr>\n",
       "    <tr>\n",
       "      <th>2</th>\n",
       "      <td>same-origin</td>\n",
       "      <td>False</td>\n",
       "      <td>1157</td>\n",
       "    </tr>\n",
       "    <tr>\n",
       "      <th>3</th>\n",
       "      <td>same-origin</td>\n",
       "      <td>True</td>\n",
       "      <td>761</td>\n",
       "    </tr>\n",
       "    <tr>\n",
       "      <th>4</th>\n",
       "      <td>origin</td>\n",
       "      <td>False</td>\n",
       "      <td>1138</td>\n",
       "    </tr>\n",
       "    <tr>\n",
       "      <th>5</th>\n",
       "      <td>origin</td>\n",
       "      <td>True</td>\n",
       "      <td>244</td>\n",
       "    </tr>\n",
       "    <tr>\n",
       "      <th>6</th>\n",
       "      <td>strict-origin</td>\n",
       "      <td>False</td>\n",
       "      <td>207</td>\n",
       "    </tr>\n",
       "    <tr>\n",
       "      <th>7</th>\n",
       "      <td>strict-origin</td>\n",
       "      <td>True</td>\n",
       "      <td>167</td>\n",
       "    </tr>\n",
       "    <tr>\n",
       "      <th>8</th>\n",
       "      <td>strict-origin-when-cross-origin</td>\n",
       "      <td>False</td>\n",
       "      <td>5192</td>\n",
       "    </tr>\n",
       "    <tr>\n",
       "      <th>9</th>\n",
       "      <td>strict-origin-when-cross-origin</td>\n",
       "      <td>True</td>\n",
       "      <td>2999</td>\n",
       "    </tr>\n",
       "    <tr>\n",
       "      <th>10</th>\n",
       "      <td>origin-when-cross-origin</td>\n",
       "      <td>False</td>\n",
       "      <td>1011</td>\n",
       "    </tr>\n",
       "    <tr>\n",
       "      <th>11</th>\n",
       "      <td>origin-when-cross-origin</td>\n",
       "      <td>True</td>\n",
       "      <td>188</td>\n",
       "    </tr>\n",
       "    <tr>\n",
       "      <th>12</th>\n",
       "      <td>no-referrer-when-downgrade</td>\n",
       "      <td>True</td>\n",
       "      <td>1508</td>\n",
       "    </tr>\n",
       "    <tr>\n",
       "      <th>13</th>\n",
       "      <td>no-referrer-when-downgrade</td>\n",
       "      <td>False</td>\n",
       "      <td>1210</td>\n",
       "    </tr>\n",
       "    <tr>\n",
       "      <th>14</th>\n",
       "      <td>unsafe-url</td>\n",
       "      <td>False</td>\n",
       "      <td>891</td>\n",
       "    </tr>\n",
       "    <tr>\n",
       "      <th>15</th>\n",
       "      <td>unsafe-url</td>\n",
       "      <td>True</td>\n",
       "      <td>112</td>\n",
       "    </tr>\n",
       "  </tbody>\n",
       "</table>\n",
       "</div>"
      ],
      "text/plain": [
       "                           rp_value  third_party_resp  value_counts\n",
       "0                       no-referrer             False          1079\n",
       "1                       no-referrer              True           358\n",
       "2                       same-origin             False          1157\n",
       "3                       same-origin              True           761\n",
       "4                            origin             False          1138\n",
       "5                            origin              True           244\n",
       "6                     strict-origin             False           207\n",
       "7                     strict-origin              True           167\n",
       "8   strict-origin-when-cross-origin             False          5192\n",
       "9   strict-origin-when-cross-origin              True          2999\n",
       "10         origin-when-cross-origin             False          1011\n",
       "11         origin-when-cross-origin              True           188\n",
       "12       no-referrer-when-downgrade              True          1508\n",
       "13       no-referrer-when-downgrade             False          1210\n",
       "14                       unsafe-url             False           891\n",
       "15                       unsafe-url              True           112"
      ]
     },
     "execution_count": 23,
     "metadata": {},
     "output_type": "execute_result"
    }
   ],
   "source": [
    "response_rp_3rd_party"
   ]
  },
  {
   "cell_type": "code",
   "execution_count": 24,
   "metadata": {},
   "outputs": [
    {
     "data": {
      "image/png": "[encoded data removed]",
      "text/plain": [
       "<Figure size 1378.42x600 with 1 Axes>"
      ]
     },
     "metadata": {},
     "output_type": "display_data"
    }
   ],
   "source": [
    "# Figure 4\n",
    "\n",
    "# Create the plot\n",
    "response_3rdparty_graph = sns.catplot(\n",
    "    data=response_rp_3rd_party,\n",
    "    kind=\"bar\",\n",
    "    x=\"rp_value\",\n",
    "    y=\"value_counts\",\n",
    "    hue=\"third_party_resp\",\n",
    "    height=6,\n",
    "    aspect=2\n",
    ")\n",
    "\n",
    "# Rotate x-axis tick labels and adjust tick label size\n",
    "response_3rdparty_graph.set_xticklabels(rotation=30)\n",
    "plt.tick_params(axis=\"x\", which=\"major\", labelsize=14)\n",
    "\n",
    "# Update legend labels (assuming the order is consistent)\n",
    "new_labels = ['First-party', 'Third-party']\n",
    "for text_obj, new_label in zip(response_3rdparty_graph._legend.texts, new_labels):\n",
    "    text_obj.set_text(new_label)\n",
    "\n",
    "# Customize the legend\n",
    "response_3rdparty_graph._legend.set_title(\"Response Type\")\n",
    "response_3rdparty_graph._legend.get_title().set_fontsize(\"x-large\")\n",
    "response_3rdparty_graph._legend.set_bbox_to_anchor((0.15, 1))\n",
    "response_3rdparty_graph._legend.set_loc(\"upper left\")\n",
    "response_3rdparty_graph._legend.set_frame_on(True)\n",
    "response_3rdparty_graph._legend.get_frame().set_edgecolor(\"black\")\n",
    "response_3rdparty_graph._legend.get_frame().set_linewidth(1.5)\n",
    "for text in response_3rdparty_graph._legend.get_texts():\n",
    "    text.set_fontsize(\"large\")\n",
    "\n",
    "# Remove axis labels if desired\n",
    "response_3rdparty_graph.set_axis_labels(\"\", \"\")\n",
    "\n",
    "# Adjust the layout to prevent overlaps\n",
    "plt.tight_layout()\n",
    "plt.tick_params(axis=\"both\", which=\"major\", labelsize=18)\n",
    "\n",
    "# Save the figure with high resolution (300 dpi is usually good for print)\n",
    "plt.savefig(\"../../output/chart/\"+extract_type+\"_ReponseThirdParty.png\", dpi=300, bbox_inches=\"tight\")\n",
    "\n",
    "# Display the plot\n",
    "plt.show()"
   ]
  },
  {
   "cell_type": "markdown",
   "metadata": {},
   "source": [
    "# Total\n"
   ]
  },
  {
   "cell_type": "code",
   "execution_count": 25,
   "metadata": {},
   "outputs": [
    {
     "name": "stdout",
     "output_type": "stream",
     "text": [
      "Websites that utilise meta-tags:  3040\n",
      "Websites that utilise response: 12010\n",
      "Websites that utilise doc-wide: 13264\n"
     ]
    },
    {
     "data": {
      "text/plain": [
       "rp_effective\n",
       "strict-origin-when-cross-origin    7441\n",
       "no-referrer-when-downgrade         2727\n",
       "origin-when-cross-origin           2252\n",
       "no-referrer                        2027\n",
       "origin                             1939\n",
       "same-origin                        1860\n",
       "unsafe-url                         1228\n",
       "strict-origin                       365\n",
       "Name: count, dtype: int64"
      ]
     },
     "execution_count": 25,
     "metadata": {},
     "output_type": "execute_result"
    }
   ],
   "source": [
    "doc_wide = doc_wide(meta, resp)\n",
    "doc_wide.rp_effective.value_counts()"
   ]
  }
 ],
 "metadata": {
  "kernelspec": {
   "display_name": ".venv",
   "language": "python",
   "name": "python3"
  },
  "language_info": {
   "codemirror_mode": {
    "name": "ipython",
    "version": 3
   },
   "file_extension": ".py",
   "mimetype": "text/x-python",
   "name": "python",
   "nbconvert_exporter": "python",
   "pygments_lexer": "ipython3",
   "version": "3.12.3"
  }
 },
 "nbformat": 4,
 "nbformat_minor": 2
}
