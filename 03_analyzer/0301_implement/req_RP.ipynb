{
 "cells": [
  {
   "cell_type": "code",
   "execution_count": null,
   "metadata": {},
   "outputs": [],
   "source": []
  },
  {
   "cell_type": "code",
   "execution_count": 1,
   "metadata": {},
   "outputs": [],
   "source": [
    "import sys\n",
    "sys.path.append('../..')\n",
    "\n",
    "import pandas as pd\n",
    "import matplotlib.pyplot as plt\n",
    "import seaborn as sns\n",
    "import os \n",
    "\n",
    "from helpers.utils import (\n",
    "    BAD_RP_VALUES,\n",
    "    GOOD_RP_VALUES,\n",
    "    count_url_components,\n",
    "    count_uniq_dom_RP,\n",
    "    calculate_rank_statistics\n",
    ")"
   ]
  },
  {
   "cell_type": "code",
   "execution_count": 2,
   "metadata": {},
   "outputs": [],
   "source": [
    "# file_path = '../../output/data_raw/2025-02-08_noAct_raw.parquet'\n",
    "file_path = '../../output/data_raw/2024-01-24_SF_raw.parquet'\n",
    "# file_path = '../../output/data_raw/2024-01-24_AMS_raw.parquet'\n",
    "\n",
    "df = pd.read_parquet(file_path)"
   ]
  },
  {
   "cell_type": "code",
   "execution_count": 3,
   "metadata": {},
   "outputs": [
    {
     "name": "stdout",
     "output_type": "stream",
     "text": [
      "Date: 2024-01-24\n",
      "Type: SF\n"
     ]
    }
   ],
   "source": [
    "import re\n",
    "match = re.search(r'(\\d{4}-\\d{2}-\\d{2})_([^_]+)', file_path)\n",
    "if match:\n",
    "    extract_date, extract_type = match.groups()\n",
    "    print(\"Date:\", extract_date)\n",
    "    print(\"Type:\", extract_type)\n",
    "\n"
   ]
  },
  {
   "cell_type": "code",
   "execution_count": 4,
   "metadata": {},
   "outputs": [],
   "source": [
    "intersection_file = '../../helpers/intersection'\n",
    "\n",
    "with open(intersection_file, \"r\") as file:\n",
    "    intersection = file.read().splitlines()"
   ]
  },
  {
   "cell_type": "code",
   "execution_count": 5,
   "metadata": {},
   "outputs": [],
   "source": [
    "# cleaning\n",
    "df = df[df.failed_visit == False]\n",
    "df = df[df.init_url.isin(intersection)]\n",
    "df = df[df.final_url != \"about:blank\"]"
   ]
  },
  {
   "cell_type": "markdown",
   "metadata": {},
   "source": [
    "# General"
   ]
  },
  {
   "cell_type": "code",
   "execution_count": 6,
   "metadata": {},
   "outputs": [
    {
     "data": {
      "text/plain": [
       "27414"
      ]
     },
     "execution_count": 6,
     "metadata": {},
     "output_type": "execute_result"
    }
   ],
   "source": [
    "df.final_host.nunique()"
   ]
  },
  {
   "cell_type": "code",
   "execution_count": 7,
   "metadata": {},
   "outputs": [],
   "source": [
    "path_count, path_query_count, path_or_query = count_url_components(df)"
   ]
  },
  {
   "cell_type": "code",
   "execution_count": 8,
   "metadata": {},
   "outputs": [
    {
     "name": "stdout",
     "output_type": "stream",
     "text": [
      "Total unique domains with path >= 10 chars: 27414\n",
      "Total unique domains with path and query >= 10 chars: 3534\n",
      "Total unique domains with path or query >= 10 chars: 27414\n"
     ]
    }
   ],
   "source": [
    "print(\"Total unique domains with path >= 10 chars:\", path_count)\n",
    "print(\"Total unique domains with path and query >= 10 chars:\", path_query_count)\n",
    "print(\"Total unique domains with path or query >= 10 chars:\", path_or_query)"
   ]
  },
  {
   "cell_type": "code",
   "execution_count": 10,
   "metadata": {},
   "outputs": [
    {
     "name": "stdout",
     "output_type": "stream",
     "text": [
      "no-referrer : 2622\n",
      "same-origin : 638\n",
      "origin : 2216\n",
      "strict-origin : 175\n",
      "strict-origin-when-cross-origin : 27414\n",
      "origin-when-cross-origin : 1484\n",
      "no-referrer-when-downgrade : 2604\n",
      "unsafe-url : 1442\n"
     ]
    }
   ],
   "source": [
    "count_uniq_dom_RP(df)"
   ]
  },
  {
   "cell_type": "code",
   "execution_count": 11,
   "metadata": {},
   "outputs": [
    {
     "name": "stdout",
     "output_type": "stream",
     "text": [
      "Average number of ref_pol per website_domain: 1.4078572991901948\n",
      "Maximum number of ref_pol per website_domain: 6\n",
      "Website domain with the maximum number of unique ref_pol values: breezeline.com\n",
      "Median number of ref_pol per website_domain: 1.0\n"
     ]
    }
   ],
   "source": [
    "# Group by website_domain and count unique ref_pol values\n",
    "ref_pol_counts = df.groupby('final_host')['ref_pol'].nunique()\n",
    "\n",
    "# Calculate the average number of ref_pol per website_domain\n",
    "average_ref_pol_per_domain = ref_pol_counts.mean()\n",
    "\n",
    "print(f'Average number of ref_pol per website_domain: {average_ref_pol_per_domain}')\n",
    "# Find the maximum number of unique ref_pol values per website_domain\n",
    "max_ref_pol_per_domain = ref_pol_counts.max()\n",
    "\n",
    "print(f'Maximum number of ref_pol per website_domain: {max_ref_pol_per_domain}')\n",
    "# Find the website_domain with the maximum number of unique ref_pol values\n",
    "max_ref_pol_domain = ref_pol_counts.idxmax()\n",
    "\n",
    "print(f'Website domain with the maximum number of unique ref_pol values: {max_ref_pol_domain}')\n",
    "\n",
    "# Calculate the median number of ref_pol per website_domain\n",
    "median_ref_pol_per_domain = ref_pol_counts.median()\n",
    "\n",
    "print(f'Median number of ref_pol per website_domain: {median_ref_pol_per_domain}')\n"
   ]
  },
  {
   "cell_type": "code",
   "execution_count": 12,
   "metadata": {},
   "outputs": [
    {
     "name": "stdout",
     "output_type": "stream",
     "text": [
      "Number of website_domains with ref_pol > 1: 8798\n",
      "Percentage of website_domains with ref_pol > 1: 32.09%\n"
     ]
    }
   ],
   "source": [
    "# Filter the ref_pol_counts to get website_domains with ref_pol > 1\n",
    "domains_with_multiple_ref_pol = ref_pol_counts[ref_pol_counts > 1]\n",
    "\n",
    "# Get the count of such website_domains\n",
    "num_domains_with_multiple_ref_pol = domains_with_multiple_ref_pol.count()\n",
    "\n",
    "print(f'Number of website_domains with ref_pol > 1: {num_domains_with_multiple_ref_pol}')\n",
    "\n",
    "print(f'Percentage of website_domains with ref_pol > 1: {num_domains_with_multiple_ref_pol/df.final_host.nunique()*100:.2f}%')\n",
    "\n"
   ]
  },
  {
   "cell_type": "markdown",
   "metadata": {},
   "source": [
    "# Permissive vs Restrictive\n"
   ]
  },
  {
   "cell_type": "code",
   "execution_count": 13,
   "metadata": {},
   "outputs": [],
   "source": [
    "categories_df = pd.read_csv('../../helpers/categories.csv')\n",
    "categories_df = categories_df[['init_host', 'Categories']]"
   ]
  },
  {
   "cell_type": "code",
   "execution_count": 14,
   "metadata": {},
   "outputs": [],
   "source": [
    "df = df.merge(categories_df, left_on='final_host', right_on='init_host', how='left')"
   ]
  },
  {
   "cell_type": "markdown",
   "metadata": {},
   "source": [
    "## Permissive\n"
   ]
  },
  {
   "cell_type": "code",
   "execution_count": 15,
   "metadata": {},
   "outputs": [],
   "source": [
    "# Filter the dataframe for rows where ref_pol is in BAD_RP_VALUES\n",
    "bad_rp_df = df[df.ref_pol.isin(BAD_RP_VALUES)]\n",
    "\n",
    "# Drop duplicates based on website_domain\n",
    "bad_rp_unique_df = bad_rp_df.drop_duplicates(subset='final_host')\n",
    "\n",
    "bad_rp_categories_df = bad_rp_unique_df.Categories.value_counts().reset_index()\n",
    "bad_rp_categories_df.columns = ['Category', 'Count']"
   ]
  },
  {
   "cell_type": "markdown",
   "metadata": {},
   "source": [
    "## Restictive"
   ]
  },
  {
   "cell_type": "code",
   "execution_count": 16,
   "metadata": {},
   "outputs": [],
   "source": [
    "# Filter the dataframe for rows where ref_pol is in GOOD_RP_VALUES\n",
    "good_rp_df = df[df.ref_pol.isin(GOOD_RP_VALUES)]\n",
    "\n",
    "# Drop duplicates based on website_domain\n",
    "good_rp_unique_df = good_rp_df.drop_duplicates(subset='final_host')\n",
    "\n",
    "good_rp_categories_df = good_rp_unique_df.Categories.value_counts().reset_index()\n",
    "good_rp_categories_df.columns = ['Category', 'Count']"
   ]
  },
  {
   "cell_type": "markdown",
   "metadata": {},
   "source": [
    "## Count Members\n"
   ]
  },
  {
   "cell_type": "code",
   "execution_count": 17,
   "metadata": {},
   "outputs": [],
   "source": [
    "bad_rp_categories_df['type'] = 'bad'\n",
    "good_rp_categories_df['type'] = 'good'"
   ]
  },
  {
   "cell_type": "code",
   "execution_count": 18,
   "metadata": {},
   "outputs": [
    {
     "data": {
      "application/vnd.microsoft.datawrangler.viewer.v0+json": {
       "columns": [
        {
         "name": "index",
         "rawType": "int64",
         "type": "integer"
        },
        {
         "name": "Category",
         "rawType": "object",
         "type": "string"
        },
        {
         "name": "Count",
         "rawType": "int64",
         "type": "integer"
        },
        {
         "name": "type",
         "rawType": "object",
         "type": "string"
        }
       ],
       "conversionMethod": "pd.DataFrame",
       "ref": "0efc0840-6302-42b8-93ef-ed0512cc9cd5",
       "rows": [
        [
         "0",
         "Business",
         "720",
         "bad"
        ],
        [
         "1",
         "Blogs/Wikis",
         "520",
         "bad"
        ],
        [
         "2",
         "Shopping/Merchandizing",
         "472",
         "bad"
        ],
        [
         "3",
         "Marketing/Merchandising",
         "320",
         "bad"
        ],
        [
         "4",
         "Education/Reference",
         "284",
         "bad"
        ],
        [
         "5",
         "Entertainment/Recreation/Hobbies",
         "238",
         "bad"
        ],
        [
         "6",
         "General News",
         "204",
         "bad"
        ],
        [
         "7",
         "Pornography",
         "182",
         "bad"
        ],
        [
         "8",
         "Travel",
         "171",
         "bad"
        ],
        [
         "9",
         "Internet Services",
         "157",
         "bad"
        ],
        [
         "10",
         "Sports",
         "129",
         "bad"
        ],
        [
         "11",
         "Uncategorized",
         "124",
         "bad"
        ],
        [
         "12",
         "Fashion/Beauty",
         "112",
         "bad"
        ],
        [
         "13",
         "Games",
         "109",
         "bad"
        ],
        [
         "14",
         "Health",
         "108",
         "bad"
        ],
        [
         "15",
         "Finance",
         "106",
         "bad"
        ],
        [
         "16",
         "Software/Hardware",
         "100",
         "bad"
        ],
        [
         "17",
         "Non Profit Organizations/Advocacy Groups",
         "74",
         "bad"
        ],
        [
         "18",
         "Recreation/Hobbies",
         "74",
         "bad"
        ],
        [
         "19",
         "Consumer Information",
         "72",
         "bad"
        ],
        [
         "20",
         "Real Estate",
         "54",
         "bad"
        ],
        [
         "21",
         "Portal Sites",
         "43",
         "bad"
        ],
        [
         "22",
         "Motor Vehicles",
         "43",
         "bad"
        ],
        [
         "23",
         "Art/Culture/Heritage",
         "39",
         "bad"
        ],
        [
         "24",
         "Government/Military",
         "36",
         "bad"
        ],
        [
         "25",
         "Forum/Bulletin Boards",
         "33",
         "bad"
        ],
        [
         "26",
         "Illegal Software",
         "31",
         "bad"
        ],
        [
         "27",
         "Technical/Business Forums",
         "25",
         "bad"
        ],
        [
         "28",
         "Job Search",
         "24",
         "bad"
        ],
        [
         "29",
         "Restaurants",
         "24",
         "bad"
        ],
        [
         "30",
         "PUPs",
         "19",
         "bad"
        ],
        [
         "31",
         "Alcohol",
         "19",
         "bad"
        ],
        [
         "32",
         "Gambling",
         "18",
         "bad"
        ],
        [
         "33",
         "Politics/Opinion",
         "17",
         "bad"
        ],
        [
         "34",
         "Auction",
         "15",
         "bad"
        ],
        [
         "35",
         "Major Global Religions",
         "15",
         "bad"
        ],
        [
         "36",
         "Content Server",
         "14",
         "bad"
        ],
        [
         "37",
         "Pharmacy/Drugs",
         "14",
         "bad"
        ],
        [
         "38",
         "Religion and Ideology",
         "12",
         "bad"
        ],
        [
         "39",
         "Dating/Personals",
         "12",
         "bad"
        ],
        [
         "40",
         "Technical Information",
         "12",
         "bad"
        ],
        [
         "41",
         "Interactive Web Applications",
         "11",
         "bad"
        ],
        [
         "42",
         "Personal Pages",
         "11",
         "bad"
        ],
        [
         "43",
         "Weapons",
         "8",
         "bad"
        ],
        [
         "44",
         "Gambling Related",
         "8",
         "bad"
        ],
        [
         "45",
         "Media Sharing",
         "7",
         "bad"
        ],
        [
         "46",
         "Chat",
         "7",
         "bad"
        ],
        [
         "47",
         "Internet Radio/TV",
         "6",
         "bad"
        ],
        [
         "48",
         "Shareware/Freeware",
         "5",
         "bad"
        ],
        [
         "49",
         "Web Mail",
         "5",
         "bad"
        ]
       ],
       "shape": {
        "columns": 3,
        "rows": 164
       }
      },
      "text/html": [
       "<div>\n",
       "<style scoped>\n",
       "    .dataframe tbody tr th:only-of-type {\n",
       "        vertical-align: middle;\n",
       "    }\n",
       "\n",
       "    .dataframe tbody tr th {\n",
       "        vertical-align: top;\n",
       "    }\n",
       "\n",
       "    .dataframe thead th {\n",
       "        text-align: right;\n",
       "    }\n",
       "</style>\n",
       "<table border=\"1\" class=\"dataframe\">\n",
       "  <thead>\n",
       "    <tr style=\"text-align: right;\">\n",
       "      <th></th>\n",
       "      <th>Category</th>\n",
       "      <th>Count</th>\n",
       "      <th>type</th>\n",
       "    </tr>\n",
       "  </thead>\n",
       "  <tbody>\n",
       "    <tr>\n",
       "      <th>0</th>\n",
       "      <td>Business</td>\n",
       "      <td>720</td>\n",
       "      <td>bad</td>\n",
       "    </tr>\n",
       "    <tr>\n",
       "      <th>1</th>\n",
       "      <td>Blogs/Wikis</td>\n",
       "      <td>520</td>\n",
       "      <td>bad</td>\n",
       "    </tr>\n",
       "    <tr>\n",
       "      <th>2</th>\n",
       "      <td>Shopping/Merchandizing</td>\n",
       "      <td>472</td>\n",
       "      <td>bad</td>\n",
       "    </tr>\n",
       "    <tr>\n",
       "      <th>3</th>\n",
       "      <td>Marketing/Merchandising</td>\n",
       "      <td>320</td>\n",
       "      <td>bad</td>\n",
       "    </tr>\n",
       "    <tr>\n",
       "      <th>4</th>\n",
       "      <td>Education/Reference</td>\n",
       "      <td>284</td>\n",
       "      <td>bad</td>\n",
       "    </tr>\n",
       "    <tr>\n",
       "      <th>...</th>\n",
       "      <td>...</td>\n",
       "      <td>...</td>\n",
       "      <td>...</td>\n",
       "    </tr>\n",
       "    <tr>\n",
       "      <th>77</th>\n",
       "      <td>Resource Sharing</td>\n",
       "      <td>1</td>\n",
       "      <td>good</td>\n",
       "    </tr>\n",
       "    <tr>\n",
       "      <th>78</th>\n",
       "      <td>Profanity</td>\n",
       "      <td>1</td>\n",
       "      <td>good</td>\n",
       "    </tr>\n",
       "    <tr>\n",
       "      <th>79</th>\n",
       "      <td>Controversial Opinions</td>\n",
       "      <td>1</td>\n",
       "      <td>good</td>\n",
       "    </tr>\n",
       "    <tr>\n",
       "      <th>80</th>\n",
       "      <td>Game/Cartoon Violence</td>\n",
       "      <td>1</td>\n",
       "      <td>good</td>\n",
       "    </tr>\n",
       "    <tr>\n",
       "      <th>81</th>\n",
       "      <td>Hacking</td>\n",
       "      <td>1</td>\n",
       "      <td>good</td>\n",
       "    </tr>\n",
       "  </tbody>\n",
       "</table>\n",
       "<p>164 rows × 3 columns</p>\n",
       "</div>"
      ],
      "text/plain": [
       "                   Category  Count  type\n",
       "0                  Business    720   bad\n",
       "1               Blogs/Wikis    520   bad\n",
       "2    Shopping/Merchandizing    472   bad\n",
       "3   Marketing/Merchandising    320   bad\n",
       "4       Education/Reference    284   bad\n",
       "..                      ...    ...   ...\n",
       "77         Resource Sharing      1  good\n",
       "78                Profanity      1  good\n",
       "79   Controversial Opinions      1  good\n",
       "80    Game/Cartoon Violence      1  good\n",
       "81                  Hacking      1  good\n",
       "\n",
       "[164 rows x 3 columns]"
      ]
     },
     "execution_count": 18,
     "metadata": {},
     "output_type": "execute_result"
    }
   ],
   "source": [
    "mix_rp_unique_df = pd.concat([bad_rp_categories_df, good_rp_categories_df])\n",
    "\n",
    "\n",
    "mix_rp_unique_df['Category'] = mix_rp_unique_df['Category'].str.replace('- ', '', regex=False)\n",
    "mix_rp_unique_df['Category'] = mix_rp_unique_df['Category'].str.replace('-', ' ', regex=False)\n",
    "\n",
    "mix_rp_unique_df"
   ]
  },
  {
   "cell_type": "code",
   "execution_count": 19,
   "metadata": {},
   "outputs": [],
   "source": [
    "cat_count = pd.read_csv('../../helpers/categories_count.csv')"
   ]
  },
  {
   "cell_type": "code",
   "execution_count": 20,
   "metadata": {},
   "outputs": [],
   "source": [
    "mix_rp_unique_df = mix_rp_unique_df.merge(cat_count, left_on='Category', right_on='Categories', how='left')\n",
    "mix_rp_unique_df['percentage'] = (mix_rp_unique_df['Count'] / mix_rp_unique_df['cat_count']) * 100\n",
    "filtered_df = mix_rp_unique_df[mix_rp_unique_df.cat_count > 100]"
   ]
  },
  {
   "cell_type": "code",
   "execution_count": 21,
   "metadata": {},
   "outputs": [
    {
     "data": {
      "application/vnd.microsoft.datawrangler.viewer.v0+json": {
       "columns": [
        {
         "name": "index",
         "rawType": "int64",
         "type": "integer"
        },
        {
         "name": "Category",
         "rawType": "object",
         "type": "string"
        },
        {
         "name": "Count",
         "rawType": "int64",
         "type": "integer"
        },
        {
         "name": "type",
         "rawType": "object",
         "type": "string"
        },
        {
         "name": "Categories",
         "rawType": "object",
         "type": "string"
        },
        {
         "name": "cat_count",
         "rawType": "int64",
         "type": "integer"
        },
        {
         "name": "Take?",
         "rawType": "bool",
         "type": "boolean"
        },
        {
         "name": "percentage",
         "rawType": "float64",
         "type": "float"
        }
       ],
       "conversionMethod": "pd.DataFrame",
       "ref": "2dbd6b1d-cfa0-4455-a514-22e73a89cf6d",
       "rows": [
        [
         "0",
         "Business",
         "720",
         "bad",
         "Business",
         "3992",
         "True",
         "18.03607214428858"
        ],
        [
         "1",
         "Blogs/Wikis",
         "520",
         "bad",
         "Blogs/Wikis",
         "1701",
         "True",
         "30.570252792475017"
        ],
        [
         "2",
         "Shopping/Merchandizing",
         "472",
         "bad",
         "Shopping/Merchandizing",
         "3445",
         "True",
         "13.701015965166906"
        ],
        [
         "3",
         "Marketing/Merchandising",
         "320",
         "bad",
         "Marketing/Merchandising",
         "2267",
         "True",
         "14.1155712395236"
        ],
        [
         "4",
         "Education/Reference",
         "284",
         "bad",
         "Education/Reference",
         "1855",
         "True",
         "15.309973045822103"
        ],
        [
         "5",
         "Entertainment/Recreation/Hobbies",
         "238",
         "bad",
         "Entertainment/Recreation/Hobbies",
         "1157",
         "True",
         "20.570440795159897"
        ],
        [
         "6",
         "General News",
         "204",
         "bad",
         "General News",
         "840",
         "True",
         "24.285714285714285"
        ],
        [
         "7",
         "Pornography",
         "182",
         "bad",
         "Pornography",
         "864",
         "True",
         "21.064814814814813"
        ],
        [
         "8",
         "Travel",
         "171",
         "bad",
         "Travel",
         "988",
         "True",
         "17.307692307692307"
        ],
        [
         "9",
         "Internet Services",
         "157",
         "bad",
         "Internet Services",
         "1188",
         "True",
         "13.215488215488216"
        ],
        [
         "10",
         "Sports",
         "129",
         "bad",
         "Sports",
         "643",
         "True",
         "20.06220839813375"
        ],
        [
         "11",
         "Uncategorized",
         "124",
         "bad",
         "Uncategorized",
         "1350",
         "True",
         "9.185185185185185"
        ],
        [
         "12",
         "Fashion/Beauty",
         "112",
         "bad",
         "Fashion/Beauty",
         "744",
         "True",
         "15.053763440860216"
        ],
        [
         "13",
         "Games",
         "109",
         "bad",
         "Games",
         "649",
         "True",
         "16.79506933744222"
        ],
        [
         "14",
         "Health",
         "108",
         "bad",
         "Health",
         "826",
         "True",
         "13.075060532687651"
        ],
        [
         "15",
         "Finance",
         "106",
         "bad",
         "Finance",
         "587",
         "True",
         "18.05792163543441"
        ],
        [
         "16",
         "Software/Hardware",
         "100",
         "bad",
         "Software/Hardware",
         "742",
         "True",
         "13.477088948787062"
        ],
        [
         "17",
         "Non Profit Organizations/Advocacy Groups",
         "74",
         "bad",
         "Non Profit Organizations/Advocacy Groups",
         "550",
         "True",
         "13.454545454545455"
        ],
        [
         "18",
         "Recreation/Hobbies",
         "74",
         "bad",
         "Recreation/Hobbies",
         "408",
         "True",
         "18.137254901960784"
        ],
        [
         "19",
         "Consumer Information",
         "72",
         "bad",
         "Consumer Information",
         "455",
         "True",
         "15.824175824175823"
        ],
        [
         "20",
         "Real Estate",
         "54",
         "bad",
         "Real Estate",
         "334",
         "True",
         "16.16766467065868"
        ],
        [
         "21",
         "Portal Sites",
         "43",
         "bad",
         "Portal Sites",
         "174",
         "True",
         "24.71264367816092"
        ],
        [
         "22",
         "Motor Vehicles",
         "43",
         "bad",
         "Motor Vehicles",
         "239",
         "True",
         "17.99163179916318"
        ],
        [
         "23",
         "Art/Culture/Heritage",
         "39",
         "bad",
         "Art/Culture/Heritage",
         "224",
         "True",
         "17.410714285714285"
        ],
        [
         "24",
         "Government/Military",
         "36",
         "bad",
         "Government/Military",
         "357",
         "True",
         "10.084033613445378"
        ],
        [
         "25",
         "Forum/Bulletin Boards",
         "33",
         "bad",
         "Forum/Bulletin Boards",
         "215",
         "True",
         "15.348837209302326"
        ],
        [
         "26",
         "Illegal Software",
         "31",
         "bad",
         "Illegal Software",
         "141",
         "True",
         "21.98581560283688"
        ],
        [
         "27",
         "Technical/Business Forums",
         "25",
         "bad",
         "Technical/Business Forums",
         "129",
         "True",
         "19.379844961240313"
        ],
        [
         "28",
         "Job Search",
         "24",
         "bad",
         "Job Search",
         "198",
         "True",
         "12.121212121212121"
        ],
        [
         "29",
         "Restaurants",
         "24",
         "bad",
         "Restaurants",
         "213",
         "True",
         "11.267605633802818"
        ],
        [
         "30",
         "PUPs",
         "19",
         "bad",
         "PUPs",
         "255",
         "True",
         "7.450980392156863"
        ],
        [
         "31",
         "Alcohol",
         "19",
         "bad",
         "Alcohol",
         "91",
         "True",
         "20.87912087912088"
        ],
        [
         "32",
         "Gambling",
         "18",
         "bad",
         "Gambling",
         "213",
         "True",
         "8.450704225352112"
        ],
        [
         "33",
         "Politics/Opinion",
         "17",
         "bad",
         "Politics/Opinion",
         "112",
         "True",
         "15.178571428571427"
        ],
        [
         "34",
         "Auction",
         "15",
         "bad",
         "Auction",
         "79",
         "True",
         "18.9873417721519"
        ],
        [
         "35",
         "Major Global Religions",
         "15",
         "bad",
         "Major Global Religions",
         "85",
         "True",
         "17.647058823529413"
        ],
        [
         "36",
         "Content Server",
         "14",
         "bad",
         "Content Server",
         "104",
         "True",
         "13.461538461538462"
        ],
        [
         "37",
         "Pharmacy/Drugs",
         "14",
         "bad",
         "Pharmacy/Drugs",
         "69",
         "True",
         "20.28985507246377"
        ],
        [
         "38",
         "Religion and Ideology",
         "12",
         "bad",
         "Religion and Ideology",
         "116",
         "True",
         "10.344827586206897"
        ],
        [
         "39",
         "Dating/Personals",
         "12",
         "bad",
         "Dating/Personals",
         "86",
         "True",
         "13.953488372093023"
        ],
        [
         "40",
         "Technical Information",
         "12",
         "bad",
         "Technical Information",
         "88",
         "True",
         "13.636363636363635"
        ],
        [
         "41",
         "Interactive Web Applications",
         "11",
         "bad",
         "Interactive Web Applications",
         "49",
         "True",
         "22.448979591836736"
        ],
        [
         "42",
         "Personal Pages",
         "11",
         "bad",
         "Personal Pages",
         "73",
         "True",
         "15.068493150684931"
        ],
        [
         "43",
         "Weapons",
         "8",
         "bad",
         "Weapons",
         "47",
         "True",
         "17.02127659574468"
        ],
        [
         "44",
         "Gambling Related",
         "8",
         "bad",
         "Gambling Related",
         "29",
         "True",
         "27.586206896551722"
        ],
        [
         "45",
         "Media Sharing",
         "7",
         "bad",
         "Media Sharing",
         "34",
         "True",
         "20.588235294117645"
        ],
        [
         "46",
         "Chat",
         "7",
         "bad",
         "Chat",
         "30",
         "True",
         "23.333333333333332"
        ],
        [
         "47",
         "Internet Radio/TV",
         "6",
         "bad",
         "Internet Radio/TV",
         "52",
         "True",
         "11.538461538461538"
        ],
        [
         "48",
         "Shareware/Freeware",
         "5",
         "bad",
         "Shareware/Freeware",
         "58",
         "True",
         "8.620689655172415"
        ],
        [
         "49",
         "Web Mail",
         "5",
         "bad",
         "Web Mail",
         "33",
         "True",
         "15.151515151515152"
        ]
       ],
       "shape": {
        "columns": 7,
        "rows": 164
       }
      },
      "text/html": [
       "<div>\n",
       "<style scoped>\n",
       "    .dataframe tbody tr th:only-of-type {\n",
       "        vertical-align: middle;\n",
       "    }\n",
       "\n",
       "    .dataframe tbody tr th {\n",
       "        vertical-align: top;\n",
       "    }\n",
       "\n",
       "    .dataframe thead th {\n",
       "        text-align: right;\n",
       "    }\n",
       "</style>\n",
       "<table border=\"1\" class=\"dataframe\">\n",
       "  <thead>\n",
       "    <tr style=\"text-align: right;\">\n",
       "      <th></th>\n",
       "      <th>Category</th>\n",
       "      <th>Count</th>\n",
       "      <th>type</th>\n",
       "      <th>Categories</th>\n",
       "      <th>cat_count</th>\n",
       "      <th>Take?</th>\n",
       "      <th>percentage</th>\n",
       "    </tr>\n",
       "  </thead>\n",
       "  <tbody>\n",
       "    <tr>\n",
       "      <th>0</th>\n",
       "      <td>Business</td>\n",
       "      <td>720</td>\n",
       "      <td>bad</td>\n",
       "      <td>Business</td>\n",
       "      <td>3992</td>\n",
       "      <td>True</td>\n",
       "      <td>18.036072</td>\n",
       "    </tr>\n",
       "    <tr>\n",
       "      <th>1</th>\n",
       "      <td>Blogs/Wikis</td>\n",
       "      <td>520</td>\n",
       "      <td>bad</td>\n",
       "      <td>Blogs/Wikis</td>\n",
       "      <td>1701</td>\n",
       "      <td>True</td>\n",
       "      <td>30.570253</td>\n",
       "    </tr>\n",
       "    <tr>\n",
       "      <th>2</th>\n",
       "      <td>Shopping/Merchandizing</td>\n",
       "      <td>472</td>\n",
       "      <td>bad</td>\n",
       "      <td>Shopping/Merchandizing</td>\n",
       "      <td>3445</td>\n",
       "      <td>True</td>\n",
       "      <td>13.701016</td>\n",
       "    </tr>\n",
       "    <tr>\n",
       "      <th>3</th>\n",
       "      <td>Marketing/Merchandising</td>\n",
       "      <td>320</td>\n",
       "      <td>bad</td>\n",
       "      <td>Marketing/Merchandising</td>\n",
       "      <td>2267</td>\n",
       "      <td>True</td>\n",
       "      <td>14.115571</td>\n",
       "    </tr>\n",
       "    <tr>\n",
       "      <th>4</th>\n",
       "      <td>Education/Reference</td>\n",
       "      <td>284</td>\n",
       "      <td>bad</td>\n",
       "      <td>Education/Reference</td>\n",
       "      <td>1855</td>\n",
       "      <td>True</td>\n",
       "      <td>15.309973</td>\n",
       "    </tr>\n",
       "    <tr>\n",
       "      <th>...</th>\n",
       "      <td>...</td>\n",
       "      <td>...</td>\n",
       "      <td>...</td>\n",
       "      <td>...</td>\n",
       "      <td>...</td>\n",
       "      <td>...</td>\n",
       "      <td>...</td>\n",
       "    </tr>\n",
       "    <tr>\n",
       "      <th>159</th>\n",
       "      <td>Resource Sharing</td>\n",
       "      <td>1</td>\n",
       "      <td>good</td>\n",
       "      <td>Resource Sharing</td>\n",
       "      <td>3</td>\n",
       "      <td>True</td>\n",
       "      <td>33.333333</td>\n",
       "    </tr>\n",
       "    <tr>\n",
       "      <th>160</th>\n",
       "      <td>Profanity</td>\n",
       "      <td>1</td>\n",
       "      <td>good</td>\n",
       "      <td>Profanity</td>\n",
       "      <td>10</td>\n",
       "      <td>True</td>\n",
       "      <td>10.000000</td>\n",
       "    </tr>\n",
       "    <tr>\n",
       "      <th>161</th>\n",
       "      <td>Controversial Opinions</td>\n",
       "      <td>1</td>\n",
       "      <td>good</td>\n",
       "      <td>Controversial Opinions</td>\n",
       "      <td>2</td>\n",
       "      <td>True</td>\n",
       "      <td>50.000000</td>\n",
       "    </tr>\n",
       "    <tr>\n",
       "      <th>162</th>\n",
       "      <td>Game/Cartoon Violence</td>\n",
       "      <td>1</td>\n",
       "      <td>good</td>\n",
       "      <td>Game/Cartoon Violence</td>\n",
       "      <td>2</td>\n",
       "      <td>True</td>\n",
       "      <td>50.000000</td>\n",
       "    </tr>\n",
       "    <tr>\n",
       "      <th>163</th>\n",
       "      <td>Hacking</td>\n",
       "      <td>1</td>\n",
       "      <td>good</td>\n",
       "      <td>Hacking</td>\n",
       "      <td>2</td>\n",
       "      <td>True</td>\n",
       "      <td>50.000000</td>\n",
       "    </tr>\n",
       "  </tbody>\n",
       "</table>\n",
       "<p>164 rows × 7 columns</p>\n",
       "</div>"
      ],
      "text/plain": [
       "                    Category  Count  type               Categories  cat_count  \\\n",
       "0                   Business    720   bad                 Business       3992   \n",
       "1                Blogs/Wikis    520   bad              Blogs/Wikis       1701   \n",
       "2     Shopping/Merchandizing    472   bad   Shopping/Merchandizing       3445   \n",
       "3    Marketing/Merchandising    320   bad  Marketing/Merchandising       2267   \n",
       "4        Education/Reference    284   bad      Education/Reference       1855   \n",
       "..                       ...    ...   ...                      ...        ...   \n",
       "159         Resource Sharing      1  good         Resource Sharing          3   \n",
       "160                Profanity      1  good                Profanity         10   \n",
       "161   Controversial Opinions      1  good   Controversial Opinions          2   \n",
       "162    Game/Cartoon Violence      1  good    Game/Cartoon Violence          2   \n",
       "163                  Hacking      1  good                  Hacking          2   \n",
       "\n",
       "     Take?  percentage  \n",
       "0     True   18.036072  \n",
       "1     True   30.570253  \n",
       "2     True   13.701016  \n",
       "3     True   14.115571  \n",
       "4     True   15.309973  \n",
       "..     ...         ...  \n",
       "159   True   33.333333  \n",
       "160   True   10.000000  \n",
       "161   True   50.000000  \n",
       "162   True   50.000000  \n",
       "163   True   50.000000  \n",
       "\n",
       "[164 rows x 7 columns]"
      ]
     },
     "execution_count": 21,
     "metadata": {},
     "output_type": "execute_result"
    }
   ],
   "source": [
    "mix_rp_unique_df"
   ]
  },
  {
   "cell_type": "code",
   "execution_count": 22,
   "metadata": {},
   "outputs": [],
   "source": [
    "os.makedirs(\"../../output/chart\", exist_ok=True)"
   ]
  },
  {
   "cell_type": "code",
   "execution_count": 23,
   "metadata": {},
   "outputs": [
    {
     "data": {
      "image/png": "[encoded data removed]",
      "text/plain": [
       "<Figure size 2400x600 with 1 Axes>"
      ]
     },
     "metadata": {},
     "output_type": "display_data"
    }
   ],
   "source": [
    "# Set the visual style and context with an increased font scale for better readability\n",
    "sns.set_style('whitegrid')\n",
    "sns.set_context('paper', font_scale=1.2)\n",
    "\n",
    "# Create a pivot table for the stacked bar chart\n",
    "pivot_df = filtered_df.pivot(index='Category', columns='type', values='percentage').fillna(0)\n",
    "pivot_df = pivot_df.sort_values(by='bad', ascending=False)\n",
    "\n",
    "# Create the figure and axis objects for greater control\n",
    "fig, ax = plt.subplots(figsize=(24, 6))\n",
    "\n",
    "\n",
    "# Plot the stacked bar chart using the defined colors\n",
    "pivot_df.plot(kind='bar', stacked=True, ax=ax, \n",
    "            #   color=colors\n",
    "              )\n",
    "\n",
    "# Improve x-axis tick labels: split labels on '/' and increase font size\n",
    "new_labels = ['\\n'.join(label.split('/')) for label in pivot_df.index]\n",
    "ax.set_xticklabels(new_labels, fontsize=16, rotation=90)\n",
    "\n",
    "# Set axis labels and title for better clarity\n",
    "ax.set_xlabel(\"\")\n",
    "\n",
    "# Update the legend: set a title, custom labels, and adjust font sizes\n",
    "legend_labels = ['Permissive', 'Restrictive']\n",
    "legend = ax.legend(title=\"RP\", labels=legend_labels, loc='upper right', fontsize=12)\n",
    "legend.get_title().set_fontsize(14)\n",
    "\n",
    "plt.tight_layout()\n",
    "\n",
    "plt.savefig(\"../../output/chart/\"+extract_type+\"_goodvsbad.png\", dpi=300, bbox_inches=\"tight\")\n",
    "\n",
    "\n",
    "# Show the plot\n",
    "plt.show()"
   ]
  },
  {
   "cell_type": "markdown",
   "metadata": {},
   "source": [
    "## Ranking "
   ]
  },
  {
   "cell_type": "code",
   "execution_count": 24,
   "metadata": {},
   "outputs": [],
   "source": [
    "tranco_df = pd.read_csv('../../helpers/tranco_7PL6X.csv')\n",
    "\n",
    "rank = df.merge(tranco_df, left_on='final_host', right_on='domain')"
   ]
  },
  {
   "cell_type": "code",
   "execution_count": 25,
   "metadata": {},
   "outputs": [
    {
     "name": "stdout",
     "output_type": "stream",
     "text": [
      "Max value of rank_of_sites: 1000000\n",
      "Min value of rank_of_sites: 1\n",
      "Median value of rank_of_sites: 464313.0\n"
     ]
    }
   ],
   "source": [
    "calculate_rank_statistics(rank)"
   ]
  },
  {
   "cell_type": "code",
   "execution_count": 26,
   "metadata": {},
   "outputs": [
    {
     "data": {
      "application/vnd.microsoft.datawrangler.viewer.v0+json": {
       "columns": [
        {
         "name": "index",
         "rawType": "int64",
         "type": "integer"
        },
        {
         "name": "final_host",
         "rawType": "object",
         "type": "string"
        },
        {
         "name": "rank_of_sites",
         "rawType": "int64",
         "type": "integer"
        },
        {
         "name": "RP_Values",
         "rawType": "object",
         "type": "string"
        }
       ],
       "conversionMethod": "pd.DataFrame",
       "ref": "c0f30f89-eb05-4d79-967b-90996f658898",
       "rows": [
        [
         "419",
         "acom.us",
         "676886",
         "BAD_RP"
        ],
        [
         "601",
         "cerebra.org.uk",
         "561861",
         "BAD_RP"
        ],
        [
         "1412",
         "churchsource.com",
         "164683",
         "BAD_RP"
        ],
        [
         "1807",
         "souffle.life",
         "406057",
         "BAD_RP"
        ],
        [
         "4476",
         "ashly.com",
         "707578",
         "BAD_RP"
        ],
        [
         "5011",
         "techcommuters.com",
         "653267",
         "BAD_RP"
        ],
        [
         "5290",
         "karpat.fi",
         "601922",
         "BAD_RP"
        ],
        [
         "5371",
         "airswap.io",
         "286484",
         "BAD_RP"
        ],
        [
         "5978",
         "linktr.ee",
         "172",
         "BAD_RP"
        ],
        [
         "7647",
         "portalokienny.pl",
         "947811",
         "BAD_RP"
        ],
        [
         "8379",
         "familienportal.de",
         "62888",
         "BAD_RP"
        ],
        [
         "9268",
         "zef.fi",
         "393629",
         "BAD_RP"
        ],
        [
         "9693",
         "uiowa.edu",
         "2679",
         "BAD_RP"
        ],
        [
         "9946",
         "ternanacalcio.com",
         "675981",
         "BAD_RP"
        ],
        [
         "10357",
         "etramping.com",
         "367339",
         "BAD_RP"
        ],
        [
         "11874",
         "wlkmndys.com",
         "989759",
         "BAD_RP"
        ],
        [
         "12883",
         "slevici.cz",
         "553076",
         "BAD_RP"
        ],
        [
         "13832",
         "outboundengine.com",
         "87291",
         "BAD_RP"
        ],
        [
         "15069",
         "japan-partner.com",
         "259540",
         "BAD_RP"
        ],
        [
         "15124",
         "ordwaylabs.com",
         "524628",
         "BAD_RP"
        ],
        [
         "15329",
         "smsbump.com",
         "24906",
         "BAD_RP"
        ],
        [
         "15769",
         "jungoneshop.com",
         "635190",
         "BAD_RP"
        ],
        [
         "17768",
         "inseego.com",
         "109635",
         "BAD_RP"
        ],
        [
         "20119",
         "sitesi.web.tr",
         "502068",
         "BAD_RP"
        ],
        [
         "20135",
         "amper.xyz",
         "374734",
         "BAD_RP"
        ],
        [
         "20360",
         "renogy.com",
         "74994",
         "BAD_RP"
        ],
        [
         "20722",
         "zonaserialov.net",
         "994203",
         "BAD_RP"
        ],
        [
         "20862",
         "fm6education.ma",
         "428903",
         "BAD_RP"
        ],
        [
         "23090",
         "rte.com.br",
         "108677",
         "BAD_RP"
        ],
        [
         "23601",
         "greenstreet.com",
         "169823",
         "BAD_RP"
        ],
        [
         "25235",
         "hidoristream.my.id",
         "898491",
         "BAD_RP"
        ],
        [
         "25923",
         "iweedbox.com",
         "468384",
         "BAD_RP"
        ],
        [
         "25951",
         "powerade.com",
         "368924",
         "BAD_RP"
        ],
        [
         "26362",
         "meghalaya.gov.in",
         "284398",
         "BAD_RP"
        ],
        [
         "26943",
         "cine24h.online",
         "274838",
         "BAD_RP"
        ],
        [
         "27334",
         "percent-off.com",
         "231545",
         "BAD_RP"
        ],
        [
         "27655",
         "kingsu.ca",
         "358627",
         "BAD_RP"
        ],
        [
         "28173",
         "capitastar.com",
         "246586",
         "BAD_RP"
        ],
        [
         "28466",
         "procaresupport.com",
         "949203",
         "BAD_RP"
        ],
        [
         "29454",
         "nextpit.es",
         "412757",
         "BAD_RP"
        ],
        [
         "30998",
         "stlawrencecollege.ca",
         "195053",
         "BAD_RP"
        ],
        [
         "31236",
         "london.edu",
         "18703",
         "BAD_RP"
        ],
        [
         "31493",
         "kostenlos.best",
         "226748",
         "BAD_RP"
        ],
        [
         "31683",
         "bemolfarma.com.br",
         "126598",
         "BAD_RP"
        ],
        [
         "31940",
         "cloudbailbonding.com",
         "866896",
         "BAD_RP"
        ],
        [
         "32248",
         "iepbritanico.com",
         "466119",
         "BAD_RP"
        ],
        [
         "33410",
         "godzinyotwarcia24.pl",
         "171971",
         "BAD_RP"
        ],
        [
         "33467",
         "petiteteenporn.website",
         "687502",
         "BAD_RP"
        ],
        [
         "33964",
         "winylownia.pl",
         "389244",
         "BAD_RP"
        ],
        [
         "34290",
         "deutsche-anal-pornos.com",
         "873784",
         "BAD_RP"
        ]
       ],
       "shape": {
        "columns": 3,
        "rows": 4926
       }
      },
      "text/html": [
       "<div>\n",
       "<style scoped>\n",
       "    .dataframe tbody tr th:only-of-type {\n",
       "        vertical-align: middle;\n",
       "    }\n",
       "\n",
       "    .dataframe tbody tr th {\n",
       "        vertical-align: top;\n",
       "    }\n",
       "\n",
       "    .dataframe thead th {\n",
       "        text-align: right;\n",
       "    }\n",
       "</style>\n",
       "<table border=\"1\" class=\"dataframe\">\n",
       "  <thead>\n",
       "    <tr style=\"text-align: right;\">\n",
       "      <th></th>\n",
       "      <th>final_host</th>\n",
       "      <th>rank_of_sites</th>\n",
       "      <th>RP_Values</th>\n",
       "    </tr>\n",
       "  </thead>\n",
       "  <tbody>\n",
       "    <tr>\n",
       "      <th>419</th>\n",
       "      <td>acom.us</td>\n",
       "      <td>676886</td>\n",
       "      <td>BAD_RP</td>\n",
       "    </tr>\n",
       "    <tr>\n",
       "      <th>601</th>\n",
       "      <td>cerebra.org.uk</td>\n",
       "      <td>561861</td>\n",
       "      <td>BAD_RP</td>\n",
       "    </tr>\n",
       "    <tr>\n",
       "      <th>1412</th>\n",
       "      <td>churchsource.com</td>\n",
       "      <td>164683</td>\n",
       "      <td>BAD_RP</td>\n",
       "    </tr>\n",
       "    <tr>\n",
       "      <th>1807</th>\n",
       "      <td>souffle.life</td>\n",
       "      <td>406057</td>\n",
       "      <td>BAD_RP</td>\n",
       "    </tr>\n",
       "    <tr>\n",
       "      <th>4476</th>\n",
       "      <td>ashly.com</td>\n",
       "      <td>707578</td>\n",
       "      <td>BAD_RP</td>\n",
       "    </tr>\n",
       "    <tr>\n",
       "      <th>...</th>\n",
       "      <td>...</td>\n",
       "      <td>...</td>\n",
       "      <td>...</td>\n",
       "    </tr>\n",
       "    <tr>\n",
       "      <th>13526717</th>\n",
       "      <td>nosartisansontdutalent.fr</td>\n",
       "      <td>742506</td>\n",
       "      <td>BAD_RP</td>\n",
       "    </tr>\n",
       "    <tr>\n",
       "      <th>13535635</th>\n",
       "      <td>taptap.in</td>\n",
       "      <td>972588</td>\n",
       "      <td>BAD_RP</td>\n",
       "    </tr>\n",
       "    <tr>\n",
       "      <th>13538157</th>\n",
       "      <td>projectgo.pro</td>\n",
       "      <td>545529</td>\n",
       "      <td>BAD_RP</td>\n",
       "    </tr>\n",
       "    <tr>\n",
       "      <th>13581299</th>\n",
       "      <td>xbooks.work</td>\n",
       "      <td>990631</td>\n",
       "      <td>BAD_RP</td>\n",
       "    </tr>\n",
       "    <tr>\n",
       "      <th>13604414</th>\n",
       "      <td>concept3d.com</td>\n",
       "      <td>70571</td>\n",
       "      <td>BAD_RP</td>\n",
       "    </tr>\n",
       "  </tbody>\n",
       "</table>\n",
       "<p>4926 rows × 3 columns</p>\n",
       "</div>"
      ],
      "text/plain": [
       "                         final_host  rank_of_sites RP_Values\n",
       "419                         acom.us         676886    BAD_RP\n",
       "601                  cerebra.org.uk         561861    BAD_RP\n",
       "1412               churchsource.com         164683    BAD_RP\n",
       "1807                   souffle.life         406057    BAD_RP\n",
       "4476                      ashly.com         707578    BAD_RP\n",
       "...                             ...            ...       ...\n",
       "13526717  nosartisansontdutalent.fr         742506    BAD_RP\n",
       "13535635                  taptap.in         972588    BAD_RP\n",
       "13538157              projectgo.pro         545529    BAD_RP\n",
       "13581299                xbooks.work         990631    BAD_RP\n",
       "13604414              concept3d.com          70571    BAD_RP\n",
       "\n",
       "[4926 rows x 3 columns]"
      ]
     },
     "execution_count": 26,
     "metadata": {},
     "output_type": "execute_result"
    }
   ],
   "source": [
    "rank_bad = rank[rank.ref_pol.isin(BAD_RP_VALUES)].drop_duplicates(['final_host'])[['final_host', 'rank_of_sites']]\n",
    "rank_bad['RP_Values'] = 'BAD_RP'\n",
    "rank_bad"
   ]
  },
  {
   "cell_type": "code",
   "execution_count": 27,
   "metadata": {},
   "outputs": [
    {
     "name": "stdout",
     "output_type": "stream",
     "text": [
      "Max value of rank_of_sites: 999994\n",
      "Min value of rank_of_sites: 1\n",
      "Median value of rank_of_sites: 417219.5\n"
     ]
    }
   ],
   "source": [
    "calculate_rank_statistics(rank_bad)"
   ]
  },
  {
   "cell_type": "code",
   "execution_count": 28,
   "metadata": {},
   "outputs": [
    {
     "data": {
      "application/vnd.microsoft.datawrangler.viewer.v0+json": {
       "columns": [
        {
         "name": "index",
         "rawType": "int64",
         "type": "integer"
        },
        {
         "name": "final_host",
         "rawType": "object",
         "type": "string"
        },
        {
         "name": "rank_of_sites",
         "rawType": "int64",
         "type": "integer"
        },
        {
         "name": "RP_Values",
         "rawType": "object",
         "type": "string"
        }
       ],
       "conversionMethod": "pd.DataFrame",
       "ref": "6b39edc0-6a61-40f7-ae4d-1711b8631531",
       "rows": [
        [
         "2478",
         "seatunique.com",
         "191298",
         "GOOD_RP"
        ],
        [
         "2637",
         "amerisourcebergen.com",
         "25275",
         "GOOD_RP"
        ],
        [
         "4026",
         "forumginekologii.pl",
         "888359",
         "GOOD_RP"
        ],
        [
         "4904",
         "volleybolist.ru",
         "608756",
         "GOOD_RP"
        ],
        [
         "5138",
         "1800tequila.com",
         "530388",
         "GOOD_RP"
        ],
        [
         "5467",
         "airswap.io",
         "286484",
         "GOOD_RP"
        ],
        [
         "6279",
         "ipro889.net",
         "905124",
         "GOOD_RP"
        ],
        [
         "6417",
         "foxyutils.com",
         "744247",
         "GOOD_RP"
        ],
        [
         "6721",
         "sms-japan.com",
         "965630",
         "GOOD_RP"
        ],
        [
         "6831",
         "emporio-naval.com.br",
         "599324",
         "GOOD_RP"
        ],
        [
         "7910",
         "careisgold.it",
         "862022",
         "GOOD_RP"
        ],
        [
         "8360",
         "siuludama.lt",
         "964306",
         "GOOD_RP"
        ],
        [
         "8906",
         "mayfirm.com",
         "751105",
         "GOOD_RP"
        ],
        [
         "9533",
         "gamerzshop.ir",
         "672031",
         "GOOD_RP"
        ],
        [
         "10615",
         "kingsoftz.com",
         "544107",
         "GOOD_RP"
        ],
        [
         "11104",
         "rushfaster.com.au",
         "294768",
         "GOOD_RP"
        ],
        [
         "11566",
         "grueneerde.com",
         "167711",
         "GOOD_RP"
        ],
        [
         "12039",
         "gogoanime.re",
         "308552",
         "GOOD_RP"
        ],
        [
         "12728",
         "healthykids.org",
         "256521",
         "GOOD_RP"
        ],
        [
         "13648",
         "onemap.gov.sg",
         "172432",
         "GOOD_RP"
        ],
        [
         "14312",
         "yfu.de",
         "650751",
         "GOOD_RP"
        ],
        [
         "15980",
         "coberu.ru",
         "785637",
         "GOOD_RP"
        ],
        [
         "16361",
         "thevancamper.com",
         "323021",
         "GOOD_RP"
        ],
        [
         "17080",
         "nchl.org",
         "995243",
         "GOOD_RP"
        ],
        [
         "17890",
         "inseego.com",
         "109635",
         "GOOD_RP"
        ],
        [
         "18489",
         "dansunjardin.com",
         "871890",
         "GOOD_RP"
        ],
        [
         "19306",
         "lpmrestaurants.com",
         "756388",
         "GOOD_RP"
        ],
        [
         "19530",
         "restore.co.uk",
         "416467",
         "GOOD_RP"
        ],
        [
         "19713",
         "hawkscay.com",
         "225591",
         "GOOD_RP"
        ],
        [
         "20528",
         "renogy.com",
         "74994",
         "GOOD_RP"
        ],
        [
         "20559",
         "grenier.qc.ca",
         "415261",
         "GOOD_RP"
        ],
        [
         "21451",
         "dikgazete.com",
         "714454",
         "GOOD_RP"
        ],
        [
         "22077",
         "suizalab.com",
         "969963",
         "GOOD_RP"
        ],
        [
         "22372",
         "desktop-documentaries.com",
         "995065",
         "GOOD_RP"
        ],
        [
         "23796",
         "weston.ac.uk",
         "545653",
         "GOOD_RP"
        ],
        [
         "23904",
         "skiheavenly.com",
         "146931",
         "GOOD_RP"
        ],
        [
         "24337",
         "cna.com.tw",
         "16494",
         "GOOD_RP"
        ],
        [
         "24596",
         "hupcfl.com",
         "790530",
         "GOOD_RP"
        ],
        [
         "25690",
         "sulingen.de",
         "996952",
         "GOOD_RP"
        ],
        [
         "25721",
         "sensibull.com",
         "32346",
         "GOOD_RP"
        ],
        [
         "26676",
         "writers-online.co.uk",
         "567300",
         "GOOD_RP"
        ],
        [
         "27194",
         "percent-off.com",
         "231545",
         "GOOD_RP"
        ],
        [
         "27511",
         "iotiot.in",
         "284545",
         "GOOD_RP"
        ],
        [
         "28235",
         "yahyavi.me",
         "991870",
         "GOOD_RP"
        ],
        [
         "28418",
         "flynnohara.com",
         "257417",
         "GOOD_RP"
        ],
        [
         "28706",
         "ethereumclassic.org",
         "109310",
         "GOOD_RP"
        ],
        [
         "28733",
         "panmore.com",
         "149439",
         "GOOD_RP"
        ],
        [
         "29348",
         "strax.com",
         "690240",
         "GOOD_RP"
        ],
        [
         "29655",
         "nextpit.es",
         "412757",
         "GOOD_RP"
        ],
        [
         "30401",
         "tools4ever.com",
         "408896",
         "GOOD_RP"
        ]
       ],
       "shape": {
        "columns": 3,
        "rows": 4847
       }
      },
      "text/html": [
       "<div>\n",
       "<style scoped>\n",
       "    .dataframe tbody tr th:only-of-type {\n",
       "        vertical-align: middle;\n",
       "    }\n",
       "\n",
       "    .dataframe tbody tr th {\n",
       "        vertical-align: top;\n",
       "    }\n",
       "\n",
       "    .dataframe thead th {\n",
       "        text-align: right;\n",
       "    }\n",
       "</style>\n",
       "<table border=\"1\" class=\"dataframe\">\n",
       "  <thead>\n",
       "    <tr style=\"text-align: right;\">\n",
       "      <th></th>\n",
       "      <th>final_host</th>\n",
       "      <th>rank_of_sites</th>\n",
       "      <th>RP_Values</th>\n",
       "    </tr>\n",
       "  </thead>\n",
       "  <tbody>\n",
       "    <tr>\n",
       "      <th>2478</th>\n",
       "      <td>seatunique.com</td>\n",
       "      <td>191298</td>\n",
       "      <td>GOOD_RP</td>\n",
       "    </tr>\n",
       "    <tr>\n",
       "      <th>2637</th>\n",
       "      <td>amerisourcebergen.com</td>\n",
       "      <td>25275</td>\n",
       "      <td>GOOD_RP</td>\n",
       "    </tr>\n",
       "    <tr>\n",
       "      <th>4026</th>\n",
       "      <td>forumginekologii.pl</td>\n",
       "      <td>888359</td>\n",
       "      <td>GOOD_RP</td>\n",
       "    </tr>\n",
       "    <tr>\n",
       "      <th>4904</th>\n",
       "      <td>volleybolist.ru</td>\n",
       "      <td>608756</td>\n",
       "      <td>GOOD_RP</td>\n",
       "    </tr>\n",
       "    <tr>\n",
       "      <th>5138</th>\n",
       "      <td>1800tequila.com</td>\n",
       "      <td>530388</td>\n",
       "      <td>GOOD_RP</td>\n",
       "    </tr>\n",
       "    <tr>\n",
       "      <th>...</th>\n",
       "      <td>...</td>\n",
       "      <td>...</td>\n",
       "      <td>...</td>\n",
       "    </tr>\n",
       "    <tr>\n",
       "      <th>13575539</th>\n",
       "      <td>dior.ae</td>\n",
       "      <td>339793</td>\n",
       "      <td>GOOD_RP</td>\n",
       "    </tr>\n",
       "    <tr>\n",
       "      <th>13582388</th>\n",
       "      <td>wm.edu</td>\n",
       "      <td>9943</td>\n",
       "      <td>GOOD_RP</td>\n",
       "    </tr>\n",
       "    <tr>\n",
       "      <th>13585338</th>\n",
       "      <td>herogames.com</td>\n",
       "      <td>560739</td>\n",
       "      <td>GOOD_RP</td>\n",
       "    </tr>\n",
       "    <tr>\n",
       "      <th>13589784</th>\n",
       "      <td>cphi-online.com</td>\n",
       "      <td>211051</td>\n",
       "      <td>GOOD_RP</td>\n",
       "    </tr>\n",
       "    <tr>\n",
       "      <th>13605306</th>\n",
       "      <td>everydayresources.com</td>\n",
       "      <td>552300</td>\n",
       "      <td>GOOD_RP</td>\n",
       "    </tr>\n",
       "  </tbody>\n",
       "</table>\n",
       "<p>4847 rows × 3 columns</p>\n",
       "</div>"
      ],
      "text/plain": [
       "                     final_host  rank_of_sites RP_Values\n",
       "2478             seatunique.com         191298   GOOD_RP\n",
       "2637      amerisourcebergen.com          25275   GOOD_RP\n",
       "4026        forumginekologii.pl         888359   GOOD_RP\n",
       "4904            volleybolist.ru         608756   GOOD_RP\n",
       "5138            1800tequila.com         530388   GOOD_RP\n",
       "...                         ...            ...       ...\n",
       "13575539                dior.ae         339793   GOOD_RP\n",
       "13582388                 wm.edu           9943   GOOD_RP\n",
       "13585338          herogames.com         560739   GOOD_RP\n",
       "13589784        cphi-online.com         211051   GOOD_RP\n",
       "13605306  everydayresources.com         552300   GOOD_RP\n",
       "\n",
       "[4847 rows x 3 columns]"
      ]
     },
     "execution_count": 28,
     "metadata": {},
     "output_type": "execute_result"
    }
   ],
   "source": [
    "rank_good = rank[rank.ref_pol.isin(GOOD_RP_VALUES)].drop_duplicates(['final_host'])[['final_host', 'rank_of_sites']]\n",
    "rank_good['RP_Values'] = 'GOOD_RP'\n",
    "rank_good"
   ]
  },
  {
   "cell_type": "code",
   "execution_count": 29,
   "metadata": {},
   "outputs": [
    {
     "name": "stdout",
     "output_type": "stream",
     "text": [
      "Max value of rank_of_sites: 999997\n",
      "Min value of rank_of_sites: 1\n",
      "Median value of rank_of_sites: 422384.0\n"
     ]
    }
   ],
   "source": [
    "calculate_rank_statistics(rank_good)"
   ]
  }
 ],
 "metadata": {
  "kernelspec": {
   "display_name": ".venv",
   "language": "python",
   "name": "python3"
  },
  "language_info": {
   "codemirror_mode": {
    "name": "ipython",
    "version": 3
   },
   "file_extension": ".py",
   "mimetype": "text/x-python",
   "name": "python",
   "nbconvert_exporter": "python",
   "pygments_lexer": "ipython3",
   "version": "3.12.3"
  }
 },
 "nbformat": 4,
 "nbformat_minor": 2
}
