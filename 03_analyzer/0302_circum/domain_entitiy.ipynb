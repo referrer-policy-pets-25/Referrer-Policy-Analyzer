{
 "cells": [
  {
   "cell_type": "code",
   "execution_count": null,
   "metadata": {},
   "outputs": [],
   "source": []
  },
  {
   "cell_type": "code",
   "execution_count": 1,
   "metadata": {},
   "outputs": [],
   "source": [
    "import sys\n",
    "sys.path.append('../..')\n",
    "\n",
    "import pandas as pd\n",
    "\n",
    "from helpers.utils import (\n",
    "    clean_dataset,\n",
    "    make_comparison_appearance\n",
    "    )"
   ]
  },
  {
   "cell_type": "code",
   "execution_count": 2,
   "metadata": {},
   "outputs": [],
   "source": [
    "# file_path = '../../output/circum/2025-02-08_noAct_circum.parquet'\n",
    "file_path = '../../output/circum/2024-01-24_SF_circum.parquet'\n",
    "\n",
    "df = pd.read_parquet(file_path)"
   ]
  },
  {
   "cell_type": "code",
   "execution_count": 3,
   "metadata": {},
   "outputs": [],
   "source": [
    "intersection_file = '../../helpers/intersection'\n",
    "\n",
    "with open(intersection_file, \"r\") as file:\n",
    "    intersection = file.read().splitlines()"
   ]
  },
  {
   "cell_type": "code",
   "execution_count": 4,
   "metadata": {},
   "outputs": [],
   "source": [
    "df = clean_dataset(df, intersection)"
   ]
  },
  {
   "cell_type": "code",
   "execution_count": 5,
   "metadata": {},
   "outputs": [],
   "source": [
    "circum = df[(df.url_flag != \"Safe\")\n",
    "                | (df.ref_flag != \"Safe\")\n",
    "                | (df.post_flag != \"Safe\")] "
   ]
  },
  {
   "cell_type": "code",
   "execution_count": 6,
   "metadata": {},
   "outputs": [
    {
     "data": {
      "text/plain": [
       "21164"
      ]
     },
     "execution_count": 6,
     "metadata": {},
     "output_type": "execute_result"
    }
   ],
   "source": [
    "circum.final_host.nunique()"
   ]
  },
  {
   "cell_type": "code",
   "execution_count": 7,
   "metadata": {},
   "outputs": [
    {
     "data": {
      "text/plain": [
       "req_host\n",
       "google-analytics.com              14995\n",
       "google.com                        10226\n",
       "doubleclick.net                    8468\n",
       "facebook.com                       6531\n",
       "bing.com                           1289\n",
       "linkedin.com                       1198\n",
       "twitter.com                        1151\n",
       "yandex.com                         1124\n",
       "googleadservices.com               1066\n",
       "adnxs.com                          1055\n",
       "media.net                          1043\n",
       "tiktok.com                          993\n",
       "pinterest.com                       911\n",
       "qsearch-a.akamaihd.net              795\n",
       "googlesyndication.com               785\n",
       "hubspot.com                         702\n",
       "clarity.ms                          697\n",
       "nr-data.net                         634\n",
       "t.co                                572\n",
       "merchant-center-analytics.goog      528\n",
       "Name: final_host, dtype: int64"
      ]
     },
     "execution_count": 7,
     "metadata": {},
     "output_type": "execute_result"
    }
   ],
   "source": [
    "unique_final_host_counts = circum.groupby(\"req_host\")[\"final_host\"].nunique()\n",
    "unique_final_host_counts.sort_values(ascending=False).head(20)"
   ]
  },
  {
   "cell_type": "code",
   "execution_count": 8,
   "metadata": {},
   "outputs": [
    {
     "data": {
      "application/vnd.microsoft.datawrangler.viewer.v0+json": {
       "columns": [
        {
         "name": "index",
         "rawType": "int64",
         "type": "integer"
        },
        {
         "name": "req_host",
         "rawType": "object",
         "type": "string"
        },
        {
         "name": "full.count",
         "rawType": "int64",
         "type": "integer"
        },
        {
         "name": "circum.count",
         "rawType": "float64",
         "type": "float"
        },
        {
         "name": "circumvention",
         "rawType": "object",
         "type": "string"
        }
       ],
       "conversionMethod": "pd.DataFrame",
       "ref": "bab8809e-640e-4eca-99d2-a19420f889d5",
       "rows": [
        [
         "8254",
         "google-analytics.com",
         "16821",
         "14995.0",
         "14995 (89.14%)"
        ],
        [
         "8261",
         "google.com",
         "16069",
         "10226.0",
         "10226 (63.64%)"
        ],
        [
         "5911",
         "doubleclick.net",
         "14623",
         "8468.0",
         "8468 (57.91%)"
        ],
        [
         "6924",
         "facebook.com",
         "7886",
         "6531.0",
         "6531 (82.82%)"
        ],
        [
         "2333",
         "bing.com",
         "2521",
         "1289.0",
         "1289 (51.13%)"
        ],
        [
         "10830",
         "linkedin.com",
         "1860",
         "1198.0",
         "1198 (64.41%)"
        ],
        [
         "18782",
         "twitter.com",
         "1687",
         "1151.0",
         "1151 (68.23%)"
        ],
        [
         "20471",
         "yandex.com",
         "1230",
         "1124.0",
         "1124 (91.38%)"
        ],
        [
         "8280",
         "googleadservices.com",
         "2001",
         "1066.0",
         "1066 (53.27%)"
        ],
        [
         "666",
         "adnxs.com",
         "2099",
         "1055.0",
         "1055 (50.26%)"
        ],
        [
         "11563",
         "media.net",
         "1359",
         "1043.0",
         "1043 (76.75%)"
        ],
        [
         "18179",
         "tiktok.com",
         "1112",
         "993.0",
         "993 (89.3%)"
        ],
        [
         "13807",
         "pinterest.com",
         "1024",
         "911.0",
         "911 (88.96%)"
        ],
        [
         "14626",
         "qsearch-a.akamaihd.net",
         "928",
         "795.0",
         "795 (85.67%)"
        ],
        [
         "8291",
         "googlesyndication.com",
         "4644",
         "785.0",
         "785 (16.9%)"
        ],
        [
         "9044",
         "hubspot.com",
         "885",
         "702.0",
         "702 (79.32%)"
        ],
        [
         "3571",
         "clarity.ms",
         "1601",
         "697.0",
         "697 (43.54%)"
        ],
        [
         "12805",
         "nr-data.net",
         "795",
         "634.0",
         "634 (79.75%)"
        ],
        [
         "17665",
         "t.co",
         "650",
         "572.0",
         "572 (88.0%)"
        ],
        [
         "11687",
         "merchant-center-analytics.goog",
         "550",
         "528.0",
         "528 (96.0%)"
        ]
       ],
       "shape": {
        "columns": 4,
        "rows": 20
       }
      },
      "text/html": [
       "<div>\n",
       "<style scoped>\n",
       "    .dataframe tbody tr th:only-of-type {\n",
       "        vertical-align: middle;\n",
       "    }\n",
       "\n",
       "    .dataframe tbody tr th {\n",
       "        vertical-align: top;\n",
       "    }\n",
       "\n",
       "    .dataframe thead th {\n",
       "        text-align: right;\n",
       "    }\n",
       "</style>\n",
       "<table border=\"1\" class=\"dataframe\">\n",
       "  <thead>\n",
       "    <tr style=\"text-align: right;\">\n",
       "      <th></th>\n",
       "      <th>req_host</th>\n",
       "      <th>full.count</th>\n",
       "      <th>circum.count</th>\n",
       "      <th>circumvention</th>\n",
       "    </tr>\n",
       "  </thead>\n",
       "  <tbody>\n",
       "    <tr>\n",
       "      <th>8254</th>\n",
       "      <td>google-analytics.com</td>\n",
       "      <td>16821</td>\n",
       "      <td>14995.0</td>\n",
       "      <td>14995 (89.14%)</td>\n",
       "    </tr>\n",
       "    <tr>\n",
       "      <th>8261</th>\n",
       "      <td>google.com</td>\n",
       "      <td>16069</td>\n",
       "      <td>10226.0</td>\n",
       "      <td>10226 (63.64%)</td>\n",
       "    </tr>\n",
       "    <tr>\n",
       "      <th>5911</th>\n",
       "      <td>doubleclick.net</td>\n",
       "      <td>14623</td>\n",
       "      <td>8468.0</td>\n",
       "      <td>8468 (57.91%)</td>\n",
       "    </tr>\n",
       "    <tr>\n",
       "      <th>6924</th>\n",
       "      <td>facebook.com</td>\n",
       "      <td>7886</td>\n",
       "      <td>6531.0</td>\n",
       "      <td>6531 (82.82%)</td>\n",
       "    </tr>\n",
       "    <tr>\n",
       "      <th>2333</th>\n",
       "      <td>bing.com</td>\n",
       "      <td>2521</td>\n",
       "      <td>1289.0</td>\n",
       "      <td>1289 (51.13%)</td>\n",
       "    </tr>\n",
       "    <tr>\n",
       "      <th>10830</th>\n",
       "      <td>linkedin.com</td>\n",
       "      <td>1860</td>\n",
       "      <td>1198.0</td>\n",
       "      <td>1198 (64.41%)</td>\n",
       "    </tr>\n",
       "    <tr>\n",
       "      <th>18782</th>\n",
       "      <td>twitter.com</td>\n",
       "      <td>1687</td>\n",
       "      <td>1151.0</td>\n",
       "      <td>1151 (68.23%)</td>\n",
       "    </tr>\n",
       "    <tr>\n",
       "      <th>20471</th>\n",
       "      <td>yandex.com</td>\n",
       "      <td>1230</td>\n",
       "      <td>1124.0</td>\n",
       "      <td>1124 (91.38%)</td>\n",
       "    </tr>\n",
       "    <tr>\n",
       "      <th>8280</th>\n",
       "      <td>googleadservices.com</td>\n",
       "      <td>2001</td>\n",
       "      <td>1066.0</td>\n",
       "      <td>1066 (53.27%)</td>\n",
       "    </tr>\n",
       "    <tr>\n",
       "      <th>666</th>\n",
       "      <td>adnxs.com</td>\n",
       "      <td>2099</td>\n",
       "      <td>1055.0</td>\n",
       "      <td>1055 (50.26%)</td>\n",
       "    </tr>\n",
       "    <tr>\n",
       "      <th>11563</th>\n",
       "      <td>media.net</td>\n",
       "      <td>1359</td>\n",
       "      <td>1043.0</td>\n",
       "      <td>1043 (76.75%)</td>\n",
       "    </tr>\n",
       "    <tr>\n",
       "      <th>18179</th>\n",
       "      <td>tiktok.com</td>\n",
       "      <td>1112</td>\n",
       "      <td>993.0</td>\n",
       "      <td>993 (89.3%)</td>\n",
       "    </tr>\n",
       "    <tr>\n",
       "      <th>13807</th>\n",
       "      <td>pinterest.com</td>\n",
       "      <td>1024</td>\n",
       "      <td>911.0</td>\n",
       "      <td>911 (88.96%)</td>\n",
       "    </tr>\n",
       "    <tr>\n",
       "      <th>14626</th>\n",
       "      <td>qsearch-a.akamaihd.net</td>\n",
       "      <td>928</td>\n",
       "      <td>795.0</td>\n",
       "      <td>795 (85.67%)</td>\n",
       "    </tr>\n",
       "    <tr>\n",
       "      <th>8291</th>\n",
       "      <td>googlesyndication.com</td>\n",
       "      <td>4644</td>\n",
       "      <td>785.0</td>\n",
       "      <td>785 (16.9%)</td>\n",
       "    </tr>\n",
       "    <tr>\n",
       "      <th>9044</th>\n",
       "      <td>hubspot.com</td>\n",
       "      <td>885</td>\n",
       "      <td>702.0</td>\n",
       "      <td>702 (79.32%)</td>\n",
       "    </tr>\n",
       "    <tr>\n",
       "      <th>3571</th>\n",
       "      <td>clarity.ms</td>\n",
       "      <td>1601</td>\n",
       "      <td>697.0</td>\n",
       "      <td>697 (43.54%)</td>\n",
       "    </tr>\n",
       "    <tr>\n",
       "      <th>12805</th>\n",
       "      <td>nr-data.net</td>\n",
       "      <td>795</td>\n",
       "      <td>634.0</td>\n",
       "      <td>634 (79.75%)</td>\n",
       "    </tr>\n",
       "    <tr>\n",
       "      <th>17665</th>\n",
       "      <td>t.co</td>\n",
       "      <td>650</td>\n",
       "      <td>572.0</td>\n",
       "      <td>572 (88.0%)</td>\n",
       "    </tr>\n",
       "    <tr>\n",
       "      <th>11687</th>\n",
       "      <td>merchant-center-analytics.goog</td>\n",
       "      <td>550</td>\n",
       "      <td>528.0</td>\n",
       "      <td>528 (96.0%)</td>\n",
       "    </tr>\n",
       "  </tbody>\n",
       "</table>\n",
       "</div>"
      ],
      "text/plain": [
       "                             req_host  full.count  circum.count  \\\n",
       "8254             google-analytics.com       16821       14995.0   \n",
       "8261                       google.com       16069       10226.0   \n",
       "5911                  doubleclick.net       14623        8468.0   \n",
       "6924                     facebook.com        7886        6531.0   \n",
       "2333                         bing.com        2521        1289.0   \n",
       "10830                    linkedin.com        1860        1198.0   \n",
       "18782                     twitter.com        1687        1151.0   \n",
       "20471                      yandex.com        1230        1124.0   \n",
       "8280             googleadservices.com        2001        1066.0   \n",
       "666                         adnxs.com        2099        1055.0   \n",
       "11563                       media.net        1359        1043.0   \n",
       "18179                      tiktok.com        1112         993.0   \n",
       "13807                   pinterest.com        1024         911.0   \n",
       "14626          qsearch-a.akamaihd.net         928         795.0   \n",
       "8291            googlesyndication.com        4644         785.0   \n",
       "9044                      hubspot.com         885         702.0   \n",
       "3571                       clarity.ms        1601         697.0   \n",
       "12805                     nr-data.net         795         634.0   \n",
       "17665                            t.co         650         572.0   \n",
       "11687  merchant-center-analytics.goog         550         528.0   \n",
       "\n",
       "        circumvention  \n",
       "8254   14995 (89.14%)  \n",
       "8261   10226 (63.64%)  \n",
       "5911    8468 (57.91%)  \n",
       "6924    6531 (82.82%)  \n",
       "2333    1289 (51.13%)  \n",
       "10830   1198 (64.41%)  \n",
       "18782   1151 (68.23%)  \n",
       "20471   1124 (91.38%)  \n",
       "8280    1066 (53.27%)  \n",
       "666     1055 (50.26%)  \n",
       "11563   1043 (76.75%)  \n",
       "18179     993 (89.3%)  \n",
       "13807    911 (88.96%)  \n",
       "14626    795 (85.67%)  \n",
       "8291      785 (16.9%)  \n",
       "9044     702 (79.32%)  \n",
       "3571     697 (43.54%)  \n",
       "12805    634 (79.75%)  \n",
       "17665     572 (88.0%)  \n",
       "11687     528 (96.0%)  "
      ]
     },
     "execution_count": 8,
     "metadata": {},
     "output_type": "execute_result"
    }
   ],
   "source": [
    "domain = make_comparison_appearance(df, circum, type='dom')\n",
    "domain.head(20)"
   ]
  },
  {
   "cell_type": "code",
   "execution_count": 9,
   "metadata": {},
   "outputs": [
    {
     "data": {
      "application/vnd.microsoft.datawrangler.viewer.v0+json": {
       "columns": [
        {
         "name": "index",
         "rawType": "int64",
         "type": "integer"
        },
        {
         "name": "req_entity",
         "rawType": "object",
         "type": "string"
        },
        {
         "name": "full.count",
         "rawType": "int64",
         "type": "integer"
        },
        {
         "name": "circum.count",
         "rawType": "float64",
         "type": "float"
        },
        {
         "name": "circumvention",
         "rawType": "object",
         "type": "string"
        }
       ],
       "conversionMethod": "pd.DataFrame",
       "ref": "ba8de8ac-67e6-41b0-99ab-b88ff71cda81",
       "rows": [
        [
         "1073",
         "Google LLC",
         "24120",
         "18317.0",
         "18317 (75.94%)"
        ],
        [
         "956",
         "Facebook, Inc.",
         "8992",
         "6573.0",
         "6573 (73.1%)"
        ],
        [
         "1474",
         "Microsoft Corporation",
         "5818",
         "3721.0",
         "3721 (63.96%)"
        ],
        [
         "2415",
         "Yandex LLC",
         "1340",
         "1221.0",
         "1221 (91.12%)"
        ],
        [
         "2237",
         "Twitter, Inc.",
         "1741",
         "1151.0",
         "1151 (66.11%)"
        ],
        [
         "1451",
         "Media.net Advertising FZ-LLC",
         "1359",
         "1043.0",
         "1043 (76.75%)"
        ],
        [
         "623",
         "ByteDance Ltd.",
         "1121",
         "996.0",
         "996 (88.85%)"
        ],
        [
         "1700",
         "Pinterest, Inc.",
         "1047",
         "911.0",
         "911 (87.01%)"
        ],
        [
         "410",
         "Akamai Technologies",
         "1182",
         "812.0",
         "812 (68.7%)"
        ],
        [
         "1138",
         "HubSpot, Inc.",
         "1009",
         "707.0",
         "707 (70.07%)"
        ],
        [
         "1556",
         "New Relic",
         "803",
         "635.0",
         "635 (79.08%)"
        ],
        [
         "430",
         "Amazon Technologies, Inc.",
         "3807",
         "612.0",
         "612 (16.08%)"
        ],
        [
         "10819",
         "merchant-center-analytics.goog",
         "550",
         "528.0",
         "528 (96.0%)"
        ],
        [
         "1421",
         "Magnite, Inc.",
         "1147",
         "522.0",
         "522 (45.51%)"
        ],
        [
         "1156",
         "ID5 Technology Ltd",
         "709",
         "479.0",
         "479 (67.56%)"
        ],
        [
         "1746",
         "PubMatic, Inc.",
         "1117",
         "468.0",
         "468 (41.9%)"
        ],
        [
         "1632",
         "OpenX Technologies Inc",
         "1164",
         "448.0",
         "448 (38.49%)"
        ],
        [
         "774",
         "Criteo SA",
         "1289",
         "424.0",
         "424 (32.89%)"
        ],
        [
         "1197",
         "Index Exchange, Inc.",
         "781",
         "406.0",
         "406 (51.98%)"
        ],
        [
         "5266",
         "comScore, Inc",
         "623",
         "388.0",
         "388 (62.28%)"
        ]
       ],
       "shape": {
        "columns": 4,
        "rows": 20
       }
      },
      "text/html": [
       "<div>\n",
       "<style scoped>\n",
       "    .dataframe tbody tr th:only-of-type {\n",
       "        vertical-align: middle;\n",
       "    }\n",
       "\n",
       "    .dataframe tbody tr th {\n",
       "        vertical-align: top;\n",
       "    }\n",
       "\n",
       "    .dataframe thead th {\n",
       "        text-align: right;\n",
       "    }\n",
       "</style>\n",
       "<table border=\"1\" class=\"dataframe\">\n",
       "  <thead>\n",
       "    <tr style=\"text-align: right;\">\n",
       "      <th></th>\n",
       "      <th>req_entity</th>\n",
       "      <th>full.count</th>\n",
       "      <th>circum.count</th>\n",
       "      <th>circumvention</th>\n",
       "    </tr>\n",
       "  </thead>\n",
       "  <tbody>\n",
       "    <tr>\n",
       "      <th>1073</th>\n",
       "      <td>Google LLC</td>\n",
       "      <td>24120</td>\n",
       "      <td>18317.0</td>\n",
       "      <td>18317 (75.94%)</td>\n",
       "    </tr>\n",
       "    <tr>\n",
       "      <th>956</th>\n",
       "      <td>Facebook, Inc.</td>\n",
       "      <td>8992</td>\n",
       "      <td>6573.0</td>\n",
       "      <td>6573 (73.1%)</td>\n",
       "    </tr>\n",
       "    <tr>\n",
       "      <th>1474</th>\n",
       "      <td>Microsoft Corporation</td>\n",
       "      <td>5818</td>\n",
       "      <td>3721.0</td>\n",
       "      <td>3721 (63.96%)</td>\n",
       "    </tr>\n",
       "    <tr>\n",
       "      <th>2415</th>\n",
       "      <td>Yandex LLC</td>\n",
       "      <td>1340</td>\n",
       "      <td>1221.0</td>\n",
       "      <td>1221 (91.12%)</td>\n",
       "    </tr>\n",
       "    <tr>\n",
       "      <th>2237</th>\n",
       "      <td>Twitter, Inc.</td>\n",
       "      <td>1741</td>\n",
       "      <td>1151.0</td>\n",
       "      <td>1151 (66.11%)</td>\n",
       "    </tr>\n",
       "    <tr>\n",
       "      <th>1451</th>\n",
       "      <td>Media.net Advertising FZ-LLC</td>\n",
       "      <td>1359</td>\n",
       "      <td>1043.0</td>\n",
       "      <td>1043 (76.75%)</td>\n",
       "    </tr>\n",
       "    <tr>\n",
       "      <th>623</th>\n",
       "      <td>ByteDance Ltd.</td>\n",
       "      <td>1121</td>\n",
       "      <td>996.0</td>\n",
       "      <td>996 (88.85%)</td>\n",
       "    </tr>\n",
       "    <tr>\n",
       "      <th>1700</th>\n",
       "      <td>Pinterest, Inc.</td>\n",
       "      <td>1047</td>\n",
       "      <td>911.0</td>\n",
       "      <td>911 (87.01%)</td>\n",
       "    </tr>\n",
       "    <tr>\n",
       "      <th>410</th>\n",
       "      <td>Akamai Technologies</td>\n",
       "      <td>1182</td>\n",
       "      <td>812.0</td>\n",
       "      <td>812 (68.7%)</td>\n",
       "    </tr>\n",
       "    <tr>\n",
       "      <th>1138</th>\n",
       "      <td>HubSpot, Inc.</td>\n",
       "      <td>1009</td>\n",
       "      <td>707.0</td>\n",
       "      <td>707 (70.07%)</td>\n",
       "    </tr>\n",
       "    <tr>\n",
       "      <th>1556</th>\n",
       "      <td>New Relic</td>\n",
       "      <td>803</td>\n",
       "      <td>635.0</td>\n",
       "      <td>635 (79.08%)</td>\n",
       "    </tr>\n",
       "    <tr>\n",
       "      <th>430</th>\n",
       "      <td>Amazon Technologies, Inc.</td>\n",
       "      <td>3807</td>\n",
       "      <td>612.0</td>\n",
       "      <td>612 (16.08%)</td>\n",
       "    </tr>\n",
       "    <tr>\n",
       "      <th>10819</th>\n",
       "      <td>merchant-center-analytics.goog</td>\n",
       "      <td>550</td>\n",
       "      <td>528.0</td>\n",
       "      <td>528 (96.0%)</td>\n",
       "    </tr>\n",
       "    <tr>\n",
       "      <th>1421</th>\n",
       "      <td>Magnite, Inc.</td>\n",
       "      <td>1147</td>\n",
       "      <td>522.0</td>\n",
       "      <td>522 (45.51%)</td>\n",
       "    </tr>\n",
       "    <tr>\n",
       "      <th>1156</th>\n",
       "      <td>ID5 Technology Ltd</td>\n",
       "      <td>709</td>\n",
       "      <td>479.0</td>\n",
       "      <td>479 (67.56%)</td>\n",
       "    </tr>\n",
       "    <tr>\n",
       "      <th>1746</th>\n",
       "      <td>PubMatic, Inc.</td>\n",
       "      <td>1117</td>\n",
       "      <td>468.0</td>\n",
       "      <td>468 (41.9%)</td>\n",
       "    </tr>\n",
       "    <tr>\n",
       "      <th>1632</th>\n",
       "      <td>OpenX Technologies Inc</td>\n",
       "      <td>1164</td>\n",
       "      <td>448.0</td>\n",
       "      <td>448 (38.49%)</td>\n",
       "    </tr>\n",
       "    <tr>\n",
       "      <th>774</th>\n",
       "      <td>Criteo SA</td>\n",
       "      <td>1289</td>\n",
       "      <td>424.0</td>\n",
       "      <td>424 (32.89%)</td>\n",
       "    </tr>\n",
       "    <tr>\n",
       "      <th>1197</th>\n",
       "      <td>Index Exchange, Inc.</td>\n",
       "      <td>781</td>\n",
       "      <td>406.0</td>\n",
       "      <td>406 (51.98%)</td>\n",
       "    </tr>\n",
       "    <tr>\n",
       "      <th>5266</th>\n",
       "      <td>comScore, Inc</td>\n",
       "      <td>623</td>\n",
       "      <td>388.0</td>\n",
       "      <td>388 (62.28%)</td>\n",
       "    </tr>\n",
       "  </tbody>\n",
       "</table>\n",
       "</div>"
      ],
      "text/plain": [
       "                           req_entity  full.count  circum.count  \\\n",
       "1073                       Google LLC       24120       18317.0   \n",
       "956                    Facebook, Inc.        8992        6573.0   \n",
       "1474            Microsoft Corporation        5818        3721.0   \n",
       "2415                       Yandex LLC        1340        1221.0   \n",
       "2237                    Twitter, Inc.        1741        1151.0   \n",
       "1451     Media.net Advertising FZ-LLC        1359        1043.0   \n",
       "623                    ByteDance Ltd.        1121         996.0   \n",
       "1700                  Pinterest, Inc.        1047         911.0   \n",
       "410               Akamai Technologies        1182         812.0   \n",
       "1138                    HubSpot, Inc.        1009         707.0   \n",
       "1556                        New Relic         803         635.0   \n",
       "430         Amazon Technologies, Inc.        3807         612.0   \n",
       "10819  merchant-center-analytics.goog         550         528.0   \n",
       "1421                    Magnite, Inc.        1147         522.0   \n",
       "1156               ID5 Technology Ltd         709         479.0   \n",
       "1746                   PubMatic, Inc.        1117         468.0   \n",
       "1632           OpenX Technologies Inc        1164         448.0   \n",
       "774                         Criteo SA        1289         424.0   \n",
       "1197             Index Exchange, Inc.         781         406.0   \n",
       "5266                    comScore, Inc         623         388.0   \n",
       "\n",
       "        circumvention  \n",
       "1073   18317 (75.94%)  \n",
       "956      6573 (73.1%)  \n",
       "1474    3721 (63.96%)  \n",
       "2415    1221 (91.12%)  \n",
       "2237    1151 (66.11%)  \n",
       "1451    1043 (76.75%)  \n",
       "623      996 (88.85%)  \n",
       "1700     911 (87.01%)  \n",
       "410       812 (68.7%)  \n",
       "1138     707 (70.07%)  \n",
       "1556     635 (79.08%)  \n",
       "430      612 (16.08%)  \n",
       "10819     528 (96.0%)  \n",
       "1421     522 (45.51%)  \n",
       "1156     479 (67.56%)  \n",
       "1746      468 (41.9%)  \n",
       "1632     448 (38.49%)  \n",
       "774      424 (32.89%)  \n",
       "1197     406 (51.98%)  \n",
       "5266     388 (62.28%)  "
      ]
     },
     "execution_count": 9,
     "metadata": {},
     "output_type": "execute_result"
    }
   ],
   "source": [
    "entity = make_comparison_appearance(df, circum, type='ent')\n",
    "entity.head(20)"
   ]
  }
 ],
 "metadata": {
  "kernelspec": {
   "display_name": ".venv",
   "language": "python",
   "name": "python3"
  },
  "language_info": {
   "codemirror_mode": {
    "name": "ipython",
    "version": 3
   },
   "file_extension": ".py",
   "mimetype": "text/x-python",
   "name": "python",
   "nbconvert_exporter": "python",
   "pygments_lexer": "ipython3",
   "version": "3.12.3"
  }
 },
 "nbformat": 4,
 "nbformat_minor": 2
}
