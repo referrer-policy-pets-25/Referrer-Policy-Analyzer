{
 "cells": [
  {
   "cell_type": "code",
   "execution_count": null,
   "metadata": {},
   "outputs": [],
   "source": []
  },
  {
   "cell_type": "code",
   "execution_count": 1,
   "metadata": {},
   "outputs": [],
   "source": [
    "import sys\n",
    "sys.path.append('../..')\n",
    "\n",
    "import pandas as pd\n",
    "from pandarallel import pandarallel\n",
    "\n",
    "from helpers.utils import (\n",
    "    clean_dataset,\n",
    "    safe_literal_eval,\n",
    "    filter_df_by_encode\n",
    "    )"
   ]
  },
  {
   "cell_type": "code",
   "execution_count": 2,
   "metadata": {},
   "outputs": [],
   "source": [
    "file_path = '../../output/circum/2024-01-24_SF_circum.parquet'\n",
    "\n",
    "df = pd.read_parquet(file_path)"
   ]
  },
  {
   "cell_type": "code",
   "execution_count": 3,
   "metadata": {},
   "outputs": [],
   "source": [
    "intersection_file = '../../helpers/intersection'\n",
    "\n",
    "with open(intersection_file, \"r\") as file:\n",
    "    intersection = file.read().splitlines()"
   ]
  },
  {
   "cell_type": "code",
   "execution_count": 4,
   "metadata": {},
   "outputs": [
    {
     "name": "stdout",
     "output_type": "stream",
     "text": [
      "INFO: Pandarallel will run on 16 workers.\n",
      "INFO: Pandarallel will use Memory file system to transfer data between the main process and workers.\n"
     ]
    }
   ],
   "source": [
    "pandarallel.initialize()"
   ]
  },
  {
   "cell_type": "code",
   "execution_count": 5,
   "metadata": {},
   "outputs": [],
   "source": [
    "df = clean_dataset(df, intersection)"
   ]
  },
  {
   "cell_type": "code",
   "execution_count": 6,
   "metadata": {},
   "outputs": [],
   "source": [
    "circum = df[(df.url_flag != \"Safe\")\n",
    "                | (df.ref_flag != \"Safe\")\n",
    "                | (df.post_flag != \"Safe\")] "
   ]
  },
  {
   "cell_type": "code",
   "execution_count": 7,
   "metadata": {},
   "outputs": [
    {
     "name": "stderr",
     "output_type": "stream",
     "text": [
      "/tmp/ipykernel_293804/429519343.py:3: SettingWithCopyWarning: \n",
      "A value is trying to be set on a copy of a slice from a DataFrame.\n",
      "Try using .loc[row_indexer,col_indexer] = value instead\n",
      "\n",
      "See the caveats in the documentation: https://pandas.pydata.org/pandas-docs/stable/user_guide/indexing.html#returning-a-view-versus-a-copy\n",
      "  circum[col] = circum[col].parallel_apply(safe_literal_eval)\n",
      "/tmp/ipykernel_293804/429519343.py:3: SettingWithCopyWarning: \n",
      "A value is trying to be set on a copy of a slice from a DataFrame.\n",
      "Try using .loc[row_indexer,col_indexer] = value instead\n",
      "\n",
      "See the caveats in the documentation: https://pandas.pydata.org/pandas-docs/stable/user_guide/indexing.html#returning-a-view-versus-a-copy\n",
      "  circum[col] = circum[col].parallel_apply(safe_literal_eval)\n",
      "/tmp/ipykernel_293804/429519343.py:3: SettingWithCopyWarning: \n",
      "A value is trying to be set on a copy of a slice from a DataFrame.\n",
      "Try using .loc[row_indexer,col_indexer] = value instead\n",
      "\n",
      "See the caveats in the documentation: https://pandas.pydata.org/pandas-docs/stable/user_guide/indexing.html#returning-a-view-versus-a-copy\n",
      "  circum[col] = circum[col].parallel_apply(safe_literal_eval)\n"
     ]
    }
   ],
   "source": [
    "# Apply the safe conversion to your columns\n",
    "for col in ['url_leaks', 'referer_leaks', 'post_leaks']:\n",
    "    circum[col] = circum[col].parallel_apply(safe_literal_eval)"
   ]
  },
  {
   "cell_type": "code",
   "execution_count": 8,
   "metadata": {},
   "outputs": [],
   "source": [
    "base16_df = filter_df_by_encode(circum, 'base16')\n",
    "base64_df = filter_df_by_encode(circum, 'base64')\n",
    "base32_df = filter_df_by_encode(circum, 'base32')\n",
    "base58_df = filter_df_by_encode(circum, 'base85')\n",
    "urlencode_df = filter_df_by_encode(circum, 'urlencode')\n",
    "entity_df = filter_df_by_encode(circum, 'entity')\n",
    "deflate_df = filter_df_by_encode(circum, 'deflate')\n",
    "zlib_df = filter_df_by_encode(circum, 'zlib')\n",
    "gzip_df = filter_df_by_encode(circum, 'gzip')\n",
    "lzstring = filter_df_by_encode(circum, 'lzstring')\n",
    "custom_map_1 = filter_df_by_encode(circum, 'custom_map_1')"
   ]
  },
  {
   "cell_type": "code",
   "execution_count": 9,
   "metadata": {},
   "outputs": [
    {
     "data": {
      "application/vnd.microsoft.datawrangler.viewer.v0+json": {
       "columns": [
        {
         "name": "index",
         "rawType": "int64",
         "type": "integer"
        },
        {
         "name": "final_host",
         "rawType": "object",
         "type": "string"
        },
        {
         "name": "req_entity",
         "rawType": "object",
         "type": "string"
        },
        {
         "name": "url_leaks",
         "rawType": "object",
         "type": "unknown"
        },
        {
         "name": "referer_leaks",
         "rawType": "object",
         "type": "unknown"
        },
        {
         "name": "post_leaks",
         "rawType": "object",
         "type": "unknown"
        },
        {
         "name": "url_flag",
         "rawType": "object",
         "type": "string"
        },
        {
         "name": "ref_flag",
         "rawType": "object",
         "type": "string"
        },
        {
         "name": "post_flag",
         "rawType": "object",
         "type": "string"
        }
       ],
       "conversionMethod": "pd.DataFrame",
       "ref": "615f5f5c-baa1-4b7b-a458-66b0970ba6ff",
       "rows": [
        [
         "56639",
         "shemaroome.com",
         "CleverTap",
         "[('lzstring', 'https://www.shemaroome.com/livetv')]",
         "[]",
         null,
         "Circumvention(full)",
         "Safe",
         "Safe"
        ],
        [
         "89064",
         "madeincookware.com",
         "FullStory",
         "[]",
         "[('madeincookware.com',)]",
         "[('urlencode', 'collections/sets'), ('urlencode', 'https://madeincookware.com/collections/sets'), ('lzstring', 'madeincookware.com'), ('collections/sets',), ('madeincookware.com',), ('base64', 'madeincookware.com'), ('https://madeincookware.com/collections/sets',)]",
         "Safe",
         "Safe",
         "Circumvention(full)"
        ],
        [
         "271362",
         "aetherapparel.com",
         "Functional Software, Inc.",
         "[]",
         "[('aetherapparel.com',)]",
         "[('collections/womens-snow-collection',), ('urlencode', 'https://aetherapparel.com/collections/womens-snow-collection'), ('urlencode', 'aetherapparel.com'), ('lzstring', 'aetherapparel.com'), ('https://aetherapparel.com/collections/womens-snow-collection',), ('urlencode', 'collections/womens-snow-collection'), ('aetherapparel.com',)]",
         "Safe",
         "Safe",
         "Circumvention(full)"
        ],
        [
         "879992",
         "thrillist.com",
         "trx-hub.com",
         "[('lzstring', 'https://www.thrillist.com/news')]",
         "[('www.thrillist.com',)]",
         null,
         "Circumvention(full)",
         "Safe",
         "Safe"
        ],
        [
         "940623",
         "madeincookware.com",
         "FullStory",
         "[]",
         "[('madeincookware.com',)]",
         "[('urlencode', 'https://madeincookware.com/collections/tabletop'), ('urlencode', 'collections/tabletop'), ('lzstring', 'madeincookware.com'), ('https://madeincookware.com/collections/tabletop',), ('collections/tabletop',), ('madeincookware.com',), ('base64', 'madeincookware.com')]",
         "Safe",
         "Safe",
         "Circumvention(full)"
        ],
        [
         "1325905",
         "madeincookware.com",
         "FullStory",
         "[]",
         "[('madeincookware.com',)]",
         "[('urlencode', 'collections/cookware'), ('urlencode', 'madeincookware.com'), ('urlencode', 'https://madeincookware.com/collections/cookware'), ('lzstring', 'madeincookware.com'), ('collections/cookware',), ('madeincookware.com',), ('base64', 'madeincookware.com'), ('https://madeincookware.com/collections/cookware',)]",
         "Safe",
         "Safe",
         "Circumvention(full)"
        ],
        [
         "1572763",
         "fabhotels.com",
         "CleverTap",
         "[('lzstring', 'https://www.fabhotels.com/refer-and-earn')]",
         "[('www.fabhotels.com',)]",
         null,
         "Circumvention(full)",
         "Safe",
         "Safe"
        ],
        [
         "1882729",
         "gardensillustrated.com",
         "trx-hub.com",
         "[('lzstring', 'https://www.gardensillustrated.com/garden-equipment')]",
         "[('www.gardensillustrated.com',)]",
         null,
         "Circumvention(full)",
         "Safe",
         "Safe"
        ],
        [
         "1966386",
         "madeincookware.com",
         "FullStory",
         "[]",
         "[('madeincookware.com',)]",
         "[('urlencode', 'collections/bakeware'), ('urlencode', 'madeincookware.com'), ('collections/bakeware',), ('lzstring', 'madeincookware.com'), ('https://madeincookware.com/collections/bakeware',), ('madeincookware.com',), ('base64', 'madeincookware.com'), ('urlencode', 'https://madeincookware.com/collections/bakeware')]",
         "Safe",
         "Safe",
         "Circumvention(full)"
        ],
        [
         "2223737",
         "degustapanama.com",
         "CleverTap",
         "[('lzstring', 'https://www.degustapanama.com/panama/search')]",
         "[('www.degustapanama.com',)]",
         null,
         "Circumvention(full)",
         "Safe",
         "Safe"
        ]
       ],
       "shape": {
        "columns": 8,
        "rows": 10
       }
      },
      "text/html": [
       "<div>\n",
       "<style scoped>\n",
       "    .dataframe tbody tr th:only-of-type {\n",
       "        vertical-align: middle;\n",
       "    }\n",
       "\n",
       "    .dataframe tbody tr th {\n",
       "        vertical-align: top;\n",
       "    }\n",
       "\n",
       "    .dataframe thead th {\n",
       "        text-align: right;\n",
       "    }\n",
       "</style>\n",
       "<table border=\"1\" class=\"dataframe\">\n",
       "  <thead>\n",
       "    <tr style=\"text-align: right;\">\n",
       "      <th></th>\n",
       "      <th>final_host</th>\n",
       "      <th>req_entity</th>\n",
       "      <th>url_leaks</th>\n",
       "      <th>referer_leaks</th>\n",
       "      <th>post_leaks</th>\n",
       "      <th>url_flag</th>\n",
       "      <th>ref_flag</th>\n",
       "      <th>post_flag</th>\n",
       "    </tr>\n",
       "  </thead>\n",
       "  <tbody>\n",
       "    <tr>\n",
       "      <th>56639</th>\n",
       "      <td>shemaroome.com</td>\n",
       "      <td>CleverTap</td>\n",
       "      <td>[(lzstring, https://www.shemaroome.com/livetv)]</td>\n",
       "      <td>[]</td>\n",
       "      <td>None</td>\n",
       "      <td>Circumvention(full)</td>\n",
       "      <td>Safe</td>\n",
       "      <td>Safe</td>\n",
       "    </tr>\n",
       "    <tr>\n",
       "      <th>89064</th>\n",
       "      <td>madeincookware.com</td>\n",
       "      <td>FullStory</td>\n",
       "      <td>[]</td>\n",
       "      <td>[(madeincookware.com,)]</td>\n",
       "      <td>[(urlencode, collections/sets), (urlencode, ht...</td>\n",
       "      <td>Safe</td>\n",
       "      <td>Safe</td>\n",
       "      <td>Circumvention(full)</td>\n",
       "    </tr>\n",
       "    <tr>\n",
       "      <th>271362</th>\n",
       "      <td>aetherapparel.com</td>\n",
       "      <td>Functional Software, Inc.</td>\n",
       "      <td>[]</td>\n",
       "      <td>[(aetherapparel.com,)]</td>\n",
       "      <td>[(collections/womens-snow-collection,), (urlen...</td>\n",
       "      <td>Safe</td>\n",
       "      <td>Safe</td>\n",
       "      <td>Circumvention(full)</td>\n",
       "    </tr>\n",
       "    <tr>\n",
       "      <th>879992</th>\n",
       "      <td>thrillist.com</td>\n",
       "      <td>trx-hub.com</td>\n",
       "      <td>[(lzstring, https://www.thrillist.com/news)]</td>\n",
       "      <td>[(www.thrillist.com,)]</td>\n",
       "      <td>None</td>\n",
       "      <td>Circumvention(full)</td>\n",
       "      <td>Safe</td>\n",
       "      <td>Safe</td>\n",
       "    </tr>\n",
       "    <tr>\n",
       "      <th>940623</th>\n",
       "      <td>madeincookware.com</td>\n",
       "      <td>FullStory</td>\n",
       "      <td>[]</td>\n",
       "      <td>[(madeincookware.com,)]</td>\n",
       "      <td>[(urlencode, https://madeincookware.com/collec...</td>\n",
       "      <td>Safe</td>\n",
       "      <td>Safe</td>\n",
       "      <td>Circumvention(full)</td>\n",
       "    </tr>\n",
       "    <tr>\n",
       "      <th>1325905</th>\n",
       "      <td>madeincookware.com</td>\n",
       "      <td>FullStory</td>\n",
       "      <td>[]</td>\n",
       "      <td>[(madeincookware.com,)]</td>\n",
       "      <td>[(urlencode, collections/cookware), (urlencode...</td>\n",
       "      <td>Safe</td>\n",
       "      <td>Safe</td>\n",
       "      <td>Circumvention(full)</td>\n",
       "    </tr>\n",
       "    <tr>\n",
       "      <th>1572763</th>\n",
       "      <td>fabhotels.com</td>\n",
       "      <td>CleverTap</td>\n",
       "      <td>[(lzstring, https://www.fabhotels.com/refer-an...</td>\n",
       "      <td>[(www.fabhotels.com,)]</td>\n",
       "      <td>None</td>\n",
       "      <td>Circumvention(full)</td>\n",
       "      <td>Safe</td>\n",
       "      <td>Safe</td>\n",
       "    </tr>\n",
       "    <tr>\n",
       "      <th>1882729</th>\n",
       "      <td>gardensillustrated.com</td>\n",
       "      <td>trx-hub.com</td>\n",
       "      <td>[(lzstring, https://www.gardensillustrated.com...</td>\n",
       "      <td>[(www.gardensillustrated.com,)]</td>\n",
       "      <td>None</td>\n",
       "      <td>Circumvention(full)</td>\n",
       "      <td>Safe</td>\n",
       "      <td>Safe</td>\n",
       "    </tr>\n",
       "    <tr>\n",
       "      <th>1966386</th>\n",
       "      <td>madeincookware.com</td>\n",
       "      <td>FullStory</td>\n",
       "      <td>[]</td>\n",
       "      <td>[(madeincookware.com,)]</td>\n",
       "      <td>[(urlencode, collections/bakeware), (urlencode...</td>\n",
       "      <td>Safe</td>\n",
       "      <td>Safe</td>\n",
       "      <td>Circumvention(full)</td>\n",
       "    </tr>\n",
       "    <tr>\n",
       "      <th>2223737</th>\n",
       "      <td>degustapanama.com</td>\n",
       "      <td>CleverTap</td>\n",
       "      <td>[(lzstring, https://www.degustapanama.com/pana...</td>\n",
       "      <td>[(www.degustapanama.com,)]</td>\n",
       "      <td>None</td>\n",
       "      <td>Circumvention(full)</td>\n",
       "      <td>Safe</td>\n",
       "      <td>Safe</td>\n",
       "    </tr>\n",
       "  </tbody>\n",
       "</table>\n",
       "</div>"
      ],
      "text/plain": [
       "                     final_host                 req_entity  \\\n",
       "56639            shemaroome.com                  CleverTap   \n",
       "89064        madeincookware.com                  FullStory   \n",
       "271362        aetherapparel.com  Functional Software, Inc.   \n",
       "879992            thrillist.com                trx-hub.com   \n",
       "940623       madeincookware.com                  FullStory   \n",
       "1325905      madeincookware.com                  FullStory   \n",
       "1572763           fabhotels.com                  CleverTap   \n",
       "1882729  gardensillustrated.com                trx-hub.com   \n",
       "1966386      madeincookware.com                  FullStory   \n",
       "2223737       degustapanama.com                  CleverTap   \n",
       "\n",
       "                                                 url_leaks  \\\n",
       "56639      [(lzstring, https://www.shemaroome.com/livetv)]   \n",
       "89064                                                   []   \n",
       "271362                                                  []   \n",
       "879992        [(lzstring, https://www.thrillist.com/news)]   \n",
       "940623                                                  []   \n",
       "1325905                                                 []   \n",
       "1572763  [(lzstring, https://www.fabhotels.com/refer-an...   \n",
       "1882729  [(lzstring, https://www.gardensillustrated.com...   \n",
       "1966386                                                 []   \n",
       "2223737  [(lzstring, https://www.degustapanama.com/pana...   \n",
       "\n",
       "                           referer_leaks  \\\n",
       "56639                                 []   \n",
       "89064            [(madeincookware.com,)]   \n",
       "271362            [(aetherapparel.com,)]   \n",
       "879992            [(www.thrillist.com,)]   \n",
       "940623           [(madeincookware.com,)]   \n",
       "1325905          [(madeincookware.com,)]   \n",
       "1572763           [(www.fabhotels.com,)]   \n",
       "1882729  [(www.gardensillustrated.com,)]   \n",
       "1966386          [(madeincookware.com,)]   \n",
       "2223737       [(www.degustapanama.com,)]   \n",
       "\n",
       "                                                post_leaks  \\\n",
       "56639                                                 None   \n",
       "89064    [(urlencode, collections/sets), (urlencode, ht...   \n",
       "271362   [(collections/womens-snow-collection,), (urlen...   \n",
       "879992                                                None   \n",
       "940623   [(urlencode, https://madeincookware.com/collec...   \n",
       "1325905  [(urlencode, collections/cookware), (urlencode...   \n",
       "1572763                                               None   \n",
       "1882729                                               None   \n",
       "1966386  [(urlencode, collections/bakeware), (urlencode...   \n",
       "2223737                                               None   \n",
       "\n",
       "                    url_flag ref_flag            post_flag  \n",
       "56639    Circumvention(full)     Safe                 Safe  \n",
       "89064                   Safe     Safe  Circumvention(full)  \n",
       "271362                  Safe     Safe  Circumvention(full)  \n",
       "879992   Circumvention(full)     Safe                 Safe  \n",
       "940623                  Safe     Safe  Circumvention(full)  \n",
       "1325905                 Safe     Safe  Circumvention(full)  \n",
       "1572763  Circumvention(full)     Safe                 Safe  \n",
       "1882729  Circumvention(full)     Safe                 Safe  \n",
       "1966386                 Safe     Safe  Circumvention(full)  \n",
       "2223737  Circumvention(full)     Safe                 Safe  "
      ]
     },
     "execution_count": 9,
     "metadata": {},
     "output_type": "execute_result"
    }
   ],
   "source": [
    "lzstring[['final_host', 'req_entity', 'url_leaks', 'referer_leaks', 'post_leaks', 'url_flag', 'ref_flag', 'post_flag']].head(10)"
   ]
  },
  {
   "cell_type": "code",
   "execution_count": 32,
   "metadata": {},
   "outputs": [
    {
     "data": {
      "text/plain": [
       "req_entity\n",
       "CleverTap                    7\n",
       "trx-hub.com                  3\n",
       "FullStory                    1\n",
       "Functional Software, Inc.    1\n",
       "Storygize                    1\n",
       "Name: final_host, dtype: int64"
      ]
     },
     "execution_count": 32,
     "metadata": {},
     "output_type": "execute_result"
    }
   ],
   "source": [
    "lzstring.groupby('req_entity').final_host.nunique().sort_values(ascending=False)"
   ]
  },
  {
   "cell_type": "code",
   "execution_count": null,
   "metadata": {},
   "outputs": [
    {
     "data": {
      "application/vnd.microsoft.datawrangler.viewer.v0+json": {
       "columns": [
        {
         "name": "index",
         "rawType": "int64",
         "type": "integer"
        },
        {
         "name": "final_host",
         "rawType": "object",
         "type": "string"
        },
        {
         "name": "req_entity",
         "rawType": "object",
         "type": "string"
        },
        {
         "name": "url_leaks",
         "rawType": "object",
         "type": "unknown"
        },
        {
         "name": "referer_leaks",
         "rawType": "object",
         "type": "unknown"
        }
       ],
       "conversionMethod": "pd.DataFrame",
       "ref": "7ce19c86-b092-4985-9cd7-1a14d5392469",
       "rows": [
        [
         "2809299",
         "mgemi.com",
         "4Cite Marketing",
         "[('custom_map_1', 'mgemi.com'), ('urlencode', 'https://mgemi.com/collections/before-they-go'), ('urlencode', 'collections/before-they-go'), ('mgemi.com',)]",
         "[('mgemi.com',)]"
        ],
        [
         "6690664",
         "mgemi.com",
         "4Cite Marketing",
         "[('urlencode', 'pages/men'), ('custom_map_1', 'mgemi.com'), ('urlencode', 'https://mgemi.com/pages/men'), ('mgemi.com',)]",
         "[('mgemi.com',)]"
        ],
        [
         "7705077",
         "mgemi.com",
         "4Cite Marketing",
         "[('custom_map_1', 'mgemi.com'), ('urlencode', 'https://mgemi.com/collections/womens-new-arrivals'), ('urlencode', 'collections/womens-new-arrivals'), ('mgemi.com',)]",
         "[('mgemi.com',)]"
        ],
        [
         "9916225",
         "mgemi.com",
         "4Cite Marketing",
         "[('urlencode', 'pages/rewards'), ('custom_map_1', 'mgemi.com'), ('urlencode', 'https://mgemi.com/pages/rewards'), ('mgemi.com',)]",
         "[('mgemi.com',)]"
        ],
        [
         "10134735",
         "mgemi.com",
         "4Cite Marketing",
         "[('urlencode', 'collections/leather-accessories'), ('urlencode', 'https://mgemi.com/collections/leather-accessories'), ('custom_map_1', 'mgemi.com'), ('mgemi.com',)]",
         "[('mgemi.com',)]"
        ]
       ],
       "shape": {
        "columns": 4,
        "rows": 5
       }
      },
      "text/html": [
       "<div>\n",
       "<style scoped>\n",
       "    .dataframe tbody tr th:only-of-type {\n",
       "        vertical-align: middle;\n",
       "    }\n",
       "\n",
       "    .dataframe tbody tr th {\n",
       "        vertical-align: top;\n",
       "    }\n",
       "\n",
       "    .dataframe thead th {\n",
       "        text-align: right;\n",
       "    }\n",
       "</style>\n",
       "<table border=\"1\" class=\"dataframe\">\n",
       "  <thead>\n",
       "    <tr style=\"text-align: right;\">\n",
       "      <th></th>\n",
       "      <th>final_host</th>\n",
       "      <th>req_entity</th>\n",
       "      <th>url_leaks</th>\n",
       "      <th>referer_leaks</th>\n",
       "    </tr>\n",
       "  </thead>\n",
       "  <tbody>\n",
       "    <tr>\n",
       "      <th>2809299</th>\n",
       "      <td>mgemi.com</td>\n",
       "      <td>4Cite Marketing</td>\n",
       "      <td>[(custom_map_1, mgemi.com), (urlencode, https:...</td>\n",
       "      <td>[(mgemi.com,)]</td>\n",
       "    </tr>\n",
       "    <tr>\n",
       "      <th>6690664</th>\n",
       "      <td>mgemi.com</td>\n",
       "      <td>4Cite Marketing</td>\n",
       "      <td>[(urlencode, pages/men), (custom_map_1, mgemi....</td>\n",
       "      <td>[(mgemi.com,)]</td>\n",
       "    </tr>\n",
       "    <tr>\n",
       "      <th>7705077</th>\n",
       "      <td>mgemi.com</td>\n",
       "      <td>4Cite Marketing</td>\n",
       "      <td>[(custom_map_1, mgemi.com), (urlencode, https:...</td>\n",
       "      <td>[(mgemi.com,)]</td>\n",
       "    </tr>\n",
       "    <tr>\n",
       "      <th>9916225</th>\n",
       "      <td>mgemi.com</td>\n",
       "      <td>4Cite Marketing</td>\n",
       "      <td>[(urlencode, pages/rewards), (custom_map_1, mg...</td>\n",
       "      <td>[(mgemi.com,)]</td>\n",
       "    </tr>\n",
       "    <tr>\n",
       "      <th>10134735</th>\n",
       "      <td>mgemi.com</td>\n",
       "      <td>4Cite Marketing</td>\n",
       "      <td>[(urlencode, collections/leather-accessories),...</td>\n",
       "      <td>[(mgemi.com,)]</td>\n",
       "    </tr>\n",
       "  </tbody>\n",
       "</table>\n",
       "</div>"
      ],
      "text/plain": [
       "         final_host       req_entity  \\\n",
       "2809299   mgemi.com  4Cite Marketing   \n",
       "6690664   mgemi.com  4Cite Marketing   \n",
       "7705077   mgemi.com  4Cite Marketing   \n",
       "9916225   mgemi.com  4Cite Marketing   \n",
       "10134735  mgemi.com  4Cite Marketing   \n",
       "\n",
       "                                                  url_leaks   referer_leaks  \n",
       "2809299   [(custom_map_1, mgemi.com), (urlencode, https:...  [(mgemi.com,)]  \n",
       "6690664   [(urlencode, pages/men), (custom_map_1, mgemi....  [(mgemi.com,)]  \n",
       "7705077   [(custom_map_1, mgemi.com), (urlencode, https:...  [(mgemi.com,)]  \n",
       "9916225   [(urlencode, pages/rewards), (custom_map_1, mg...  [(mgemi.com,)]  \n",
       "10134735  [(urlencode, collections/leather-accessories),...  [(mgemi.com,)]  "
      ]
     },
     "execution_count": 12,
     "metadata": {},
     "output_type": "execute_result"
    }
   ],
   "source": [
    "custom_map_1[['final_host', 'req_entity', 'url_leaks', 'post_leaks' ,'referer_leaks']].head(10)"
   ]
  },
  {
   "cell_type": "code",
   "execution_count": 31,
   "metadata": {},
   "outputs": [
    {
     "data": {
      "text/plain": [
       "req_entity\n",
       "4Cite Marketing    1\n",
       "Name: final_host, dtype: int64"
      ]
     },
     "execution_count": 31,
     "metadata": {},
     "output_type": "execute_result"
    }
   ],
   "source": [
    "custom_map_1.groupby('req_entity').final_host.nunique().sort_values(ascending=False)"
   ]
  },
  {
   "cell_type": "code",
   "execution_count": null,
   "metadata": {},
   "outputs": [
    {
     "data": {
      "application/vnd.microsoft.datawrangler.viewer.v0+json": {
       "columns": [
        {
         "name": "index",
         "rawType": "int64",
         "type": "integer"
        },
        {
         "name": "final_host",
         "rawType": "object",
         "type": "string"
        },
        {
         "name": "req_entity",
         "rawType": "object",
         "type": "string"
        },
        {
         "name": "url_leaks",
         "rawType": "object",
         "type": "unknown"
        },
        {
         "name": "referer_leaks",
         "rawType": "object",
         "type": "unknown"
        }
       ],
       "conversionMethod": "pd.DataFrame",
       "ref": "699304de-d9f5-461d-b733-3e9df0248a0d",
       "rows": [
        [
         "15365645",
         "homesincolorado.com",
         "datafloat.com",
         "[('base16', 'communities')]",
         "[('www.homesincolorado.com',)]"
        ],
        [
         "15365646",
         "homesincolorado.com",
         "datafloat.com",
         "[('base16', 'communities')]",
         "[('www.homesincolorado.com',)]"
        ]
       ],
       "shape": {
        "columns": 4,
        "rows": 2
       }
      },
      "text/html": [
       "<div>\n",
       "<style scoped>\n",
       "    .dataframe tbody tr th:only-of-type {\n",
       "        vertical-align: middle;\n",
       "    }\n",
       "\n",
       "    .dataframe tbody tr th {\n",
       "        vertical-align: top;\n",
       "    }\n",
       "\n",
       "    .dataframe thead th {\n",
       "        text-align: right;\n",
       "    }\n",
       "</style>\n",
       "<table border=\"1\" class=\"dataframe\">\n",
       "  <thead>\n",
       "    <tr style=\"text-align: right;\">\n",
       "      <th></th>\n",
       "      <th>final_host</th>\n",
       "      <th>req_entity</th>\n",
       "      <th>url_leaks</th>\n",
       "      <th>referer_leaks</th>\n",
       "    </tr>\n",
       "  </thead>\n",
       "  <tbody>\n",
       "    <tr>\n",
       "      <th>15365645</th>\n",
       "      <td>homesincolorado.com</td>\n",
       "      <td>datafloat.com</td>\n",
       "      <td>[(base16, communities)]</td>\n",
       "      <td>[(www.homesincolorado.com,)]</td>\n",
       "    </tr>\n",
       "    <tr>\n",
       "      <th>15365646</th>\n",
       "      <td>homesincolorado.com</td>\n",
       "      <td>datafloat.com</td>\n",
       "      <td>[(base16, communities)]</td>\n",
       "      <td>[(www.homesincolorado.com,)]</td>\n",
       "    </tr>\n",
       "  </tbody>\n",
       "</table>\n",
       "</div>"
      ],
      "text/plain": [
       "                   final_host     req_entity                url_leaks  \\\n",
       "15365645  homesincolorado.com  datafloat.com  [(base16, communities)]   \n",
       "15365646  homesincolorado.com  datafloat.com  [(base16, communities)]   \n",
       "\n",
       "                         referer_leaks  \n",
       "15365645  [(www.homesincolorado.com,)]  \n",
       "15365646  [(www.homesincolorado.com,)]  "
      ]
     },
     "execution_count": 14,
     "metadata": {},
     "output_type": "execute_result"
    }
   ],
   "source": [
    "base16_df[['final_host', 'req_entity', 'url_leaks', 'post_leaks' ,'referer_leaks']].head(10)"
   ]
  },
  {
   "cell_type": "code",
   "execution_count": 30,
   "metadata": {},
   "outputs": [
    {
     "data": {
      "text/plain": [
       "req_entity\n",
       "datafloat.com    1\n",
       "Name: final_host, dtype: int64"
      ]
     },
     "execution_count": 30,
     "metadata": {},
     "output_type": "execute_result"
    }
   ],
   "source": [
    "base16_df.groupby('req_entity').final_host.nunique().sort_values(ascending=False)"
   ]
  },
  {
   "cell_type": "code",
   "execution_count": null,
   "metadata": {},
   "outputs": [
    {
     "data": {
      "application/vnd.microsoft.datawrangler.viewer.v0+json": {
       "columns": [
        {
         "name": "index",
         "rawType": "int64",
         "type": "integer"
        },
        {
         "name": "final_host",
         "rawType": "object",
         "type": "string"
        },
        {
         "name": "req_entity",
         "rawType": "object",
         "type": "string"
        },
        {
         "name": "url_leaks",
         "rawType": "object",
         "type": "string"
        },
        {
         "name": "referer_leaks",
         "rawType": "object",
         "type": "string"
        }
       ],
       "conversionMethod": "pd.DataFrame",
       "ref": "948ad8c9-8b1d-4b3e-9b1c-1ac72ba83635",
       "rows": [],
       "shape": {
        "columns": 4,
        "rows": 0
       }
      },
      "text/html": [
       "<div>\n",
       "<style scoped>\n",
       "    .dataframe tbody tr th:only-of-type {\n",
       "        vertical-align: middle;\n",
       "    }\n",
       "\n",
       "    .dataframe tbody tr th {\n",
       "        vertical-align: top;\n",
       "    }\n",
       "\n",
       "    .dataframe thead th {\n",
       "        text-align: right;\n",
       "    }\n",
       "</style>\n",
       "<table border=\"1\" class=\"dataframe\">\n",
       "  <thead>\n",
       "    <tr style=\"text-align: right;\">\n",
       "      <th></th>\n",
       "      <th>final_host</th>\n",
       "      <th>req_entity</th>\n",
       "      <th>url_leaks</th>\n",
       "      <th>referer_leaks</th>\n",
       "    </tr>\n",
       "  </thead>\n",
       "  <tbody>\n",
       "  </tbody>\n",
       "</table>\n",
       "</div>"
      ],
      "text/plain": [
       "Empty DataFrame\n",
       "Columns: [final_host, req_entity, url_leaks, referer_leaks]\n",
       "Index: []"
      ]
     },
     "execution_count": 16,
     "metadata": {},
     "output_type": "execute_result"
    }
   ],
   "source": [
    "base32_df[['final_host', 'req_entity', 'url_leaks', 'post_leaks' ,'referer_leaks']].head(10)"
   ]
  },
  {
   "cell_type": "code",
   "execution_count": 29,
   "metadata": {},
   "outputs": [
    {
     "data": {
      "text/plain": [
       "Series([], Name: final_host, dtype: int64)"
      ]
     },
     "execution_count": 29,
     "metadata": {},
     "output_type": "execute_result"
    }
   ],
   "source": [
    "base32_df.groupby('req_entity').final_host.nunique().sort_values(ascending=False)"
   ]
  },
  {
   "cell_type": "code",
   "execution_count": null,
   "metadata": {},
   "outputs": [
    {
     "data": {
      "application/vnd.microsoft.datawrangler.viewer.v0+json": {
       "columns": [
        {
         "name": "index",
         "rawType": "int64",
         "type": "integer"
        },
        {
         "name": "final_host",
         "rawType": "object",
         "type": "string"
        },
        {
         "name": "req_entity",
         "rawType": "object",
         "type": "string"
        },
        {
         "name": "url_leaks",
         "rawType": "object",
         "type": "string"
        },
        {
         "name": "referer_leaks",
         "rawType": "object",
         "type": "string"
        }
       ],
       "conversionMethod": "pd.DataFrame",
       "ref": "c819f013-d02d-47c7-b8bb-3e9e9ecda88a",
       "rows": [],
       "shape": {
        "columns": 4,
        "rows": 0
       }
      },
      "text/html": [
       "<div>\n",
       "<style scoped>\n",
       "    .dataframe tbody tr th:only-of-type {\n",
       "        vertical-align: middle;\n",
       "    }\n",
       "\n",
       "    .dataframe tbody tr th {\n",
       "        vertical-align: top;\n",
       "    }\n",
       "\n",
       "    .dataframe thead th {\n",
       "        text-align: right;\n",
       "    }\n",
       "</style>\n",
       "<table border=\"1\" class=\"dataframe\">\n",
       "  <thead>\n",
       "    <tr style=\"text-align: right;\">\n",
       "      <th></th>\n",
       "      <th>final_host</th>\n",
       "      <th>req_entity</th>\n",
       "      <th>url_leaks</th>\n",
       "      <th>referer_leaks</th>\n",
       "    </tr>\n",
       "  </thead>\n",
       "  <tbody>\n",
       "  </tbody>\n",
       "</table>\n",
       "</div>"
      ],
      "text/plain": [
       "Empty DataFrame\n",
       "Columns: [final_host, req_entity, url_leaks, referer_leaks]\n",
       "Index: []"
      ]
     },
     "execution_count": 18,
     "metadata": {},
     "output_type": "execute_result"
    }
   ],
   "source": [
    "base58_df[['final_host', 'req_entity', 'url_leaks', 'post_leaks' ,'referer_leaks']].head(10)"
   ]
  },
  {
   "cell_type": "code",
   "execution_count": 28,
   "metadata": {},
   "outputs": [
    {
     "data": {
      "text/plain": [
       "Series([], Name: final_host, dtype: int64)"
      ]
     },
     "execution_count": 28,
     "metadata": {},
     "output_type": "execute_result"
    }
   ],
   "source": [
    "base58_df.groupby('req_entity').final_host.nunique().sort_values(ascending=False)"
   ]
  },
  {
   "cell_type": "code",
   "execution_count": null,
   "metadata": {},
   "outputs": [
    {
     "data": {
      "application/vnd.microsoft.datawrangler.viewer.v0+json": {
       "columns": [
        {
         "name": "index",
         "rawType": "int64",
         "type": "integer"
        },
        {
         "name": "final_host",
         "rawType": "object",
         "type": "string"
        },
        {
         "name": "req_entity",
         "rawType": "object",
         "type": "string"
        },
        {
         "name": "url_leaks",
         "rawType": "object",
         "type": "unknown"
        },
        {
         "name": "referer_leaks",
         "rawType": "object",
         "type": "unknown"
        }
       ],
       "conversionMethod": "pd.DataFrame",
       "ref": "4419d210-170b-4bca-8eb8-f77b87ac0563",
       "rows": [
        [
         "1558",
         "prabhatkhabar.com",
         "Google LLC",
         "[('base64', 'topic/ayodhya-ram-mandir'), ('base64', 'https://www.prabhatkhabar.com/topic/ayodhya-ram-mandir')]",
         "[('www.prabhatkhabar.com',)]"
        ],
        [
         "1593",
         "prabhatkhabar.com",
         "Google LLC",
         "[('base64', 'topic/ayodhya-ram-mandir'), ('base64', 'https://www.prabhatkhabar.com/topic/ayodhya-ram-mandir')]",
         "[('www.prabhatkhabar.com',)]"
        ],
        [
         "1616",
         "prabhatkhabar.com",
         "whistle.mobi",
         "[('base64', 'topic/ayodhya-ram-mandir'), ('urlencode', 'base64', 'https://www.prabhatkhabar.com/topic/ayodhya-ram-mandir'), ('base64', 'https://www.prabhatkhabar.com/topic/ayodhya-ram-mandir')]",
         "[('www.prabhatkhabar.com',)]"
        ],
        [
         "2501",
         "seatunique.com",
         "Functional Software, Inc.",
         "[]",
         "[('www.seatunique.com',)]"
        ],
        [
         "2838",
         "forkable.com",
         "lfeeder.com",
         "[('base64', 'https://forkable.com/terms')]",
         "[('forkable.com',)]"
        ],
        [
         "3906",
         "bizmaker.org",
         "Google LLC",
         "[('base64', 'https://www.bizmaker.org/grantsscholarships')]",
         "[('www.bizmaker.org',)]"
        ],
        [
         "3907",
         "bizmaker.org",
         "Google LLC",
         "[('base64', 'https://www.bizmaker.org/grantsscholarships')]",
         "[('www.bizmaker.org',)]"
        ],
        [
         "3922",
         "bizmaker.org",
         "Google LLC",
         "[('base64', 'https://www.bizmaker.org/grantsscholarships')]",
         "[('www.bizmaker.org',)]"
        ],
        [
         "6107",
         "bemudayana.id",
         "Google LLC",
         "[('base64', 'https://bemudayana.id/category/games/')]",
         "[('bemudayana.id',)]"
        ],
        [
         "6123",
         "bemudayana.id",
         "Google LLC",
         "[('base64', 'https://bemudayana.id/category/games/')]",
         "[('bemudayana.id',)]"
        ]
       ],
       "shape": {
        "columns": 4,
        "rows": 10
       }
      },
      "text/html": [
       "<div>\n",
       "<style scoped>\n",
       "    .dataframe tbody tr th:only-of-type {\n",
       "        vertical-align: middle;\n",
       "    }\n",
       "\n",
       "    .dataframe tbody tr th {\n",
       "        vertical-align: top;\n",
       "    }\n",
       "\n",
       "    .dataframe thead th {\n",
       "        text-align: right;\n",
       "    }\n",
       "</style>\n",
       "<table border=\"1\" class=\"dataframe\">\n",
       "  <thead>\n",
       "    <tr style=\"text-align: right;\">\n",
       "      <th></th>\n",
       "      <th>final_host</th>\n",
       "      <th>req_entity</th>\n",
       "      <th>url_leaks</th>\n",
       "      <th>referer_leaks</th>\n",
       "    </tr>\n",
       "  </thead>\n",
       "  <tbody>\n",
       "    <tr>\n",
       "      <th>1558</th>\n",
       "      <td>prabhatkhabar.com</td>\n",
       "      <td>Google LLC</td>\n",
       "      <td>[(base64, topic/ayodhya-ram-mandir), (base64, ...</td>\n",
       "      <td>[(www.prabhatkhabar.com,)]</td>\n",
       "    </tr>\n",
       "    <tr>\n",
       "      <th>1593</th>\n",
       "      <td>prabhatkhabar.com</td>\n",
       "      <td>Google LLC</td>\n",
       "      <td>[(base64, topic/ayodhya-ram-mandir), (base64, ...</td>\n",
       "      <td>[(www.prabhatkhabar.com,)]</td>\n",
       "    </tr>\n",
       "    <tr>\n",
       "      <th>1616</th>\n",
       "      <td>prabhatkhabar.com</td>\n",
       "      <td>whistle.mobi</td>\n",
       "      <td>[(base64, topic/ayodhya-ram-mandir), (urlencod...</td>\n",
       "      <td>[(www.prabhatkhabar.com,)]</td>\n",
       "    </tr>\n",
       "    <tr>\n",
       "      <th>2501</th>\n",
       "      <td>seatunique.com</td>\n",
       "      <td>Functional Software, Inc.</td>\n",
       "      <td>[]</td>\n",
       "      <td>[(www.seatunique.com,)]</td>\n",
       "    </tr>\n",
       "    <tr>\n",
       "      <th>2838</th>\n",
       "      <td>forkable.com</td>\n",
       "      <td>lfeeder.com</td>\n",
       "      <td>[(base64, https://forkable.com/terms)]</td>\n",
       "      <td>[(forkable.com,)]</td>\n",
       "    </tr>\n",
       "    <tr>\n",
       "      <th>3906</th>\n",
       "      <td>bizmaker.org</td>\n",
       "      <td>Google LLC</td>\n",
       "      <td>[(base64, https://www.bizmaker.org/grantsschol...</td>\n",
       "      <td>[(www.bizmaker.org,)]</td>\n",
       "    </tr>\n",
       "    <tr>\n",
       "      <th>3907</th>\n",
       "      <td>bizmaker.org</td>\n",
       "      <td>Google LLC</td>\n",
       "      <td>[(base64, https://www.bizmaker.org/grantsschol...</td>\n",
       "      <td>[(www.bizmaker.org,)]</td>\n",
       "    </tr>\n",
       "    <tr>\n",
       "      <th>3922</th>\n",
       "      <td>bizmaker.org</td>\n",
       "      <td>Google LLC</td>\n",
       "      <td>[(base64, https://www.bizmaker.org/grantsschol...</td>\n",
       "      <td>[(www.bizmaker.org,)]</td>\n",
       "    </tr>\n",
       "    <tr>\n",
       "      <th>6107</th>\n",
       "      <td>bemudayana.id</td>\n",
       "      <td>Google LLC</td>\n",
       "      <td>[(base64, https://bemudayana.id/category/games/)]</td>\n",
       "      <td>[(bemudayana.id,)]</td>\n",
       "    </tr>\n",
       "    <tr>\n",
       "      <th>6123</th>\n",
       "      <td>bemudayana.id</td>\n",
       "      <td>Google LLC</td>\n",
       "      <td>[(base64, https://bemudayana.id/category/games/)]</td>\n",
       "      <td>[(bemudayana.id,)]</td>\n",
       "    </tr>\n",
       "  </tbody>\n",
       "</table>\n",
       "</div>"
      ],
      "text/plain": [
       "             final_host                 req_entity  \\\n",
       "1558  prabhatkhabar.com                 Google LLC   \n",
       "1593  prabhatkhabar.com                 Google LLC   \n",
       "1616  prabhatkhabar.com               whistle.mobi   \n",
       "2501     seatunique.com  Functional Software, Inc.   \n",
       "2838       forkable.com                lfeeder.com   \n",
       "3906       bizmaker.org                 Google LLC   \n",
       "3907       bizmaker.org                 Google LLC   \n",
       "3922       bizmaker.org                 Google LLC   \n",
       "6107      bemudayana.id                 Google LLC   \n",
       "6123      bemudayana.id                 Google LLC   \n",
       "\n",
       "                                              url_leaks  \\\n",
       "1558  [(base64, topic/ayodhya-ram-mandir), (base64, ...   \n",
       "1593  [(base64, topic/ayodhya-ram-mandir), (base64, ...   \n",
       "1616  [(base64, topic/ayodhya-ram-mandir), (urlencod...   \n",
       "2501                                                 []   \n",
       "2838             [(base64, https://forkable.com/terms)]   \n",
       "3906  [(base64, https://www.bizmaker.org/grantsschol...   \n",
       "3907  [(base64, https://www.bizmaker.org/grantsschol...   \n",
       "3922  [(base64, https://www.bizmaker.org/grantsschol...   \n",
       "6107  [(base64, https://bemudayana.id/category/games/)]   \n",
       "6123  [(base64, https://bemudayana.id/category/games/)]   \n",
       "\n",
       "                   referer_leaks  \n",
       "1558  [(www.prabhatkhabar.com,)]  \n",
       "1593  [(www.prabhatkhabar.com,)]  \n",
       "1616  [(www.prabhatkhabar.com,)]  \n",
       "2501     [(www.seatunique.com,)]  \n",
       "2838           [(forkable.com,)]  \n",
       "3906       [(www.bizmaker.org,)]  \n",
       "3907       [(www.bizmaker.org,)]  \n",
       "3922       [(www.bizmaker.org,)]  \n",
       "6107          [(bemudayana.id,)]  \n",
       "6123          [(bemudayana.id,)]  "
      ]
     },
     "execution_count": 20,
     "metadata": {},
     "output_type": "execute_result"
    }
   ],
   "source": [
    "base64_df[['final_host', 'req_entity', 'url_leaks', 'post_leaks' ,'referer_leaks']].head(10)"
   ]
  },
  {
   "cell_type": "code",
   "execution_count": 27,
   "metadata": {},
   "outputs": [
    {
     "data": {
      "text/plain": [
       "req_entity\n",
       "Google LLC                        1623\n",
       "Microsoft Corporation              362\n",
       "Media.net Advertising FZ-LLC       295\n",
       "lfeeder.com                         94\n",
       "RD Gestão e Sistemas Ltda. EPP      73\n",
       "                                  ... \n",
       "unsplash.com                         1\n",
       "whistle.mobi                         1\n",
       "wisestamp.com                        1\n",
       "wsknow.net                           1\n",
       "xpresslane.in                        1\n",
       "Name: final_host, Length: 234, dtype: int64"
      ]
     },
     "execution_count": 27,
     "metadata": {},
     "output_type": "execute_result"
    }
   ],
   "source": [
    "base64_df.groupby('req_entity').final_host.nunique().sort_values(ascending=False)"
   ]
  },
  {
   "cell_type": "code",
   "execution_count": null,
   "metadata": {},
   "outputs": [
    {
     "data": {
      "application/vnd.microsoft.datawrangler.viewer.v0+json": {
       "columns": [
        {
         "name": "index",
         "rawType": "int64",
         "type": "integer"
        },
        {
         "name": "final_host",
         "rawType": "object",
         "type": "string"
        },
        {
         "name": "req_entity",
         "rawType": "object",
         "type": "string"
        },
        {
         "name": "url_leaks",
         "rawType": "object",
         "type": "unknown"
        },
        {
         "name": "referer_leaks",
         "rawType": "object",
         "type": "unknown"
        }
       ],
       "conversionMethod": "pd.DataFrame",
       "ref": "0329cd49-d7da-44d2-b67a-01f50578b0e0",
       "rows": [
        [
         "215",
         "acom.us",
         "AdRoll, Inc.",
         "[('acom.us',), ('urlencode', 'https://acom.us/industries/agricultural/'), ('urlencode', 'industries/agricultural')]",
         "[('acom.us',)]"
        ],
        [
         "216",
         "acom.us",
         "Google LLC",
         "[('acom.us',), ('urlencode', 'https://acom.us/industries/agricultural/'), ('urlencode', 'industries/agricultural')]",
         "[('acom.us',)]"
        ],
        [
         "222",
         "acom.us",
         "AdRoll, Inc.",
         "[('acom.us',), ('urlencode', 'https://acom.us/industries/agricultural/'), ('urlencode', 'industries/agricultural')]",
         "[('acom.us',)]"
        ],
        [
         "223",
         "acom.us",
         "AdRoll, Inc.",
         "[('acom.us',), ('urlencode', 'https://acom.us/industries/agricultural/'), ('urlencode', 'industries/agricultural')]",
         "[('acom.us',)]"
        ],
        [
         "224",
         "acom.us",
         "AdRoll, Inc.",
         "[('acom.us',), ('urlencode', 'https://acom.us/industries/agricultural/'), ('urlencode', 'industries/agricultural')]",
         "[('acom.us',)]"
        ],
        [
         "225",
         "acom.us",
         "AdRoll, Inc.",
         "[('acom.us',), ('urlencode', 'https://acom.us/industries/agricultural/'), ('urlencode', 'industries/agricultural')]",
         "[('acom.us',)]"
        ],
        [
         "226",
         "acom.us",
         "AdRoll, Inc.",
         "[('acom.us',), ('urlencode', 'https://acom.us/industries/agricultural/'), ('urlencode', 'industries/agricultural')]",
         "[('acom.us',)]"
        ],
        [
         "227",
         "acom.us",
         "AdRoll, Inc.",
         "[('acom.us',), ('urlencode', 'https://acom.us/industries/agricultural/'), ('urlencode', 'industries/agricultural')]",
         "[('acom.us',)]"
        ],
        [
         "228",
         "acom.us",
         "AdRoll, Inc.",
         "[('acom.us',), ('urlencode', 'https://acom.us/industries/agricultural/'), ('urlencode', 'industries/agricultural')]",
         "[('acom.us',)]"
        ],
        [
         "229",
         "acom.us",
         "AdRoll, Inc.",
         "[('acom.us',), ('urlencode', 'https://acom.us/industries/agricultural/'), ('urlencode', 'industries/agricultural')]",
         "[('acom.us',)]"
        ]
       ],
       "shape": {
        "columns": 4,
        "rows": 10
       }
      },
      "text/html": [
       "<div>\n",
       "<style scoped>\n",
       "    .dataframe tbody tr th:only-of-type {\n",
       "        vertical-align: middle;\n",
       "    }\n",
       "\n",
       "    .dataframe tbody tr th {\n",
       "        vertical-align: top;\n",
       "    }\n",
       "\n",
       "    .dataframe thead th {\n",
       "        text-align: right;\n",
       "    }\n",
       "</style>\n",
       "<table border=\"1\" class=\"dataframe\">\n",
       "  <thead>\n",
       "    <tr style=\"text-align: right;\">\n",
       "      <th></th>\n",
       "      <th>final_host</th>\n",
       "      <th>req_entity</th>\n",
       "      <th>url_leaks</th>\n",
       "      <th>referer_leaks</th>\n",
       "    </tr>\n",
       "  </thead>\n",
       "  <tbody>\n",
       "    <tr>\n",
       "      <th>215</th>\n",
       "      <td>acom.us</td>\n",
       "      <td>AdRoll, Inc.</td>\n",
       "      <td>[(acom.us,), (urlencode, https://acom.us/indus...</td>\n",
       "      <td>[(acom.us,)]</td>\n",
       "    </tr>\n",
       "    <tr>\n",
       "      <th>216</th>\n",
       "      <td>acom.us</td>\n",
       "      <td>Google LLC</td>\n",
       "      <td>[(acom.us,), (urlencode, https://acom.us/indus...</td>\n",
       "      <td>[(acom.us,)]</td>\n",
       "    </tr>\n",
       "    <tr>\n",
       "      <th>222</th>\n",
       "      <td>acom.us</td>\n",
       "      <td>AdRoll, Inc.</td>\n",
       "      <td>[(acom.us,), (urlencode, https://acom.us/indus...</td>\n",
       "      <td>[(acom.us,)]</td>\n",
       "    </tr>\n",
       "    <tr>\n",
       "      <th>223</th>\n",
       "      <td>acom.us</td>\n",
       "      <td>AdRoll, Inc.</td>\n",
       "      <td>[(acom.us,), (urlencode, https://acom.us/indus...</td>\n",
       "      <td>[(acom.us,)]</td>\n",
       "    </tr>\n",
       "    <tr>\n",
       "      <th>224</th>\n",
       "      <td>acom.us</td>\n",
       "      <td>AdRoll, Inc.</td>\n",
       "      <td>[(acom.us,), (urlencode, https://acom.us/indus...</td>\n",
       "      <td>[(acom.us,)]</td>\n",
       "    </tr>\n",
       "    <tr>\n",
       "      <th>225</th>\n",
       "      <td>acom.us</td>\n",
       "      <td>AdRoll, Inc.</td>\n",
       "      <td>[(acom.us,), (urlencode, https://acom.us/indus...</td>\n",
       "      <td>[(acom.us,)]</td>\n",
       "    </tr>\n",
       "    <tr>\n",
       "      <th>226</th>\n",
       "      <td>acom.us</td>\n",
       "      <td>AdRoll, Inc.</td>\n",
       "      <td>[(acom.us,), (urlencode, https://acom.us/indus...</td>\n",
       "      <td>[(acom.us,)]</td>\n",
       "    </tr>\n",
       "    <tr>\n",
       "      <th>227</th>\n",
       "      <td>acom.us</td>\n",
       "      <td>AdRoll, Inc.</td>\n",
       "      <td>[(acom.us,), (urlencode, https://acom.us/indus...</td>\n",
       "      <td>[(acom.us,)]</td>\n",
       "    </tr>\n",
       "    <tr>\n",
       "      <th>228</th>\n",
       "      <td>acom.us</td>\n",
       "      <td>AdRoll, Inc.</td>\n",
       "      <td>[(acom.us,), (urlencode, https://acom.us/indus...</td>\n",
       "      <td>[(acom.us,)]</td>\n",
       "    </tr>\n",
       "    <tr>\n",
       "      <th>229</th>\n",
       "      <td>acom.us</td>\n",
       "      <td>AdRoll, Inc.</td>\n",
       "      <td>[(acom.us,), (urlencode, https://acom.us/indus...</td>\n",
       "      <td>[(acom.us,)]</td>\n",
       "    </tr>\n",
       "  </tbody>\n",
       "</table>\n",
       "</div>"
      ],
      "text/plain": [
       "    final_host    req_entity  \\\n",
       "215    acom.us  AdRoll, Inc.   \n",
       "216    acom.us    Google LLC   \n",
       "222    acom.us  AdRoll, Inc.   \n",
       "223    acom.us  AdRoll, Inc.   \n",
       "224    acom.us  AdRoll, Inc.   \n",
       "225    acom.us  AdRoll, Inc.   \n",
       "226    acom.us  AdRoll, Inc.   \n",
       "227    acom.us  AdRoll, Inc.   \n",
       "228    acom.us  AdRoll, Inc.   \n",
       "229    acom.us  AdRoll, Inc.   \n",
       "\n",
       "                                             url_leaks referer_leaks  \n",
       "215  [(acom.us,), (urlencode, https://acom.us/indus...  [(acom.us,)]  \n",
       "216  [(acom.us,), (urlencode, https://acom.us/indus...  [(acom.us,)]  \n",
       "222  [(acom.us,), (urlencode, https://acom.us/indus...  [(acom.us,)]  \n",
       "223  [(acom.us,), (urlencode, https://acom.us/indus...  [(acom.us,)]  \n",
       "224  [(acom.us,), (urlencode, https://acom.us/indus...  [(acom.us,)]  \n",
       "225  [(acom.us,), (urlencode, https://acom.us/indus...  [(acom.us,)]  \n",
       "226  [(acom.us,), (urlencode, https://acom.us/indus...  [(acom.us,)]  \n",
       "227  [(acom.us,), (urlencode, https://acom.us/indus...  [(acom.us,)]  \n",
       "228  [(acom.us,), (urlencode, https://acom.us/indus...  [(acom.us,)]  \n",
       "229  [(acom.us,), (urlencode, https://acom.us/indus...  [(acom.us,)]  "
      ]
     },
     "execution_count": 22,
     "metadata": {},
     "output_type": "execute_result"
    }
   ],
   "source": [
    "urlencode_df[['final_host', 'req_entity', 'url_leaks', 'post_leaks' ,'referer_leaks']].head(10)"
   ]
  },
  {
   "cell_type": "code",
   "execution_count": 26,
   "metadata": {},
   "outputs": [
    {
     "data": {
      "text/plain": [
       "req_entity\n",
       "Google LLC               18104\n",
       "Facebook, Inc.            6572\n",
       "Microsoft Corporation     3556\n",
       "Yandex LLC                1221\n",
       "Twitter, Inc.             1151\n",
       "                         ...  \n",
       "0gs25f.ru                    1\n",
       "00px.net                     1\n",
       "                             1\n",
       "北京骐骥云科技有限公司                  1\n",
       "3anx.net                     1\n",
       "Name: final_host, Length: 2494, dtype: int64"
      ]
     },
     "execution_count": 26,
     "metadata": {},
     "output_type": "execute_result"
    }
   ],
   "source": [
    "urlencode_df.groupby('req_entity').final_host.nunique().sort_values(ascending=False)"
   ]
  },
  {
   "cell_type": "code",
   "execution_count": null,
   "metadata": {},
   "outputs": [
    {
     "data": {
      "application/vnd.microsoft.datawrangler.viewer.v0+json": {
       "columns": [
        {
         "name": "index",
         "rawType": "int64",
         "type": "integer"
        },
        {
         "name": "final_host",
         "rawType": "object",
         "type": "string"
        },
        {
         "name": "req_entity",
         "rawType": "object",
         "type": "string"
        },
        {
         "name": "url_leaks",
         "rawType": "object",
         "type": "unknown"
        },
        {
         "name": "referer_leaks",
         "rawType": "object",
         "type": "unknown"
        }
       ],
       "conversionMethod": "pd.DataFrame",
       "ref": "3ea09c90-1be1-49ea-a710-317981c15dd6",
       "rows": [
        [
         "1641922",
         "electro-master.ru",
         "Yandex LLC",
         "[('urlencode', 'section_id=&see_active=Y&see_complite=N'), ('www.electro-master.ru',), ('urlencode', 'about/actions'), ('urlencode', 'https://www.electro-master.ru/about/actions/?section_id=&see_active=Y&see_complite=N')]",
         "[('www.electro-master.ru',)]"
        ],
        [
         "5825054",
         "baginyaforum.ru",
         "Yandex LLC",
         "[('viewtopic.php',), ('baginyaforum.ru',), ('urlencode', 'https://baginyaforum.ru/viewtopic.php?id=440&p=8#p246865'), ('urlencode', 'https://baginyaforum.ru/viewtopic.php?id=440&p=8'), ('p246865',), ('urlencode', 'id=440&p=8')]",
         "[('baginyaforum.ru',)]"
        ],
        [
         "6530346",
         "baginyaforum.ru",
         "Yandex LLC",
         "[('urlencode', 'id=123&p=2'), ('viewtopic.php',), ('baginyaforum.ru',), ('p241555',), ('urlencode', 'https://baginyaforum.ru/viewtopic.php?id=123&p=2'), ('urlencode', 'https://baginyaforum.ru/viewtopic.php?id=123&p=2#p241555')]",
         "[('baginyaforum.ru',)]"
        ],
        [
         "7209958",
         "xn--90achb4ac0j.xn--p1ai",
         "Yandex LLC",
         "[('xn--90achb4ac0j.xn--p1ai',), ('urlencode', 'https://xn--90achb4ac0j.xn--p1ai/index.php?route=product/category&path=194_327_333'), ('urlencode', 'route=product/category&path=194_327_333'), ('index.php',)]",
         "[('xn--90achb4ac0j.xn--p1ai',)]"
        ],
        [
         "7602552",
         "baginyaforum.ru",
         "Yandex LLC",
         "[('urlencode', 'id=104&p=11'), ('viewtopic.php',), ('baginyaforum.ru',), ('urlencode', 'https://baginyaforum.ru/viewtopic.php?id=104&p=11'), ('urlencode', 'https://baginyaforum.ru/viewtopic.php?id=104&p=11#p244841'), ('p244841',)]",
         "[('baginyaforum.ru',)]"
        ]
       ],
       "shape": {
        "columns": 4,
        "rows": 5
       }
      },
      "text/html": [
       "<div>\n",
       "<style scoped>\n",
       "    .dataframe tbody tr th:only-of-type {\n",
       "        vertical-align: middle;\n",
       "    }\n",
       "\n",
       "    .dataframe tbody tr th {\n",
       "        vertical-align: top;\n",
       "    }\n",
       "\n",
       "    .dataframe thead th {\n",
       "        text-align: right;\n",
       "    }\n",
       "</style>\n",
       "<table border=\"1\" class=\"dataframe\">\n",
       "  <thead>\n",
       "    <tr style=\"text-align: right;\">\n",
       "      <th></th>\n",
       "      <th>final_host</th>\n",
       "      <th>req_entity</th>\n",
       "      <th>url_leaks</th>\n",
       "      <th>referer_leaks</th>\n",
       "    </tr>\n",
       "  </thead>\n",
       "  <tbody>\n",
       "    <tr>\n",
       "      <th>1641922</th>\n",
       "      <td>electro-master.ru</td>\n",
       "      <td>Yandex LLC</td>\n",
       "      <td>[(urlencode, section_id=&amp;see_active=Y&amp;see_comp...</td>\n",
       "      <td>[(www.electro-master.ru,)]</td>\n",
       "    </tr>\n",
       "    <tr>\n",
       "      <th>5825054</th>\n",
       "      <td>baginyaforum.ru</td>\n",
       "      <td>Yandex LLC</td>\n",
       "      <td>[(viewtopic.php,), (baginyaforum.ru,), (urlenc...</td>\n",
       "      <td>[(baginyaforum.ru,)]</td>\n",
       "    </tr>\n",
       "    <tr>\n",
       "      <th>6530346</th>\n",
       "      <td>baginyaforum.ru</td>\n",
       "      <td>Yandex LLC</td>\n",
       "      <td>[(urlencode, id=123&amp;p=2), (viewtopic.php,), (b...</td>\n",
       "      <td>[(baginyaforum.ru,)]</td>\n",
       "    </tr>\n",
       "    <tr>\n",
       "      <th>7209958</th>\n",
       "      <td>xn--90achb4ac0j.xn--p1ai</td>\n",
       "      <td>Yandex LLC</td>\n",
       "      <td>[(xn--90achb4ac0j.xn--p1ai,), (urlencode, http...</td>\n",
       "      <td>[(xn--90achb4ac0j.xn--p1ai,)]</td>\n",
       "    </tr>\n",
       "    <tr>\n",
       "      <th>7602552</th>\n",
       "      <td>baginyaforum.ru</td>\n",
       "      <td>Yandex LLC</td>\n",
       "      <td>[(urlencode, id=104&amp;p=11), (viewtopic.php,), (...</td>\n",
       "      <td>[(baginyaforum.ru,)]</td>\n",
       "    </tr>\n",
       "  </tbody>\n",
       "</table>\n",
       "</div>"
      ],
      "text/plain": [
       "                       final_host  req_entity  \\\n",
       "1641922         electro-master.ru  Yandex LLC   \n",
       "5825054           baginyaforum.ru  Yandex LLC   \n",
       "6530346           baginyaforum.ru  Yandex LLC   \n",
       "7209958  xn--90achb4ac0j.xn--p1ai  Yandex LLC   \n",
       "7602552           baginyaforum.ru  Yandex LLC   \n",
       "\n",
       "                                                 url_leaks  \\\n",
       "1641922  [(urlencode, section_id=&see_active=Y&see_comp...   \n",
       "5825054  [(viewtopic.php,), (baginyaforum.ru,), (urlenc...   \n",
       "6530346  [(urlencode, id=123&p=2), (viewtopic.php,), (b...   \n",
       "7209958  [(xn--90achb4ac0j.xn--p1ai,), (urlencode, http...   \n",
       "7602552  [(urlencode, id=104&p=11), (viewtopic.php,), (...   \n",
       "\n",
       "                         referer_leaks  \n",
       "1641922     [(www.electro-master.ru,)]  \n",
       "5825054           [(baginyaforum.ru,)]  \n",
       "6530346           [(baginyaforum.ru,)]  \n",
       "7209958  [(xn--90achb4ac0j.xn--p1ai,)]  \n",
       "7602552           [(baginyaforum.ru,)]  "
      ]
     },
     "execution_count": 24,
     "metadata": {},
     "output_type": "execute_result"
    }
   ],
   "source": [
    "entity_df[['final_host', 'req_entity', 'url_leaks', 'post_leaks' ,'referer_leaks']].head(10)\n"
   ]
  },
  {
   "cell_type": "code",
   "execution_count": 33,
   "metadata": {},
   "outputs": [
    {
     "data": {
      "text/plain": [
       "req_entity\n",
       "Yandex LLC    3\n",
       "Name: final_host, dtype: int64"
      ]
     },
     "execution_count": 33,
     "metadata": {},
     "output_type": "execute_result"
    }
   ],
   "source": [
    "entity_df.groupby('req_entity').final_host.nunique().sort_values(ascending=False)"
   ]
  },
  {
   "cell_type": "code",
   "execution_count": 34,
   "metadata": {},
   "outputs": [
    {
     "data": {
      "application/vnd.microsoft.datawrangler.viewer.v0+json": {
       "columns": [
        {
         "name": "index",
         "rawType": "int64",
         "type": "integer"
        },
        {
         "name": "final_host",
         "rawType": "object",
         "type": "string"
        },
        {
         "name": "req_entity",
         "rawType": "object",
         "type": "string"
        },
        {
         "name": "url_leaks",
         "rawType": "object",
         "type": "string"
        },
        {
         "name": "post_leaks",
         "rawType": "object",
         "type": "string"
        },
        {
         "name": "referer_leaks",
         "rawType": "object",
         "type": "string"
        }
       ],
       "conversionMethod": "pd.DataFrame",
       "ref": "e773ea9b-afe1-4102-a220-a67950ec7e14",
       "rows": [],
       "shape": {
        "columns": 5,
        "rows": 0
       }
      },
      "text/html": [
       "<div>\n",
       "<style scoped>\n",
       "    .dataframe tbody tr th:only-of-type {\n",
       "        vertical-align: middle;\n",
       "    }\n",
       "\n",
       "    .dataframe tbody tr th {\n",
       "        vertical-align: top;\n",
       "    }\n",
       "\n",
       "    .dataframe thead th {\n",
       "        text-align: right;\n",
       "    }\n",
       "</style>\n",
       "<table border=\"1\" class=\"dataframe\">\n",
       "  <thead>\n",
       "    <tr style=\"text-align: right;\">\n",
       "      <th></th>\n",
       "      <th>final_host</th>\n",
       "      <th>req_entity</th>\n",
       "      <th>url_leaks</th>\n",
       "      <th>post_leaks</th>\n",
       "      <th>referer_leaks</th>\n",
       "    </tr>\n",
       "  </thead>\n",
       "  <tbody>\n",
       "  </tbody>\n",
       "</table>\n",
       "</div>"
      ],
      "text/plain": [
       "Empty DataFrame\n",
       "Columns: [final_host, req_entity, url_leaks, post_leaks, referer_leaks]\n",
       "Index: []"
      ]
     },
     "execution_count": 34,
     "metadata": {},
     "output_type": "execute_result"
    }
   ],
   "source": [
    "deflate_df[['final_host', 'req_entity', 'url_leaks', 'post_leaks' ,'referer_leaks']].head(10)"
   ]
  },
  {
   "cell_type": "code",
   "execution_count": 35,
   "metadata": {},
   "outputs": [
    {
     "data": {
      "text/plain": [
       "Series([], Name: final_host, dtype: int64)"
      ]
     },
     "execution_count": 35,
     "metadata": {},
     "output_type": "execute_result"
    }
   ],
   "source": [
    "deflate_df.groupby('req_entity').final_host.nunique().sort_values(ascending=False)"
   ]
  },
  {
   "cell_type": "code",
   "execution_count": 36,
   "metadata": {},
   "outputs": [
    {
     "data": {
      "application/vnd.microsoft.datawrangler.viewer.v0+json": {
       "columns": [
        {
         "name": "index",
         "rawType": "int64",
         "type": "integer"
        },
        {
         "name": "final_host",
         "rawType": "object",
         "type": "string"
        },
        {
         "name": "req_entity",
         "rawType": "object",
         "type": "string"
        },
        {
         "name": "url_leaks",
         "rawType": "object",
         "type": "string"
        },
        {
         "name": "post_leaks",
         "rawType": "object",
         "type": "string"
        },
        {
         "name": "referer_leaks",
         "rawType": "object",
         "type": "string"
        }
       ],
       "conversionMethod": "pd.DataFrame",
       "ref": "4347c191-f402-4192-b29a-4c87dceb894c",
       "rows": [],
       "shape": {
        "columns": 5,
        "rows": 0
       }
      },
      "text/html": [
       "<div>\n",
       "<style scoped>\n",
       "    .dataframe tbody tr th:only-of-type {\n",
       "        vertical-align: middle;\n",
       "    }\n",
       "\n",
       "    .dataframe tbody tr th {\n",
       "        vertical-align: top;\n",
       "    }\n",
       "\n",
       "    .dataframe thead th {\n",
       "        text-align: right;\n",
       "    }\n",
       "</style>\n",
       "<table border=\"1\" class=\"dataframe\">\n",
       "  <thead>\n",
       "    <tr style=\"text-align: right;\">\n",
       "      <th></th>\n",
       "      <th>final_host</th>\n",
       "      <th>req_entity</th>\n",
       "      <th>url_leaks</th>\n",
       "      <th>post_leaks</th>\n",
       "      <th>referer_leaks</th>\n",
       "    </tr>\n",
       "  </thead>\n",
       "  <tbody>\n",
       "  </tbody>\n",
       "</table>\n",
       "</div>"
      ],
      "text/plain": [
       "Empty DataFrame\n",
       "Columns: [final_host, req_entity, url_leaks, post_leaks, referer_leaks]\n",
       "Index: []"
      ]
     },
     "execution_count": 36,
     "metadata": {},
     "output_type": "execute_result"
    }
   ],
   "source": [
    "zlib_df[['final_host', 'req_entity', 'url_leaks', 'post_leaks' ,'referer_leaks']].head(10)"
   ]
  },
  {
   "cell_type": "code",
   "execution_count": 37,
   "metadata": {},
   "outputs": [
    {
     "data": {
      "text/plain": [
       "Series([], Name: final_host, dtype: int64)"
      ]
     },
     "execution_count": 37,
     "metadata": {},
     "output_type": "execute_result"
    }
   ],
   "source": [
    "zlib_df.groupby('req_entity').final_host.nunique().sort_values(ascending=False)"
   ]
  },
  {
   "cell_type": "code",
   "execution_count": 38,
   "metadata": {},
   "outputs": [
    {
     "data": {
      "application/vnd.microsoft.datawrangler.viewer.v0+json": {
       "columns": [
        {
         "name": "index",
         "rawType": "int64",
         "type": "integer"
        },
        {
         "name": "final_host",
         "rawType": "object",
         "type": "string"
        },
        {
         "name": "req_entity",
         "rawType": "object",
         "type": "string"
        },
        {
         "name": "url_leaks",
         "rawType": "object",
         "type": "string"
        },
        {
         "name": "post_leaks",
         "rawType": "object",
         "type": "string"
        },
        {
         "name": "referer_leaks",
         "rawType": "object",
         "type": "string"
        }
       ],
       "conversionMethod": "pd.DataFrame",
       "ref": "e1904689-fee9-4df7-b32f-9f8d3de6dede",
       "rows": [],
       "shape": {
        "columns": 5,
        "rows": 0
       }
      },
      "text/html": [
       "<div>\n",
       "<style scoped>\n",
       "    .dataframe tbody tr th:only-of-type {\n",
       "        vertical-align: middle;\n",
       "    }\n",
       "\n",
       "    .dataframe tbody tr th {\n",
       "        vertical-align: top;\n",
       "    }\n",
       "\n",
       "    .dataframe thead th {\n",
       "        text-align: right;\n",
       "    }\n",
       "</style>\n",
       "<table border=\"1\" class=\"dataframe\">\n",
       "  <thead>\n",
       "    <tr style=\"text-align: right;\">\n",
       "      <th></th>\n",
       "      <th>final_host</th>\n",
       "      <th>req_entity</th>\n",
       "      <th>url_leaks</th>\n",
       "      <th>post_leaks</th>\n",
       "      <th>referer_leaks</th>\n",
       "    </tr>\n",
       "  </thead>\n",
       "  <tbody>\n",
       "  </tbody>\n",
       "</table>\n",
       "</div>"
      ],
      "text/plain": [
       "Empty DataFrame\n",
       "Columns: [final_host, req_entity, url_leaks, post_leaks, referer_leaks]\n",
       "Index: []"
      ]
     },
     "execution_count": 38,
     "metadata": {},
     "output_type": "execute_result"
    }
   ],
   "source": [
    "gzip_df[['final_host', 'req_entity', 'url_leaks', 'post_leaks' ,'referer_leaks']].head(10)"
   ]
  },
  {
   "cell_type": "code",
   "execution_count": 39,
   "metadata": {},
   "outputs": [
    {
     "data": {
      "text/plain": [
       "Series([], Name: final_host, dtype: int64)"
      ]
     },
     "execution_count": 39,
     "metadata": {},
     "output_type": "execute_result"
    }
   ],
   "source": [
    "gzip_df.groupby('req_entity').final_host.nunique().sort_values(ascending=False)"
   ]
  },
  {
   "cell_type": "code",
   "execution_count": 40,
   "metadata": {},
   "outputs": [
    {
     "data": {
      "application/vnd.microsoft.datawrangler.viewer.v0+json": {
       "columns": [
        {
         "name": "index",
         "rawType": "int64",
         "type": "integer"
        },
        {
         "name": "final_host",
         "rawType": "object",
         "type": "string"
        },
        {
         "name": "req_entity",
         "rawType": "object",
         "type": "string"
        },
        {
         "name": "url_leaks",
         "rawType": "object",
         "type": "unknown"
        },
        {
         "name": "post_leaks",
         "rawType": "object",
         "type": "unknown"
        },
        {
         "name": "referer_leaks",
         "rawType": "object",
         "type": "unknown"
        }
       ],
       "conversionMethod": "pd.DataFrame",
       "ref": "292363c5-1387-4933-b835-29b659173554",
       "rows": [
        [
         "56639",
         "shemaroome.com",
         "CleverTap",
         "[('lzstring', 'https://www.shemaroome.com/livetv')]",
         null,
         "[]"
        ],
        [
         "89064",
         "madeincookware.com",
         "FullStory",
         "[]",
         "[('urlencode', 'collections/sets'), ('urlencode', 'https://madeincookware.com/collections/sets'), ('lzstring', 'madeincookware.com'), ('collections/sets',), ('madeincookware.com',), ('base64', 'madeincookware.com'), ('https://madeincookware.com/collections/sets',)]",
         "[('madeincookware.com',)]"
        ],
        [
         "271362",
         "aetherapparel.com",
         "Functional Software, Inc.",
         "[]",
         "[('collections/womens-snow-collection',), ('urlencode', 'https://aetherapparel.com/collections/womens-snow-collection'), ('urlencode', 'aetherapparel.com'), ('lzstring', 'aetherapparel.com'), ('https://aetherapparel.com/collections/womens-snow-collection',), ('urlencode', 'collections/womens-snow-collection'), ('aetherapparel.com',)]",
         "[('aetherapparel.com',)]"
        ],
        [
         "879992",
         "thrillist.com",
         "trx-hub.com",
         "[('lzstring', 'https://www.thrillist.com/news')]",
         null,
         "[('www.thrillist.com',)]"
        ],
        [
         "940623",
         "madeincookware.com",
         "FullStory",
         "[]",
         "[('urlencode', 'https://madeincookware.com/collections/tabletop'), ('urlencode', 'collections/tabletop'), ('lzstring', 'madeincookware.com'), ('https://madeincookware.com/collections/tabletop',), ('collections/tabletop',), ('madeincookware.com',), ('base64', 'madeincookware.com')]",
         "[('madeincookware.com',)]"
        ],
        [
         "1325905",
         "madeincookware.com",
         "FullStory",
         "[]",
         "[('urlencode', 'collections/cookware'), ('urlencode', 'madeincookware.com'), ('urlencode', 'https://madeincookware.com/collections/cookware'), ('lzstring', 'madeincookware.com'), ('collections/cookware',), ('madeincookware.com',), ('base64', 'madeincookware.com'), ('https://madeincookware.com/collections/cookware',)]",
         "[('madeincookware.com',)]"
        ],
        [
         "1572763",
         "fabhotels.com",
         "CleverTap",
         "[('lzstring', 'https://www.fabhotels.com/refer-and-earn')]",
         null,
         "[('www.fabhotels.com',)]"
        ],
        [
         "1882729",
         "gardensillustrated.com",
         "trx-hub.com",
         "[('lzstring', 'https://www.gardensillustrated.com/garden-equipment')]",
         null,
         "[('www.gardensillustrated.com',)]"
        ],
        [
         "1966386",
         "madeincookware.com",
         "FullStory",
         "[]",
         "[('urlencode', 'collections/bakeware'), ('urlencode', 'madeincookware.com'), ('collections/bakeware',), ('lzstring', 'madeincookware.com'), ('https://madeincookware.com/collections/bakeware',), ('madeincookware.com',), ('base64', 'madeincookware.com'), ('urlencode', 'https://madeincookware.com/collections/bakeware')]",
         "[('madeincookware.com',)]"
        ],
        [
         "2223737",
         "degustapanama.com",
         "CleverTap",
         "[('lzstring', 'https://www.degustapanama.com/panama/search')]",
         null,
         "[('www.degustapanama.com',)]"
        ]
       ],
       "shape": {
        "columns": 5,
        "rows": 10
       }
      },
      "text/html": [
       "<div>\n",
       "<style scoped>\n",
       "    .dataframe tbody tr th:only-of-type {\n",
       "        vertical-align: middle;\n",
       "    }\n",
       "\n",
       "    .dataframe tbody tr th {\n",
       "        vertical-align: top;\n",
       "    }\n",
       "\n",
       "    .dataframe thead th {\n",
       "        text-align: right;\n",
       "    }\n",
       "</style>\n",
       "<table border=\"1\" class=\"dataframe\">\n",
       "  <thead>\n",
       "    <tr style=\"text-align: right;\">\n",
       "      <th></th>\n",
       "      <th>final_host</th>\n",
       "      <th>req_entity</th>\n",
       "      <th>url_leaks</th>\n",
       "      <th>post_leaks</th>\n",
       "      <th>referer_leaks</th>\n",
       "    </tr>\n",
       "  </thead>\n",
       "  <tbody>\n",
       "    <tr>\n",
       "      <th>56639</th>\n",
       "      <td>shemaroome.com</td>\n",
       "      <td>CleverTap</td>\n",
       "      <td>[(lzstring, https://www.shemaroome.com/livetv)]</td>\n",
       "      <td>None</td>\n",
       "      <td>[]</td>\n",
       "    </tr>\n",
       "    <tr>\n",
       "      <th>89064</th>\n",
       "      <td>madeincookware.com</td>\n",
       "      <td>FullStory</td>\n",
       "      <td>[]</td>\n",
       "      <td>[(urlencode, collections/sets), (urlencode, ht...</td>\n",
       "      <td>[(madeincookware.com,)]</td>\n",
       "    </tr>\n",
       "    <tr>\n",
       "      <th>271362</th>\n",
       "      <td>aetherapparel.com</td>\n",
       "      <td>Functional Software, Inc.</td>\n",
       "      <td>[]</td>\n",
       "      <td>[(collections/womens-snow-collection,), (urlen...</td>\n",
       "      <td>[(aetherapparel.com,)]</td>\n",
       "    </tr>\n",
       "    <tr>\n",
       "      <th>879992</th>\n",
       "      <td>thrillist.com</td>\n",
       "      <td>trx-hub.com</td>\n",
       "      <td>[(lzstring, https://www.thrillist.com/news)]</td>\n",
       "      <td>None</td>\n",
       "      <td>[(www.thrillist.com,)]</td>\n",
       "    </tr>\n",
       "    <tr>\n",
       "      <th>940623</th>\n",
       "      <td>madeincookware.com</td>\n",
       "      <td>FullStory</td>\n",
       "      <td>[]</td>\n",
       "      <td>[(urlencode, https://madeincookware.com/collec...</td>\n",
       "      <td>[(madeincookware.com,)]</td>\n",
       "    </tr>\n",
       "    <tr>\n",
       "      <th>1325905</th>\n",
       "      <td>madeincookware.com</td>\n",
       "      <td>FullStory</td>\n",
       "      <td>[]</td>\n",
       "      <td>[(urlencode, collections/cookware), (urlencode...</td>\n",
       "      <td>[(madeincookware.com,)]</td>\n",
       "    </tr>\n",
       "    <tr>\n",
       "      <th>1572763</th>\n",
       "      <td>fabhotels.com</td>\n",
       "      <td>CleverTap</td>\n",
       "      <td>[(lzstring, https://www.fabhotels.com/refer-an...</td>\n",
       "      <td>None</td>\n",
       "      <td>[(www.fabhotels.com,)]</td>\n",
       "    </tr>\n",
       "    <tr>\n",
       "      <th>1882729</th>\n",
       "      <td>gardensillustrated.com</td>\n",
       "      <td>trx-hub.com</td>\n",
       "      <td>[(lzstring, https://www.gardensillustrated.com...</td>\n",
       "      <td>None</td>\n",
       "      <td>[(www.gardensillustrated.com,)]</td>\n",
       "    </tr>\n",
       "    <tr>\n",
       "      <th>1966386</th>\n",
       "      <td>madeincookware.com</td>\n",
       "      <td>FullStory</td>\n",
       "      <td>[]</td>\n",
       "      <td>[(urlencode, collections/bakeware), (urlencode...</td>\n",
       "      <td>[(madeincookware.com,)]</td>\n",
       "    </tr>\n",
       "    <tr>\n",
       "      <th>2223737</th>\n",
       "      <td>degustapanama.com</td>\n",
       "      <td>CleverTap</td>\n",
       "      <td>[(lzstring, https://www.degustapanama.com/pana...</td>\n",
       "      <td>None</td>\n",
       "      <td>[(www.degustapanama.com,)]</td>\n",
       "    </tr>\n",
       "  </tbody>\n",
       "</table>\n",
       "</div>"
      ],
      "text/plain": [
       "                     final_host                 req_entity  \\\n",
       "56639            shemaroome.com                  CleverTap   \n",
       "89064        madeincookware.com                  FullStory   \n",
       "271362        aetherapparel.com  Functional Software, Inc.   \n",
       "879992            thrillist.com                trx-hub.com   \n",
       "940623       madeincookware.com                  FullStory   \n",
       "1325905      madeincookware.com                  FullStory   \n",
       "1572763           fabhotels.com                  CleverTap   \n",
       "1882729  gardensillustrated.com                trx-hub.com   \n",
       "1966386      madeincookware.com                  FullStory   \n",
       "2223737       degustapanama.com                  CleverTap   \n",
       "\n",
       "                                                 url_leaks  \\\n",
       "56639      [(lzstring, https://www.shemaroome.com/livetv)]   \n",
       "89064                                                   []   \n",
       "271362                                                  []   \n",
       "879992        [(lzstring, https://www.thrillist.com/news)]   \n",
       "940623                                                  []   \n",
       "1325905                                                 []   \n",
       "1572763  [(lzstring, https://www.fabhotels.com/refer-an...   \n",
       "1882729  [(lzstring, https://www.gardensillustrated.com...   \n",
       "1966386                                                 []   \n",
       "2223737  [(lzstring, https://www.degustapanama.com/pana...   \n",
       "\n",
       "                                                post_leaks  \\\n",
       "56639                                                 None   \n",
       "89064    [(urlencode, collections/sets), (urlencode, ht...   \n",
       "271362   [(collections/womens-snow-collection,), (urlen...   \n",
       "879992                                                None   \n",
       "940623   [(urlencode, https://madeincookware.com/collec...   \n",
       "1325905  [(urlencode, collections/cookware), (urlencode...   \n",
       "1572763                                               None   \n",
       "1882729                                               None   \n",
       "1966386  [(urlencode, collections/bakeware), (urlencode...   \n",
       "2223737                                               None   \n",
       "\n",
       "                           referer_leaks  \n",
       "56639                                 []  \n",
       "89064            [(madeincookware.com,)]  \n",
       "271362            [(aetherapparel.com,)]  \n",
       "879992            [(www.thrillist.com,)]  \n",
       "940623           [(madeincookware.com,)]  \n",
       "1325905          [(madeincookware.com,)]  \n",
       "1572763           [(www.fabhotels.com,)]  \n",
       "1882729  [(www.gardensillustrated.com,)]  \n",
       "1966386          [(madeincookware.com,)]  \n",
       "2223737       [(www.degustapanama.com,)]  "
      ]
     },
     "execution_count": 40,
     "metadata": {},
     "output_type": "execute_result"
    }
   ],
   "source": [
    "lzstring[['final_host', 'req_entity', 'url_leaks', 'post_leaks' ,'referer_leaks']].head(10)"
   ]
  },
  {
   "cell_type": "code",
   "execution_count": 41,
   "metadata": {},
   "outputs": [
    {
     "data": {
      "text/plain": [
       "req_entity\n",
       "CleverTap                    7\n",
       "trx-hub.com                  3\n",
       "FullStory                    1\n",
       "Functional Software, Inc.    1\n",
       "Storygize                    1\n",
       "Name: final_host, dtype: int64"
      ]
     },
     "execution_count": 41,
     "metadata": {},
     "output_type": "execute_result"
    }
   ],
   "source": [
    "lzstring.groupby('req_entity').final_host.nunique().sort_values(ascending=False)"
   ]
  },
  {
   "cell_type": "code",
   "execution_count": 42,
   "metadata": {},
   "outputs": [
    {
     "data": {
      "application/vnd.microsoft.datawrangler.viewer.v0+json": {
       "columns": [
        {
         "name": "index",
         "rawType": "int64",
         "type": "integer"
        },
        {
         "name": "final_host",
         "rawType": "object",
         "type": "string"
        },
        {
         "name": "req_entity",
         "rawType": "object",
         "type": "string"
        },
        {
         "name": "url_leaks",
         "rawType": "object",
         "type": "unknown"
        },
        {
         "name": "post_leaks",
         "rawType": "object",
         "type": "unknown"
        },
        {
         "name": "referer_leaks",
         "rawType": "object",
         "type": "unknown"
        }
       ],
       "conversionMethod": "pd.DataFrame",
       "ref": "72cc8573-02f9-4e85-89d3-59e07398dc48",
       "rows": [
        [
         "2809299",
         "mgemi.com",
         "4Cite Marketing",
         "[('custom_map_1', 'mgemi.com'), ('urlencode', 'https://mgemi.com/collections/before-they-go'), ('urlencode', 'collections/before-they-go'), ('mgemi.com',)]",
         null,
         "[('mgemi.com',)]"
        ],
        [
         "6690664",
         "mgemi.com",
         "4Cite Marketing",
         "[('urlencode', 'pages/men'), ('custom_map_1', 'mgemi.com'), ('urlencode', 'https://mgemi.com/pages/men'), ('mgemi.com',)]",
         null,
         "[('mgemi.com',)]"
        ],
        [
         "7705077",
         "mgemi.com",
         "4Cite Marketing",
         "[('custom_map_1', 'mgemi.com'), ('urlencode', 'https://mgemi.com/collections/womens-new-arrivals'), ('urlencode', 'collections/womens-new-arrivals'), ('mgemi.com',)]",
         null,
         "[('mgemi.com',)]"
        ],
        [
         "9916225",
         "mgemi.com",
         "4Cite Marketing",
         "[('urlencode', 'pages/rewards'), ('custom_map_1', 'mgemi.com'), ('urlencode', 'https://mgemi.com/pages/rewards'), ('mgemi.com',)]",
         null,
         "[('mgemi.com',)]"
        ],
        [
         "10134735",
         "mgemi.com",
         "4Cite Marketing",
         "[('urlencode', 'collections/leather-accessories'), ('urlencode', 'https://mgemi.com/collections/leather-accessories'), ('custom_map_1', 'mgemi.com'), ('mgemi.com',)]",
         null,
         "[('mgemi.com',)]"
        ]
       ],
       "shape": {
        "columns": 5,
        "rows": 5
       }
      },
      "text/html": [
       "<div>\n",
       "<style scoped>\n",
       "    .dataframe tbody tr th:only-of-type {\n",
       "        vertical-align: middle;\n",
       "    }\n",
       "\n",
       "    .dataframe tbody tr th {\n",
       "        vertical-align: top;\n",
       "    }\n",
       "\n",
       "    .dataframe thead th {\n",
       "        text-align: right;\n",
       "    }\n",
       "</style>\n",
       "<table border=\"1\" class=\"dataframe\">\n",
       "  <thead>\n",
       "    <tr style=\"text-align: right;\">\n",
       "      <th></th>\n",
       "      <th>final_host</th>\n",
       "      <th>req_entity</th>\n",
       "      <th>url_leaks</th>\n",
       "      <th>post_leaks</th>\n",
       "      <th>referer_leaks</th>\n",
       "    </tr>\n",
       "  </thead>\n",
       "  <tbody>\n",
       "    <tr>\n",
       "      <th>2809299</th>\n",
       "      <td>mgemi.com</td>\n",
       "      <td>4Cite Marketing</td>\n",
       "      <td>[(custom_map_1, mgemi.com), (urlencode, https:...</td>\n",
       "      <td>None</td>\n",
       "      <td>[(mgemi.com,)]</td>\n",
       "    </tr>\n",
       "    <tr>\n",
       "      <th>6690664</th>\n",
       "      <td>mgemi.com</td>\n",
       "      <td>4Cite Marketing</td>\n",
       "      <td>[(urlencode, pages/men), (custom_map_1, mgemi....</td>\n",
       "      <td>None</td>\n",
       "      <td>[(mgemi.com,)]</td>\n",
       "    </tr>\n",
       "    <tr>\n",
       "      <th>7705077</th>\n",
       "      <td>mgemi.com</td>\n",
       "      <td>4Cite Marketing</td>\n",
       "      <td>[(custom_map_1, mgemi.com), (urlencode, https:...</td>\n",
       "      <td>None</td>\n",
       "      <td>[(mgemi.com,)]</td>\n",
       "    </tr>\n",
       "    <tr>\n",
       "      <th>9916225</th>\n",
       "      <td>mgemi.com</td>\n",
       "      <td>4Cite Marketing</td>\n",
       "      <td>[(urlencode, pages/rewards), (custom_map_1, mg...</td>\n",
       "      <td>None</td>\n",
       "      <td>[(mgemi.com,)]</td>\n",
       "    </tr>\n",
       "    <tr>\n",
       "      <th>10134735</th>\n",
       "      <td>mgemi.com</td>\n",
       "      <td>4Cite Marketing</td>\n",
       "      <td>[(urlencode, collections/leather-accessories),...</td>\n",
       "      <td>None</td>\n",
       "      <td>[(mgemi.com,)]</td>\n",
       "    </tr>\n",
       "  </tbody>\n",
       "</table>\n",
       "</div>"
      ],
      "text/plain": [
       "         final_host       req_entity  \\\n",
       "2809299   mgemi.com  4Cite Marketing   \n",
       "6690664   mgemi.com  4Cite Marketing   \n",
       "7705077   mgemi.com  4Cite Marketing   \n",
       "9916225   mgemi.com  4Cite Marketing   \n",
       "10134735  mgemi.com  4Cite Marketing   \n",
       "\n",
       "                                                  url_leaks post_leaks  \\\n",
       "2809299   [(custom_map_1, mgemi.com), (urlencode, https:...       None   \n",
       "6690664   [(urlencode, pages/men), (custom_map_1, mgemi....       None   \n",
       "7705077   [(custom_map_1, mgemi.com), (urlencode, https:...       None   \n",
       "9916225   [(urlencode, pages/rewards), (custom_map_1, mg...       None   \n",
       "10134735  [(urlencode, collections/leather-accessories),...       None   \n",
       "\n",
       "           referer_leaks  \n",
       "2809299   [(mgemi.com,)]  \n",
       "6690664   [(mgemi.com,)]  \n",
       "7705077   [(mgemi.com,)]  \n",
       "9916225   [(mgemi.com,)]  \n",
       "10134735  [(mgemi.com,)]  "
      ]
     },
     "execution_count": 42,
     "metadata": {},
     "output_type": "execute_result"
    }
   ],
   "source": [
    "custom_map_1[['final_host', 'req_entity', 'url_leaks', 'post_leaks' ,'referer_leaks']].head(10)"
   ]
  },
  {
   "cell_type": "code",
   "execution_count": 43,
   "metadata": {},
   "outputs": [
    {
     "data": {
      "text/plain": [
       "req_entity\n",
       "4Cite Marketing    1\n",
       "Name: final_host, dtype: int64"
      ]
     },
     "execution_count": 43,
     "metadata": {},
     "output_type": "execute_result"
    }
   ],
   "source": [
    "custom_map_1.groupby('req_entity').final_host.nunique().sort_values(ascending=False)"
   ]
  }
 ],
 "metadata": {
  "kernelspec": {
   "display_name": ".venv",
   "language": "python",
   "name": "python3"
  },
  "language_info": {
   "codemirror_mode": {
    "name": "ipython",
    "version": 3
   },
   "file_extension": ".py",
   "mimetype": "text/x-python",
   "name": "python",
   "nbconvert_exporter": "python",
   "pygments_lexer": "ipython3",
   "version": "3.12.3"
  }
 },
 "nbformat": 4,
 "nbformat_minor": 2
}
