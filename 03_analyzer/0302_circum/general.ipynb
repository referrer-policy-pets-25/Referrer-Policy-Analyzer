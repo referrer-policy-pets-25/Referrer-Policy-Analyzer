{
 "cells": [
  {
   "cell_type": "code",
   "execution_count": null,
   "metadata": {},
   "outputs": [],
   "source": []
  },
  {
   "cell_type": "code",
   "execution_count": null,
   "metadata": {},
   "outputs": [],
   "source": [
    "import sys\n",
    "sys.path.append('../..')\n",
    "\n",
    "import pandas as pd\n",
    "\n",
    "from helpers.utils import (\n",
    "    clean_dataset,\n",
    "    count_url_components_10,\n",
    "    count_uniq_dom_RP\n",
    ")"
   ]
  },
  {
   "cell_type": "code",
   "execution_count": 2,
   "metadata": {},
   "outputs": [],
   "source": [
    "# file_path = '../../output/circum/2025-02-08_noAct_circum.parquet'\n",
    "file_path = '../../output/circum/2024-01-24_SF_circum.parquet'\n",
    "\n",
    "df = pd.read_parquet(file_path)"
   ]
  },
  {
   "cell_type": "code",
   "execution_count": 3,
   "metadata": {},
   "outputs": [],
   "source": [
    "intersection_file = '../../helpers/intersection'\n",
    "\n",
    "with open(intersection_file, \"r\") as file:\n",
    "    intersection = file.read().splitlines()"
   ]
  },
  {
   "cell_type": "code",
   "execution_count": 4,
   "metadata": {},
   "outputs": [],
   "source": [
    "df = clean_dataset(df, intersection)"
   ]
  },
  {
   "cell_type": "code",
   "execution_count": 6,
   "metadata": {},
   "outputs": [],
   "source": [
    "circum = df[(df.url_flag != \"Safe\")\n",
    "                | (df.ref_flag != \"Safe\")\n",
    "                | (df.post_flag != \"Safe\")] "
   ]
  },
  {
   "cell_type": "markdown",
   "metadata": {},
   "source": [
    "# RP Circum"
   ]
  },
  {
   "cell_type": "code",
   "execution_count": 7,
   "metadata": {},
   "outputs": [
    {
     "name": "stdout",
     "output_type": "stream",
     "text": [
      "no-referrer : 308\n",
      "same-origin : 388\n",
      "origin : 492\n",
      "strict-origin : 114\n",
      "strict-origin-when-cross-origin : 20447\n",
      "origin-when-cross-origin : 253\n",
      "no-referrer-when-downgrade : 0\n",
      "unsafe-url : 0\n"
     ]
    }
   ],
   "source": [
    "# Table 11\n",
    "count_uniq_dom_RP(circum)"
   ]
  },
  {
   "cell_type": "markdown",
   "metadata": {},
   "source": [
    "# Full vs Partial"
   ]
  },
  {
   "cell_type": "code",
   "execution_count": 8,
   "metadata": {},
   "outputs": [
    {
     "data": {
      "text/plain": [
       "url_flag\n",
       "Safe                      3978096\n",
       "Circumvention(full)        597915\n",
       "Circumvention(partial)       7526\n",
       "Name: count, dtype: int64"
      ]
     },
     "execution_count": 8,
     "metadata": {},
     "output_type": "execute_result"
    }
   ],
   "source": [
    "df.url_flag.value_counts(())"
   ]
  },
  {
   "cell_type": "code",
   "execution_count": 9,
   "metadata": {},
   "outputs": [],
   "source": [
    "full = df[(df.url_flag.str.contains('full'))\n",
    "                | (df.ref_flag.str.contains('full'))\n",
    "                | (df.post_flag.str.contains('full'))] "
   ]
  },
  {
   "cell_type": "code",
   "execution_count": 10,
   "metadata": {},
   "outputs": [
    {
     "name": "stdout",
     "output_type": "stream",
     "text": [
      "Total domains: 21084\n"
     ]
    }
   ],
   "source": [
    "# Total domains that circumvent RP with full URL\n",
    "print(\"Total domains:\", full.final_host.nunique())"
   ]
  },
  {
   "cell_type": "code",
   "execution_count": 11,
   "metadata": {},
   "outputs": [
    {
     "name": "stdout",
     "output_type": "stream",
     "text": [
      "Total domains: 2704\n"
     ]
    }
   ],
   "source": [
    "partial = df[(df.url_flag.str.contains('partial'))\n",
    "                | (df.ref_flag.str.contains('partial'))\n",
    "                | (df.post_flag.str.contains('partial'))]\n",
    "\n",
    "print(\"Total domains:\", partial.final_host.nunique())"
   ]
  },
  {
   "cell_type": "code",
   "execution_count": null,
   "metadata": {},
   "outputs": [
    {
     "name": "stdout",
     "output_type": "stream",
     "text": [
      "Total unique domains with path >= 10 chars: 2677\n",
      "Total unique domains with path and query >= 10 chars: 182\n",
      "Total unique domains with path or query >= 10 chars: 2704\n"
     ]
    }
   ],
   "source": [
    "c_path_count, c_path_query_count, c_path_or_query = count_url_components_10(partial)\n",
    "print(\"Total unique domains with path >= 10 chars:\", c_path_count)\n",
    "print(\"Total unique domains with path and query >= 10 chars:\", c_path_query_count)\n",
    "print(\"Total unique domains with path or query >= 10 chars:\", c_path_or_query)"
   ]
  }
 ],
 "metadata": {
  "kernelspec": {
   "display_name": ".venv",
   "language": "python",
   "name": "python3"
  },
  "language_info": {
   "codemirror_mode": {
    "name": "ipython",
    "version": 3
   },
   "file_extension": ".py",
   "mimetype": "text/x-python",
   "name": "python",
   "nbconvert_exporter": "python",
   "pygments_lexer": "ipython3",
   "version": "3.12.3"
  }
 },
 "nbformat": 4,
 "nbformat_minor": 2
}
